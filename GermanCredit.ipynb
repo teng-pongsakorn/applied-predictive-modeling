{
 "cells": [
  {
   "cell_type": "code",
   "execution_count": 1,
   "metadata": {},
   "outputs": [],
   "source": [
    "import numpy as np\n",
    "import pandas as pd\n",
    "import matplotlib.pyplot as plt\n",
    "import seaborn as sns\n",
    "%matplotlib inline"
   ]
  },
  {
   "cell_type": "code",
   "execution_count": 156,
   "metadata": {},
   "outputs": [],
   "source": [
    "from sklearn.model_selection import train_test_split, StratifiedKFold, RepeatedStratifiedKFold\n",
    "from sklearn.pipeline import make_pipeline\n",
    "from sklearn.model_selection import GridSearchCV, cross_val_score\n",
    "from sklearn.svm import SVC\n",
    "from sklearn.linear_model import LogisticRegression\n",
    "from sklearn.preprocessing import StandardScaler\n",
    "\n",
    "# cross validation methods\n",
    "from sklearn.model_selection import (StratifiedKFold, StratifiedShuffleSplit, \n",
    "                                     RepeatedStratifiedKFold, LeaveOneOut)"
   ]
  },
  {
   "cell_type": "code",
   "execution_count": 185,
   "metadata": {},
   "outputs": [],
   "source": [
    "from scipy.stats import ttest_ind"
   ]
  },
  {
   "cell_type": "code",
   "execution_count": 4,
   "metadata": {},
   "outputs": [
    {
     "data": {
      "text/html": [
       "<div>\n",
       "<style scoped>\n",
       "    .dataframe tbody tr th:only-of-type {\n",
       "        vertical-align: middle;\n",
       "    }\n",
       "\n",
       "    .dataframe tbody tr th {\n",
       "        vertical-align: top;\n",
       "    }\n",
       "\n",
       "    .dataframe thead th {\n",
       "        text-align: right;\n",
       "    }\n",
       "</style>\n",
       "<table border=\"1\" class=\"dataframe\">\n",
       "  <thead>\n",
       "    <tr style=\"text-align: right;\">\n",
       "      <th></th>\n",
       "      <th>Duration</th>\n",
       "      <th>Amount</th>\n",
       "      <th>InstallmentRatePercentage</th>\n",
       "      <th>ResidenceDuration</th>\n",
       "      <th>Age</th>\n",
       "      <th>NumberExistingCredits</th>\n",
       "      <th>NumberPeopleMaintenance</th>\n",
       "      <th>Telephone</th>\n",
       "      <th>ForeignWorker</th>\n",
       "      <th>Class</th>\n",
       "      <th>...</th>\n",
       "      <th>OtherInstallmentPlans.Bank</th>\n",
       "      <th>OtherInstallmentPlans.Stores</th>\n",
       "      <th>OtherInstallmentPlans.None</th>\n",
       "      <th>Housing.Rent</th>\n",
       "      <th>Housing.Own</th>\n",
       "      <th>Housing.ForFree</th>\n",
       "      <th>Job.UnemployedUnskilled</th>\n",
       "      <th>Job.UnskilledResident</th>\n",
       "      <th>Job.SkilledEmployee</th>\n",
       "      <th>Job.Management.SelfEmp.HighlyQualified</th>\n",
       "    </tr>\n",
       "  </thead>\n",
       "  <tbody>\n",
       "    <tr>\n",
       "      <th>1</th>\n",
       "      <td>6</td>\n",
       "      <td>1169</td>\n",
       "      <td>4</td>\n",
       "      <td>4</td>\n",
       "      <td>67</td>\n",
       "      <td>2</td>\n",
       "      <td>1</td>\n",
       "      <td>0.0</td>\n",
       "      <td>1.0</td>\n",
       "      <td>Good</td>\n",
       "      <td>...</td>\n",
       "      <td>0.0</td>\n",
       "      <td>0.0</td>\n",
       "      <td>1.0</td>\n",
       "      <td>0.0</td>\n",
       "      <td>1.0</td>\n",
       "      <td>0.0</td>\n",
       "      <td>0.0</td>\n",
       "      <td>0.0</td>\n",
       "      <td>1.0</td>\n",
       "      <td>0.0</td>\n",
       "    </tr>\n",
       "    <tr>\n",
       "      <th>2</th>\n",
       "      <td>48</td>\n",
       "      <td>5951</td>\n",
       "      <td>2</td>\n",
       "      <td>2</td>\n",
       "      <td>22</td>\n",
       "      <td>1</td>\n",
       "      <td>1</td>\n",
       "      <td>1.0</td>\n",
       "      <td>1.0</td>\n",
       "      <td>Bad</td>\n",
       "      <td>...</td>\n",
       "      <td>0.0</td>\n",
       "      <td>0.0</td>\n",
       "      <td>1.0</td>\n",
       "      <td>0.0</td>\n",
       "      <td>1.0</td>\n",
       "      <td>0.0</td>\n",
       "      <td>0.0</td>\n",
       "      <td>0.0</td>\n",
       "      <td>1.0</td>\n",
       "      <td>0.0</td>\n",
       "    </tr>\n",
       "    <tr>\n",
       "      <th>3</th>\n",
       "      <td>12</td>\n",
       "      <td>2096</td>\n",
       "      <td>2</td>\n",
       "      <td>3</td>\n",
       "      <td>49</td>\n",
       "      <td>1</td>\n",
       "      <td>2</td>\n",
       "      <td>1.0</td>\n",
       "      <td>1.0</td>\n",
       "      <td>Good</td>\n",
       "      <td>...</td>\n",
       "      <td>0.0</td>\n",
       "      <td>0.0</td>\n",
       "      <td>1.0</td>\n",
       "      <td>0.0</td>\n",
       "      <td>1.0</td>\n",
       "      <td>0.0</td>\n",
       "      <td>0.0</td>\n",
       "      <td>1.0</td>\n",
       "      <td>0.0</td>\n",
       "      <td>0.0</td>\n",
       "    </tr>\n",
       "    <tr>\n",
       "      <th>4</th>\n",
       "      <td>42</td>\n",
       "      <td>7882</td>\n",
       "      <td>2</td>\n",
       "      <td>4</td>\n",
       "      <td>45</td>\n",
       "      <td>1</td>\n",
       "      <td>2</td>\n",
       "      <td>1.0</td>\n",
       "      <td>1.0</td>\n",
       "      <td>Good</td>\n",
       "      <td>...</td>\n",
       "      <td>0.0</td>\n",
       "      <td>0.0</td>\n",
       "      <td>1.0</td>\n",
       "      <td>0.0</td>\n",
       "      <td>0.0</td>\n",
       "      <td>1.0</td>\n",
       "      <td>0.0</td>\n",
       "      <td>0.0</td>\n",
       "      <td>1.0</td>\n",
       "      <td>0.0</td>\n",
       "    </tr>\n",
       "    <tr>\n",
       "      <th>5</th>\n",
       "      <td>24</td>\n",
       "      <td>4870</td>\n",
       "      <td>3</td>\n",
       "      <td>4</td>\n",
       "      <td>53</td>\n",
       "      <td>2</td>\n",
       "      <td>2</td>\n",
       "      <td>1.0</td>\n",
       "      <td>1.0</td>\n",
       "      <td>Bad</td>\n",
       "      <td>...</td>\n",
       "      <td>0.0</td>\n",
       "      <td>0.0</td>\n",
       "      <td>1.0</td>\n",
       "      <td>0.0</td>\n",
       "      <td>0.0</td>\n",
       "      <td>1.0</td>\n",
       "      <td>0.0</td>\n",
       "      <td>0.0</td>\n",
       "      <td>1.0</td>\n",
       "      <td>0.0</td>\n",
       "    </tr>\n",
       "  </tbody>\n",
       "</table>\n",
       "<p>5 rows × 62 columns</p>\n",
       "</div>"
      ],
      "text/plain": [
       "   Duration  Amount  InstallmentRatePercentage  ResidenceDuration  Age  \\\n",
       "1         6    1169                          4                  4   67   \n",
       "2        48    5951                          2                  2   22   \n",
       "3        12    2096                          2                  3   49   \n",
       "4        42    7882                          2                  4   45   \n",
       "5        24    4870                          3                  4   53   \n",
       "\n",
       "   NumberExistingCredits  NumberPeopleMaintenance  Telephone  ForeignWorker  \\\n",
       "1                      2                        1        0.0            1.0   \n",
       "2                      1                        1        1.0            1.0   \n",
       "3                      1                        2        1.0            1.0   \n",
       "4                      1                        2        1.0            1.0   \n",
       "5                      2                        2        1.0            1.0   \n",
       "\n",
       "  Class                   ...                    OtherInstallmentPlans.Bank  \\\n",
       "1  Good                   ...                                           0.0   \n",
       "2   Bad                   ...                                           0.0   \n",
       "3  Good                   ...                                           0.0   \n",
       "4  Good                   ...                                           0.0   \n",
       "5   Bad                   ...                                           0.0   \n",
       "\n",
       "   OtherInstallmentPlans.Stores  OtherInstallmentPlans.None  Housing.Rent  \\\n",
       "1                           0.0                         1.0           0.0   \n",
       "2                           0.0                         1.0           0.0   \n",
       "3                           0.0                         1.0           0.0   \n",
       "4                           0.0                         1.0           0.0   \n",
       "5                           0.0                         1.0           0.0   \n",
       "\n",
       "   Housing.Own  Housing.ForFree  Job.UnemployedUnskilled  \\\n",
       "1          1.0              0.0                      0.0   \n",
       "2          1.0              0.0                      0.0   \n",
       "3          1.0              0.0                      0.0   \n",
       "4          0.0              1.0                      0.0   \n",
       "5          0.0              1.0                      0.0   \n",
       "\n",
       "   Job.UnskilledResident  Job.SkilledEmployee  \\\n",
       "1                    0.0                  1.0   \n",
       "2                    0.0                  1.0   \n",
       "3                    1.0                  0.0   \n",
       "4                    0.0                  1.0   \n",
       "5                    0.0                  1.0   \n",
       "\n",
       "   Job.Management.SelfEmp.HighlyQualified  \n",
       "1                                     0.0  \n",
       "2                                     0.0  \n",
       "3                                     0.0  \n",
       "4                                     0.0  \n",
       "5                                     0.0  \n",
       "\n",
       "[5 rows x 62 columns]"
      ]
     },
     "execution_count": 4,
     "metadata": {},
     "output_type": "execute_result"
    }
   ],
   "source": [
    "data = pd.read_csv('data/GermanCredit/GermanCredit.csv', index_col=0)\n",
    "data.head()"
   ]
  },
  {
   "cell_type": "code",
   "execution_count": 5,
   "metadata": {},
   "outputs": [
    {
     "name": "stdout",
     "output_type": "stream",
     "text": [
      "<class 'pandas.core.frame.DataFrame'>\n",
      "Int64Index: 1000 entries, 1 to 1000\n",
      "Data columns (total 62 columns):\n",
      "Duration                                  1000 non-null int64\n",
      "Amount                                    1000 non-null int64\n",
      "InstallmentRatePercentage                 1000 non-null int64\n",
      "ResidenceDuration                         1000 non-null int64\n",
      "Age                                       1000 non-null int64\n",
      "NumberExistingCredits                     1000 non-null int64\n",
      "NumberPeopleMaintenance                   1000 non-null int64\n",
      "Telephone                                 1000 non-null float64\n",
      "ForeignWorker                             1000 non-null float64\n",
      "Class                                     1000 non-null object\n",
      "CheckingAccountStatus.lt.0                1000 non-null float64\n",
      "CheckingAccountStatus.0.to.200            1000 non-null float64\n",
      "CheckingAccountStatus.gt.200              1000 non-null float64\n",
      "CheckingAccountStatus.none                1000 non-null float64\n",
      "CreditHistory.NoCredit.AllPaid            1000 non-null float64\n",
      "CreditHistory.ThisBank.AllPaid            1000 non-null float64\n",
      "CreditHistory.PaidDuly                    1000 non-null float64\n",
      "CreditHistory.Delay                       1000 non-null float64\n",
      "CreditHistory.Critical                    1000 non-null float64\n",
      "Purpose.NewCar                            1000 non-null float64\n",
      "Purpose.UsedCar                           1000 non-null float64\n",
      "Purpose.Furniture.Equipment               1000 non-null float64\n",
      "Purpose.Radio.Television                  1000 non-null float64\n",
      "Purpose.DomesticAppliance                 1000 non-null float64\n",
      "Purpose.Repairs                           1000 non-null float64\n",
      "Purpose.Education                         1000 non-null float64\n",
      "Purpose.Vacation                          1000 non-null float64\n",
      "Purpose.Retraining                        1000 non-null float64\n",
      "Purpose.Business                          1000 non-null float64\n",
      "Purpose.Other                             1000 non-null float64\n",
      "SavingsAccountBonds.lt.100                1000 non-null float64\n",
      "SavingsAccountBonds.100.to.500            1000 non-null float64\n",
      "SavingsAccountBonds.500.to.1000           1000 non-null float64\n",
      "SavingsAccountBonds.gt.1000               1000 non-null float64\n",
      "SavingsAccountBonds.Unknown               1000 non-null float64\n",
      "EmploymentDuration.lt.1                   1000 non-null float64\n",
      "EmploymentDuration.1.to.4                 1000 non-null float64\n",
      "EmploymentDuration.4.to.7                 1000 non-null float64\n",
      "EmploymentDuration.gt.7                   1000 non-null float64\n",
      "EmploymentDuration.Unemployed             1000 non-null float64\n",
      "Personal.Male.Divorced.Seperated          1000 non-null float64\n",
      "Personal.Female.NotSingle                 1000 non-null float64\n",
      "Personal.Male.Single                      1000 non-null float64\n",
      "Personal.Male.Married.Widowed             1000 non-null float64\n",
      "Personal.Female.Single                    1000 non-null float64\n",
      "OtherDebtorsGuarantors.None               1000 non-null float64\n",
      "OtherDebtorsGuarantors.CoApplicant        1000 non-null float64\n",
      "OtherDebtorsGuarantors.Guarantor          1000 non-null float64\n",
      "Property.RealEstate                       1000 non-null float64\n",
      "Property.Insurance                        1000 non-null float64\n",
      "Property.CarOther                         1000 non-null float64\n",
      "Property.Unknown                          1000 non-null float64\n",
      "OtherInstallmentPlans.Bank                1000 non-null float64\n",
      "OtherInstallmentPlans.Stores              1000 non-null float64\n",
      "OtherInstallmentPlans.None                1000 non-null float64\n",
      "Housing.Rent                              1000 non-null float64\n",
      "Housing.Own                               1000 non-null float64\n",
      "Housing.ForFree                           1000 non-null float64\n",
      "Job.UnemployedUnskilled                   1000 non-null float64\n",
      "Job.UnskilledResident                     1000 non-null float64\n",
      "Job.SkilledEmployee                       1000 non-null float64\n",
      "Job.Management.SelfEmp.HighlyQualified    1000 non-null float64\n",
      "dtypes: float64(54), int64(7), object(1)\n",
      "memory usage: 492.2+ KB\n"
     ]
    }
   ],
   "source": [
    "data.info()"
   ]
  },
  {
   "cell_type": "code",
   "execution_count": 6,
   "metadata": {},
   "outputs": [
    {
     "data": {
      "text/plain": [
       "2      54\n",
       "4       3\n",
       "1       2\n",
       "53      1\n",
       "33      1\n",
       "921     1\n",
       "dtype: int64"
      ]
     },
     "execution_count": 6,
     "metadata": {},
     "output_type": "execute_result"
    }
   ],
   "source": [
    "data.nunique().value_counts()"
   ]
  },
  {
   "cell_type": "code",
   "execution_count": 13,
   "metadata": {},
   "outputs": [
    {
     "data": {
      "text/plain": [
       "(1000, 62)"
      ]
     },
     "execution_count": 13,
     "metadata": {},
     "output_type": "execute_result"
    }
   ],
   "source": [
    "data.shape"
   ]
  },
  {
   "cell_type": "code",
   "execution_count": 14,
   "metadata": {},
   "outputs": [
    {
     "data": {
      "text/plain": [
       "Good    0.7\n",
       "Bad     0.3\n",
       "Name: Class, dtype: float64"
      ]
     },
     "execution_count": 14,
     "metadata": {},
     "output_type": "execute_result"
    }
   ],
   "source": [
    "data['Class'].value_counts(normalize=True)"
   ]
  },
  {
   "cell_type": "code",
   "execution_count": 17,
   "metadata": {},
   "outputs": [],
   "source": [
    "data.columns = data.columns.str.replace('.', '_')"
   ]
  },
  {
   "cell_type": "code",
   "execution_count": 24,
   "metadata": {},
   "outputs": [
    {
     "data": {
      "text/plain": [
       "((1000,), (1000, 52))"
      ]
     },
     "execution_count": 24,
     "metadata": {},
     "output_type": "execute_result"
    }
   ],
   "source": [
    "y = data['Class'].values\n",
    "X = data.loc[:, data.columns.str.contains('_')]    # all dummy variables from 11 categorical features\n",
    "\n",
    "y.shape, X.shape"
   ]
  },
  {
   "cell_type": "code",
   "execution_count": 25,
   "metadata": {},
   "outputs": [
    {
     "data": {
      "text/html": [
       "<div>\n",
       "<style scoped>\n",
       "    .dataframe tbody tr th:only-of-type {\n",
       "        vertical-align: middle;\n",
       "    }\n",
       "\n",
       "    .dataframe tbody tr th {\n",
       "        vertical-align: top;\n",
       "    }\n",
       "\n",
       "    .dataframe thead th {\n",
       "        text-align: right;\n",
       "    }\n",
       "</style>\n",
       "<table border=\"1\" class=\"dataframe\">\n",
       "  <thead>\n",
       "    <tr style=\"text-align: right;\">\n",
       "      <th></th>\n",
       "      <th>CheckingAccountStatus_lt_0</th>\n",
       "      <th>CheckingAccountStatus_0_to_200</th>\n",
       "      <th>CheckingAccountStatus_gt_200</th>\n",
       "      <th>CheckingAccountStatus_none</th>\n",
       "      <th>CreditHistory_NoCredit_AllPaid</th>\n",
       "      <th>CreditHistory_ThisBank_AllPaid</th>\n",
       "      <th>CreditHistory_PaidDuly</th>\n",
       "      <th>CreditHistory_Delay</th>\n",
       "      <th>CreditHistory_Critical</th>\n",
       "      <th>Purpose_NewCar</th>\n",
       "      <th>...</th>\n",
       "      <th>OtherInstallmentPlans_Bank</th>\n",
       "      <th>OtherInstallmentPlans_Stores</th>\n",
       "      <th>OtherInstallmentPlans_None</th>\n",
       "      <th>Housing_Rent</th>\n",
       "      <th>Housing_Own</th>\n",
       "      <th>Housing_ForFree</th>\n",
       "      <th>Job_UnemployedUnskilled</th>\n",
       "      <th>Job_UnskilledResident</th>\n",
       "      <th>Job_SkilledEmployee</th>\n",
       "      <th>Job_Management_SelfEmp_HighlyQualified</th>\n",
       "    </tr>\n",
       "  </thead>\n",
       "  <tbody>\n",
       "    <tr>\n",
       "      <th>1</th>\n",
       "      <td>1.0</td>\n",
       "      <td>0.0</td>\n",
       "      <td>0.0</td>\n",
       "      <td>0.0</td>\n",
       "      <td>0.0</td>\n",
       "      <td>0.0</td>\n",
       "      <td>0.0</td>\n",
       "      <td>0.0</td>\n",
       "      <td>1.0</td>\n",
       "      <td>0.0</td>\n",
       "      <td>...</td>\n",
       "      <td>0.0</td>\n",
       "      <td>0.0</td>\n",
       "      <td>1.0</td>\n",
       "      <td>0.0</td>\n",
       "      <td>1.0</td>\n",
       "      <td>0.0</td>\n",
       "      <td>0.0</td>\n",
       "      <td>0.0</td>\n",
       "      <td>1.0</td>\n",
       "      <td>0.0</td>\n",
       "    </tr>\n",
       "    <tr>\n",
       "      <th>2</th>\n",
       "      <td>0.0</td>\n",
       "      <td>1.0</td>\n",
       "      <td>0.0</td>\n",
       "      <td>0.0</td>\n",
       "      <td>0.0</td>\n",
       "      <td>0.0</td>\n",
       "      <td>1.0</td>\n",
       "      <td>0.0</td>\n",
       "      <td>0.0</td>\n",
       "      <td>0.0</td>\n",
       "      <td>...</td>\n",
       "      <td>0.0</td>\n",
       "      <td>0.0</td>\n",
       "      <td>1.0</td>\n",
       "      <td>0.0</td>\n",
       "      <td>1.0</td>\n",
       "      <td>0.0</td>\n",
       "      <td>0.0</td>\n",
       "      <td>0.0</td>\n",
       "      <td>1.0</td>\n",
       "      <td>0.0</td>\n",
       "    </tr>\n",
       "    <tr>\n",
       "      <th>3</th>\n",
       "      <td>0.0</td>\n",
       "      <td>0.0</td>\n",
       "      <td>0.0</td>\n",
       "      <td>1.0</td>\n",
       "      <td>0.0</td>\n",
       "      <td>0.0</td>\n",
       "      <td>0.0</td>\n",
       "      <td>0.0</td>\n",
       "      <td>1.0</td>\n",
       "      <td>0.0</td>\n",
       "      <td>...</td>\n",
       "      <td>0.0</td>\n",
       "      <td>0.0</td>\n",
       "      <td>1.0</td>\n",
       "      <td>0.0</td>\n",
       "      <td>1.0</td>\n",
       "      <td>0.0</td>\n",
       "      <td>0.0</td>\n",
       "      <td>1.0</td>\n",
       "      <td>0.0</td>\n",
       "      <td>0.0</td>\n",
       "    </tr>\n",
       "    <tr>\n",
       "      <th>4</th>\n",
       "      <td>1.0</td>\n",
       "      <td>0.0</td>\n",
       "      <td>0.0</td>\n",
       "      <td>0.0</td>\n",
       "      <td>0.0</td>\n",
       "      <td>0.0</td>\n",
       "      <td>1.0</td>\n",
       "      <td>0.0</td>\n",
       "      <td>0.0</td>\n",
       "      <td>0.0</td>\n",
       "      <td>...</td>\n",
       "      <td>0.0</td>\n",
       "      <td>0.0</td>\n",
       "      <td>1.0</td>\n",
       "      <td>0.0</td>\n",
       "      <td>0.0</td>\n",
       "      <td>1.0</td>\n",
       "      <td>0.0</td>\n",
       "      <td>0.0</td>\n",
       "      <td>1.0</td>\n",
       "      <td>0.0</td>\n",
       "    </tr>\n",
       "    <tr>\n",
       "      <th>5</th>\n",
       "      <td>1.0</td>\n",
       "      <td>0.0</td>\n",
       "      <td>0.0</td>\n",
       "      <td>0.0</td>\n",
       "      <td>0.0</td>\n",
       "      <td>0.0</td>\n",
       "      <td>0.0</td>\n",
       "      <td>1.0</td>\n",
       "      <td>0.0</td>\n",
       "      <td>1.0</td>\n",
       "      <td>...</td>\n",
       "      <td>0.0</td>\n",
       "      <td>0.0</td>\n",
       "      <td>1.0</td>\n",
       "      <td>0.0</td>\n",
       "      <td>0.0</td>\n",
       "      <td>1.0</td>\n",
       "      <td>0.0</td>\n",
       "      <td>0.0</td>\n",
       "      <td>1.0</td>\n",
       "      <td>0.0</td>\n",
       "    </tr>\n",
       "  </tbody>\n",
       "</table>\n",
       "<p>5 rows × 52 columns</p>\n",
       "</div>"
      ],
      "text/plain": [
       "   CheckingAccountStatus_lt_0  CheckingAccountStatus_0_to_200  \\\n",
       "1                         1.0                             0.0   \n",
       "2                         0.0                             1.0   \n",
       "3                         0.0                             0.0   \n",
       "4                         1.0                             0.0   \n",
       "5                         1.0                             0.0   \n",
       "\n",
       "   CheckingAccountStatus_gt_200  CheckingAccountStatus_none  \\\n",
       "1                           0.0                         0.0   \n",
       "2                           0.0                         0.0   \n",
       "3                           0.0                         1.0   \n",
       "4                           0.0                         0.0   \n",
       "5                           0.0                         0.0   \n",
       "\n",
       "   CreditHistory_NoCredit_AllPaid  CreditHistory_ThisBank_AllPaid  \\\n",
       "1                             0.0                             0.0   \n",
       "2                             0.0                             0.0   \n",
       "3                             0.0                             0.0   \n",
       "4                             0.0                             0.0   \n",
       "5                             0.0                             0.0   \n",
       "\n",
       "   CreditHistory_PaidDuly  CreditHistory_Delay  CreditHistory_Critical  \\\n",
       "1                     0.0                  0.0                     1.0   \n",
       "2                     1.0                  0.0                     0.0   \n",
       "3                     0.0                  0.0                     1.0   \n",
       "4                     1.0                  0.0                     0.0   \n",
       "5                     0.0                  1.0                     0.0   \n",
       "\n",
       "   Purpose_NewCar                   ...                    \\\n",
       "1             0.0                   ...                     \n",
       "2             0.0                   ...                     \n",
       "3             0.0                   ...                     \n",
       "4             0.0                   ...                     \n",
       "5             1.0                   ...                     \n",
       "\n",
       "   OtherInstallmentPlans_Bank  OtherInstallmentPlans_Stores  \\\n",
       "1                         0.0                           0.0   \n",
       "2                         0.0                           0.0   \n",
       "3                         0.0                           0.0   \n",
       "4                         0.0                           0.0   \n",
       "5                         0.0                           0.0   \n",
       "\n",
       "   OtherInstallmentPlans_None  Housing_Rent  Housing_Own  Housing_ForFree  \\\n",
       "1                         1.0           0.0          1.0              0.0   \n",
       "2                         1.0           0.0          1.0              0.0   \n",
       "3                         1.0           0.0          1.0              0.0   \n",
       "4                         1.0           0.0          0.0              1.0   \n",
       "5                         1.0           0.0          0.0              1.0   \n",
       "\n",
       "   Job_UnemployedUnskilled  Job_UnskilledResident  Job_SkilledEmployee  \\\n",
       "1                      0.0                    0.0                  1.0   \n",
       "2                      0.0                    0.0                  1.0   \n",
       "3                      0.0                    1.0                  0.0   \n",
       "4                      0.0                    0.0                  1.0   \n",
       "5                      0.0                    0.0                  1.0   \n",
       "\n",
       "   Job_Management_SelfEmp_HighlyQualified  \n",
       "1                                     0.0  \n",
       "2                                     0.0  \n",
       "3                                     0.0  \n",
       "4                                     0.0  \n",
       "5                                     0.0  \n",
       "\n",
       "[5 rows x 52 columns]"
      ]
     },
     "execution_count": 25,
     "metadata": {},
     "output_type": "execute_result"
    }
   ],
   "source": [
    "X.head()"
   ]
  },
  {
   "cell_type": "markdown",
   "metadata": {},
   "source": [
    "#### subsampling methods\n",
    "* stratified 10-folds cv\n",
    "* 5 repeated stratified 10-folds cv\n",
    "* 50 repeated stratified train-test split\n",
    "* Leave One Out cv"
   ]
  },
  {
   "cell_type": "code",
   "execution_count": 56,
   "metadata": {},
   "outputs": [],
   "source": [
    "test_size = .2\n",
    "\n",
    "sk10 = StratifiedKFold(n_splits=10, random_state=42, shuffle=True)\n",
    "r5sk10 = RepeatedStratifiedKFold(n_repeats=5, n_splits=10, random_state=42)\n",
    "ss50 = StratifiedShuffleSplit(n_splits=50, test_size=test_size, random_state=42)\n",
    "loo = LeaveOneOut()\n",
    "\n",
    "cv_choices = {\n",
    "    '10fold': sk10,\n",
    "    '5repeated_10folds': r5sk10,\n",
    "    '50splits': ss50,\n",
    "    'leave_one_out': loo,\n",
    "}"
   ]
  },
  {
   "cell_type": "markdown",
   "metadata": {},
   "source": [
    "### Splitting train/test"
   ]
  },
  {
   "cell_type": "code",
   "execution_count": 42,
   "metadata": {},
   "outputs": [
    {
     "data": {
      "text/plain": [
       "((800, 52), (200, 52))"
      ]
     },
     "execution_count": 42,
     "metadata": {},
     "output_type": "execute_result"
    }
   ],
   "source": [
    "X_train, X_test, y_train, y_test = train_test_split(X, y, test_size=.2, \n",
    "                                                    stratify=y, random_state=42)\n",
    "\n",
    "X_train.shape, X_test.shape"
   ]
  },
  {
   "cell_type": "markdown",
   "metadata": {},
   "source": [
    "#### Within model comparison"
   ]
  },
  {
   "cell_type": "code",
   "execution_count": 46,
   "metadata": {},
   "outputs": [],
   "source": [
    "svc_pipe = make_pipeline(StandardScaler(), SVC(gamma='scale'))\n",
    "\n",
    "params = {'svc__C': np.logspace(-2, 7, num=10, base=2), }"
   ]
  },
  {
   "cell_type": "code",
   "execution_count": 61,
   "metadata": {},
   "outputs": [
    {
     "name": "stdout",
     "output_type": "stream",
     "text": [
      "Starting: 10fold training\n",
      "-------------------------\n",
      "Fitting 10 folds for each of 10 candidates, totalling 100 fits\n"
     ]
    },
    {
     "name": "stderr",
     "output_type": "stream",
     "text": [
      "[Parallel(n_jobs=4)]: Using backend LokyBackend with 4 concurrent workers.\n",
      "[Parallel(n_jobs=4)]: Done  42 tasks      | elapsed:    5.3s\n",
      "[Parallel(n_jobs=4)]: Done 100 out of 100 | elapsed:    8.1s finished\n",
      "[Parallel(n_jobs=4)]: Using backend LokyBackend with 4 concurrent workers.\n"
     ]
    },
    {
     "name": "stdout",
     "output_type": "stream",
     "text": [
      "==================================================\n",
      "\n",
      "Starting: 5repeated_10folds training\n",
      "------------------------------------\n",
      "Fitting 50 folds for each of 10 candidates, totalling 500 fits\n"
     ]
    },
    {
     "name": "stderr",
     "output_type": "stream",
     "text": [
      "[Parallel(n_jobs=4)]: Done  76 tasks      | elapsed:    3.2s\n",
      "[Parallel(n_jobs=4)]: Done 376 tasks      | elapsed:   16.6s\n",
      "[Parallel(n_jobs=4)]: Done 500 out of 500 | elapsed:   22.6s finished\n",
      "[Parallel(n_jobs=4)]: Using backend LokyBackend with 4 concurrent workers.\n"
     ]
    },
    {
     "name": "stdout",
     "output_type": "stream",
     "text": [
      "==================================================\n",
      "\n",
      "Starting: 50splits training\n",
      "---------------------------\n",
      "Fitting 50 folds for each of 10 candidates, totalling 500 fits\n"
     ]
    },
    {
     "name": "stderr",
     "output_type": "stream",
     "text": [
      "[Parallel(n_jobs=4)]: Done  76 tasks      | elapsed:    2.6s\n",
      "[Parallel(n_jobs=4)]: Done 376 tasks      | elapsed:   14.0s\n",
      "[Parallel(n_jobs=4)]: Done 500 out of 500 | elapsed:   19.1s finished\n",
      "[Parallel(n_jobs=4)]: Using backend LokyBackend with 4 concurrent workers.\n"
     ]
    },
    {
     "name": "stdout",
     "output_type": "stream",
     "text": [
      "==================================================\n",
      "\n",
      "Starting: leave_one_out training\n",
      "--------------------------------\n",
      "Fitting 800 folds for each of 10 candidates, totalling 8000 fits\n"
     ]
    },
    {
     "name": "stderr",
     "output_type": "stream",
     "text": [
      "[Parallel(n_jobs=4)]: Done  76 tasks      | elapsed:    3.4s\n",
      "[Parallel(n_jobs=4)]: Done 376 tasks      | elapsed:   16.7s\n",
      "[Parallel(n_jobs=4)]: Done 876 tasks      | elapsed:   38.6s\n",
      "[Parallel(n_jobs=4)]: Done 1576 tasks      | elapsed:  1.2min\n",
      "[Parallel(n_jobs=4)]: Done 2476 tasks      | elapsed:  1.8min\n",
      "[Parallel(n_jobs=4)]: Done 3576 tasks      | elapsed:  2.7min\n",
      "[Parallel(n_jobs=4)]: Done 4876 tasks      | elapsed:  3.9min\n",
      "[Parallel(n_jobs=4)]: Done 6376 tasks      | elapsed:  5.3min\n"
     ]
    },
    {
     "name": "stdout",
     "output_type": "stream",
     "text": [
      "==================================================\n",
      "\n"
     ]
    },
    {
     "name": "stderr",
     "output_type": "stream",
     "text": [
      "[Parallel(n_jobs=4)]: Done 8000 out of 8000 | elapsed:  6.9min finished\n"
     ]
    }
   ],
   "source": [
    "cv_results = {}\n",
    "\n",
    "for cv in cv_choices:\n",
    "    print(\"Starting: {} training\".format(cv))\n",
    "    print('-'*(len(cv)+19))\n",
    "    svc_grid = GridSearchCV(svc_pipe, params, scoring='accuracy', n_jobs=4, \n",
    "                            cv=cv_choices[cv], verbose=1, return_train_score=True)\n",
    "    svc_grid.fit(X_train, y_train)\n",
    "    cv_results[cv] = pd.DataFrame(svc_grid.cv_results_)\n",
    "    print('='*50)\n",
    "    print()"
   ]
  },
  {
   "cell_type": "code",
   "execution_count": 62,
   "metadata": {},
   "outputs": [
    {
     "data": {
      "text/plain": [
       "dict_keys(['10fold', '5repeated_10folds', '50splits', 'leave_one_out'])"
      ]
     },
     "execution_count": 62,
     "metadata": {},
     "output_type": "execute_result"
    }
   ],
   "source": [
    "cv_results.keys()"
   ]
  },
  {
   "cell_type": "code",
   "execution_count": 63,
   "metadata": {},
   "outputs": [],
   "source": [
    "a = cv_results['10fold']"
   ]
  },
  {
   "cell_type": "code",
   "execution_count": 65,
   "metadata": {},
   "outputs": [
    {
     "data": {
      "text/plain": [
       "Index(['mean_fit_time', 'mean_score_time', 'mean_test_score',\n",
       "       'mean_train_score', 'param_svc__C', 'params', 'rank_test_score',\n",
       "       'split0_test_score', 'split0_train_score', 'split1_test_score',\n",
       "       'split1_train_score', 'split2_test_score', 'split2_train_score',\n",
       "       'split3_test_score', 'split3_train_score', 'split4_test_score',\n",
       "       'split4_train_score', 'split5_test_score', 'split5_train_score',\n",
       "       'split6_test_score', 'split6_train_score', 'split7_test_score',\n",
       "       'split7_train_score', 'split8_test_score', 'split8_train_score',\n",
       "       'split9_test_score', 'split9_train_score', 'std_fit_time',\n",
       "       'std_score_time', 'std_test_score', 'std_train_score'],\n",
       "      dtype='object')"
      ]
     },
     "execution_count": 65,
     "metadata": {},
     "output_type": "execute_result"
    }
   ],
   "source": [
    "a.columns"
   ]
  },
  {
   "cell_type": "code",
   "execution_count": 125,
   "metadata": {},
   "outputs": [],
   "source": [
    "def plot_train_and_valid_scores(cv_df, ax=None, error_bar=True):\n",
    "    ax = ax or plt.gca()\n",
    "    \n",
    "    xs = cv_df['param_svc__C'].values.astype(float)\n",
    "    \n",
    "    n_splits = cv_df.columns.str.contains('split').sum() / 2\n",
    "    \n",
    "    val_2sd = cv_df['std_test_score'].values/np.sqrt(n_splits)  # 1 S.E.\n",
    "    val_scores = cv_df['mean_test_score'].values\n",
    "    tr_scores = cv_df['mean_train_score'].values\n",
    "\n",
    "\n",
    "    if error_bar:\n",
    "        ax.errorbar(xs, val_scores, val_2sd, linestyle='--', \n",
    "                    marker='.', label='valid', uplims=True, lolims=True)\n",
    "    else:\n",
    "        ax.plot(xs, val_scores, '.--', label='valid')\n",
    "        \n",
    "    ax.plot(xs, tr_scores, 's-', label='train')\n",
    "    ax.semilogx(basex=2)\n",
    "    ax.legend(loc='best')\n",
    "    return ax"
   ]
  },
  {
   "cell_type": "code",
   "execution_count": 126,
   "metadata": {},
   "outputs": [
    {
     "data": {
      "image/png": "[encoded data removed]",
      "text/plain": [
       "<Figure size 720x576 with 4 Axes>"
      ]
     },
     "metadata": {},
     "output_type": "display_data"
    }
   ],
   "source": [
    "fig, axs = plt.subplots(nrows=2, ncols=2, figsize=(10, 8),\n",
    "                        sharex=True, sharey=True)\n",
    "\n",
    "n_splits = [10, 50, 50, 800]\n",
    "\n",
    "error_bars = {'leave_one_out': False}\n",
    "for cv, ax in zip(cv_results, axs.flat):\n",
    "    ax = plot_train_and_valid_scores(cv_results[cv], ax=ax, \n",
    "                                     error_bar=error_bars.get(cv, True))\n",
    "    ax.set_title(cv)\n",
    "    \n",
    "fig.tight_layout()"
   ]
  },
  {
   "cell_type": "code",
   "execution_count": 115,
   "metadata": {},
   "outputs": [
    {
     "name": "stdout",
     "output_type": "stream",
     "text": [
      "10fold (10, 31)\n",
      "5repeated_10folds (10, 111)\n",
      "50splits (10, 111)\n",
      "leave_one_out (10, 1611)\n"
     ]
    }
   ],
   "source": [
    "for cv in cv_results:\n",
    "    print(cv, cv_results[cv].shape)"
   ]
  },
  {
   "cell_type": "code",
   "execution_count": 123,
   "metadata": {},
   "outputs": [
    {
     "data": {
      "text/plain": [
       "0    0.70000\n",
       "1    0.71500\n",
       "2    0.73375\n",
       "3    0.72625\n",
       "4    0.72250\n",
       "5    0.69875\n",
       "6    0.69875\n",
       "7    0.67875\n",
       "8    0.68125\n",
       "9    0.68125\n",
       "Name: mean_test_score, dtype: float64"
      ]
     },
     "execution_count": 123,
     "metadata": {},
     "output_type": "execute_result"
    }
   ],
   "source": [
    "cv_results['10fold']['mean_test_score']"
   ]
  },
  {
   "cell_type": "code",
   "execution_count": 124,
   "metadata": {},
   "outputs": [
    {
     "data": {
      "text/plain": [
       "0    0.000000\n",
       "1    0.006801\n",
       "2    0.010008\n",
       "3    0.011381\n",
       "4    0.008254\n",
       "5    0.008741\n",
       "6    0.010376\n",
       "7    0.011187\n",
       "8    0.011354\n",
       "9    0.011891\n",
       "Name: std_test_score, dtype: float64"
      ]
     },
     "execution_count": 124,
     "metadata": {},
     "output_type": "execute_result"
    }
   ],
   "source": [
    "cv_results['10fold']['std_test_score'] / np.sqrt(10)"
   ]
  },
  {
   "cell_type": "code",
   "execution_count": 127,
   "metadata": {},
   "outputs": [],
   "source": [
    "df = cv_results['10fold']"
   ]
  },
  {
   "cell_type": "code",
   "execution_count": 132,
   "metadata": {},
   "outputs": [],
   "source": [
    "max_score = df['mean_test_score'].max()\n",
    "\n",
    "se = df.query('mean_test_score=={}'.format(max_score))['std_test_score'].values[0] / np.sqrt(10)"
   ]
  },
  {
   "cell_type": "code",
   "execution_count": 135,
   "metadata": {},
   "outputs": [
    {
     "data": {
      "text/html": [
       "<div>\n",
       "<style scoped>\n",
       "    .dataframe tbody tr th:only-of-type {\n",
       "        vertical-align: middle;\n",
       "    }\n",
       "\n",
       "    .dataframe tbody tr th {\n",
       "        vertical-align: top;\n",
       "    }\n",
       "\n",
       "    .dataframe thead th {\n",
       "        text-align: right;\n",
       "    }\n",
       "</style>\n",
       "<table border=\"1\" class=\"dataframe\">\n",
       "  <thead>\n",
       "    <tr style=\"text-align: right;\">\n",
       "      <th></th>\n",
       "      <th>param_svc__C</th>\n",
       "      <th>mean_test_score</th>\n",
       "    </tr>\n",
       "  </thead>\n",
       "  <tbody>\n",
       "    <tr>\n",
       "      <th>2</th>\n",
       "      <td>1</td>\n",
       "      <td>0.73375</td>\n",
       "    </tr>\n",
       "    <tr>\n",
       "      <th>3</th>\n",
       "      <td>2</td>\n",
       "      <td>0.72625</td>\n",
       "    </tr>\n",
       "  </tbody>\n",
       "</table>\n",
       "</div>"
      ],
      "text/plain": [
       "  param_svc__C  mean_test_score\n",
       "2            1          0.73375\n",
       "3            2          0.72625"
      ]
     },
     "execution_count": 135,
     "metadata": {},
     "output_type": "execute_result"
    }
   ],
   "source": [
    "# use 1 S.E. method to find candidate model and get the simplest one\n",
    "df.query('mean_test_score >= {}'.format(max_score - se))[['param_svc__C', 'mean_test_score']]"
   ]
  },
  {
   "cell_type": "code",
   "execution_count": 136,
   "metadata": {},
   "outputs": [
    {
     "data": {
      "text/plain": [
       "(800, 52)"
      ]
     },
     "execution_count": 136,
     "metadata": {},
     "output_type": "execute_result"
    }
   ],
   "source": [
    "X_train.shape"
   ]
  },
  {
   "cell_type": "code",
   "execution_count": 142,
   "metadata": {},
   "outputs": [],
   "source": [
    "svc_pipe = svc_pipe.set_params(svc__C=2).fit(X_train, y_train)"
   ]
  },
  {
   "cell_type": "code",
   "execution_count": 143,
   "metadata": {},
   "outputs": [
    {
     "data": {
      "text/plain": [
       "0.765"
      ]
     },
     "execution_count": 143,
     "metadata": {},
     "output_type": "execute_result"
    }
   ],
   "source": [
    "svc_pipe.score(X_test, y_test)"
   ]
  },
  {
   "cell_type": "markdown",
   "metadata": {},
   "source": [
    "#### Between-Model Comparisons"
   ]
  },
  {
   "cell_type": "code",
   "execution_count": 144,
   "metadata": {},
   "outputs": [
    {
     "data": {
      "text/plain": [
       "{'10fold': StratifiedKFold(n_splits=10, random_state=42, shuffle=True),\n",
       " '50splits': StratifiedShuffleSplit(n_splits=50, random_state=42, test_size=0.2,\n",
       "             train_size=None),\n",
       " '5repeated_10folds': <sklearn.model_selection._split.RepeatedStratifiedKFold at 0x1b63dd44358>,\n",
       " 'leave_one_out': LeaveOneOut()}"
      ]
     },
     "execution_count": 144,
     "metadata": {},
     "output_type": "execute_result"
    }
   ],
   "source": [
    "cv_choices"
   ]
  },
  {
   "cell_type": "code",
   "execution_count": 162,
   "metadata": {},
   "outputs": [],
   "source": [
    "logreg_pipe = make_pipeline(StandardScaler(), \n",
    "                            LogisticRegression(solver='lbfgs', random_state=42))"
   ]
  },
  {
   "cell_type": "code",
   "execution_count": 166,
   "metadata": {},
   "outputs": [
    {
     "name": "stdout",
     "output_type": "stream",
     "text": [
      "Training: 10fold\n",
      "----------------------------------------\n",
      "========================================\n",
      "\n",
      "Training: 5repeated_10folds\n",
      "----------------------------------------\n",
      "========================================\n",
      "\n",
      "Training: 50splits\n",
      "----------------------------------------\n",
      "========================================\n",
      "\n",
      "Training: leave_one_out\n",
      "----------------------------------------\n",
      "========================================\n",
      "\n"
     ]
    }
   ],
   "source": [
    "logreg_cv_results = {}\n",
    "logreg_cv_scores = {}\n",
    "\n",
    "for cv in cv_choices:\n",
    "    print(\"Training: {}\".format(cv))\n",
    "    print('--'*20)\n",
    "    '''\n",
    "    logreg_grid = GridSearchCV(logreg_pipe, {}, scoring='accuracy',return_train_score=True, \n",
    "                               cv=cv_choices[cv], verbose=1, n_jobs=4)\n",
    "    logreg_grid.fit(X_train, y_train)\n",
    "    logreg_cv_results[cv] = pd.DataFrame(logreg_grid.cv_results_)\n",
    "    '''\n",
    "    scores = cross_val_score(logreg_pipe, X_train, y_train, cv=cv_choices[cv])\n",
    "\n",
    "    mean_score = scores.mean()\n",
    "    se = np.std(scores) / np.sqrt(len(scores))\n",
    "\n",
    "    logreg_cv_results[cv] = {'mean_test_score': mean_score, 'S.E.': se}\n",
    "    logreg_cv_scores[cv] = scores\n",
    "    print('='*40)\n",
    "    print()"
   ]
  },
  {
   "cell_type": "code",
   "execution_count": 164,
   "metadata": {},
   "outputs": [
    {
     "data": {
      "text/plain": [
       "dict_keys(['10fold', '5repeated_10folds', '50splits', 'leave_one_out'])"
      ]
     },
     "execution_count": 164,
     "metadata": {},
     "output_type": "execute_result"
    }
   ],
   "source": [
    "logreg_cv_results.keys()"
   ]
  },
  {
   "cell_type": "code",
   "execution_count": 165,
   "metadata": {},
   "outputs": [
    {
     "data": {
      "text/html": [
       "<div>\n",
       "<style scoped>\n",
       "    .dataframe tbody tr th:only-of-type {\n",
       "        vertical-align: middle;\n",
       "    }\n",
       "\n",
       "    .dataframe tbody tr th {\n",
       "        vertical-align: top;\n",
       "    }\n",
       "\n",
       "    .dataframe thead th {\n",
       "        text-align: right;\n",
       "    }\n",
       "</style>\n",
       "<table border=\"1\" class=\"dataframe\">\n",
       "  <thead>\n",
       "    <tr style=\"text-align: right;\">\n",
       "      <th></th>\n",
       "      <th>S.E.</th>\n",
       "      <th>mean_test_score</th>\n",
       "    </tr>\n",
       "  </thead>\n",
       "  <tbody>\n",
       "    <tr>\n",
       "      <th>10fold</th>\n",
       "      <td>0.011918</td>\n",
       "      <td>0.75125</td>\n",
       "    </tr>\n",
       "    <tr>\n",
       "      <th>50splits</th>\n",
       "      <td>0.004589</td>\n",
       "      <td>0.74400</td>\n",
       "    </tr>\n",
       "    <tr>\n",
       "      <th>5repeated_10folds</th>\n",
       "      <td>0.005738</td>\n",
       "      <td>0.75075</td>\n",
       "    </tr>\n",
       "    <tr>\n",
       "      <th>leave_one_out</th>\n",
       "      <td>0.015309</td>\n",
       "      <td>0.75000</td>\n",
       "    </tr>\n",
       "  </tbody>\n",
       "</table>\n",
       "</div>"
      ],
      "text/plain": [
       "                       S.E.  mean_test_score\n",
       "10fold             0.011918          0.75125\n",
       "50splits           0.004589          0.74400\n",
       "5repeated_10folds  0.005738          0.75075\n",
       "leave_one_out      0.015309          0.75000"
      ]
     },
     "execution_count": 165,
     "metadata": {},
     "output_type": "execute_result"
    }
   ],
   "source": [
    "pd.DataFrame(logreg_cv_results).T"
   ]
  },
  {
   "cell_type": "code",
   "execution_count": 168,
   "metadata": {},
   "outputs": [
    {
     "data": {
      "text/plain": [
       "dict_keys(['10fold', '5repeated_10folds', '50splits', 'leave_one_out'])"
      ]
     },
     "execution_count": 168,
     "metadata": {},
     "output_type": "execute_result"
    }
   ],
   "source": [
    "logreg_cv_scores.keys()"
   ]
  },
  {
   "cell_type": "code",
   "execution_count": 183,
   "metadata": {},
   "outputs": [],
   "source": [
    "svc_5repeated10folds_scores = cv_results['5repeated_10folds'].query('param_svc__C==2').iloc[:, 7:-4:2].values.ravel()"
   ]
  },
  {
   "cell_type": "code",
   "execution_count": 184,
   "metadata": {},
   "outputs": [
    {
     "data": {
      "text/plain": [
       "array([0.75  , 0.7875, 0.7625, 0.725 , 0.8   , 0.75  , 0.6625, 0.65  ,\n",
       "       0.7   , 0.7375, 0.725 , 0.7625, 0.7   , 0.725 , 0.8   , 0.7125,\n",
       "       0.725 , 0.7   , 0.7625, 0.75  , 0.7625, 0.75  , 0.675 , 0.75  ,\n",
       "       0.6875, 0.7   , 0.6875, 0.625 , 0.75  , 0.775 , 0.75  , 0.7   ,\n",
       "       0.775 , 0.7375, 0.7625, 0.75  , 0.725 , 0.7   , 0.7875, 0.7   ,\n",
       "       0.7375, 0.775 , 0.7125, 0.7625, 0.7125, 0.7   , 0.7   , 0.8125,\n",
       "       0.775 , 0.7875])"
      ]
     },
     "execution_count": 184,
     "metadata": {},
     "output_type": "execute_result"
    }
   ],
   "source": [
    "svc_5repeated10folds_scores"
   ]
  },
  {
   "cell_type": "code",
   "execution_count": 186,
   "metadata": {},
   "outputs": [
    {
     "data": {
      "text/plain": [
       "Ttest_indResult(statistic=-2.01976018734975, pvalue=0.046138271407672155)"
      ]
     },
     "execution_count": 186,
     "metadata": {},
     "output_type": "execute_result"
    }
   ],
   "source": [
    "ttest_ind(svc_5repeated10folds_scores, logreg_cv_scores['5repeated_10folds'])"
   ]
  },
  {
   "cell_type": "code",
   "execution_count": 188,
   "metadata": {},
   "outputs": [
    {
     "data": {
      "text/plain": [
       "3    0.73425\n",
       "Name: mean_test_score, dtype: float64"
      ]
     },
     "execution_count": 188,
     "metadata": {},
     "output_type": "execute_result"
    }
   ],
   "source": [
    "cv_results['5repeated_10folds'].query('param_svc__C==2')['mean_test_score']"
   ]
  },
  {
   "cell_type": "code",
   "execution_count": null,
   "metadata": {},
   "outputs": [],
   "source": []
  }
 ],
 "metadata": {
  "kernelspec": {
   "display_name": "Python [conda env:deep_learning]",
   "language": "python",
   "name": "conda-env-deep_learning-py"
  },
  "language_info": {
   "codemirror_mode": {
    "name": "ipython",
    "version": 3
   },
   "file_extension": ".py",
   "mimetype": "text/x-python",
   "name": "python",
   "nbconvert_exporter": "python",
   "pygments_lexer": "ipython3",
   "version": "3.5.5"
  }
 },
 "nbformat": 4,
 "nbformat_minor": 2
}
