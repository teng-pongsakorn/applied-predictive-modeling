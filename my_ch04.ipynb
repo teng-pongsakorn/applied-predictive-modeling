{
 "cells": [
  {
   "cell_type": "code",
   "execution_count": 1,
   "metadata": {
    "collapsed": true
   },
   "outputs": [],
   "source": [
    "import numpy as np\n",
    "import pandas as pd\n",
    "import matplotlib.pyplot as plt\n",
    "import seaborn as sns\n",
    "%matplotlib inline"
   ]
  },
  {
   "cell_type": "code",
   "execution_count": 3,
   "metadata": {
    "collapsed": false
   },
   "outputs": [],
   "source": [
    "from sklearn.neighbors import KNeighborsClassifier\n",
    "from sklearn.model_selection import GridSearchCV, StratifiedKFold, cross_val_score, ShuffleSplit\n",
    "from sklearn.model_selection import train_test_split, RepeatedStratifiedKFold, RepeatedKFold\n",
    "from sklearn.preprocessing import StandardScaler, LabelEncoder\n",
    "from sklearn.feature_selection import VarianceThreshold\n",
    "from sklearn.pipeline import make_pipeline\n",
    "from sklearn.svm import SVC\n",
    "from sklearn.linear_model import LogisticRegression"
   ]
  },
  {
   "cell_type": "code",
   "execution_count": 10,
   "metadata": {
    "collapsed": true
   },
   "outputs": [],
   "source": [
    "def plot_decision(clf, X, y):\n",
    "    \n",
    "    x1, x2 = X.T\n",
    "    xmin, xmax = x1.min()-.1, x1.max()+.1\n",
    "    ymin, ymax = x2.min()-.1, x2.max()+.1\n",
    "    \n",
    "    XX, YY = np.meshgrid(np.linspace(xmin, xmax, 200), np.linspace(ymin, ymax, 200))\n",
    "    Z = clf.predict(np.c_[XX.ravel(), YY.ravel()]).reshape(XX.shape)\n",
    "    \n",
    "    plt.contourf(XX, YY, Z, alpha=.3, cmap=plt.cm.RdBu)\n",
    "    plt.plot(X[y==0, 0], X[y==0, 1], 'b^', alpha=.7)\n",
    "    plt.plot(X[y==1, 0], X[y==1, 1], 'ro', alpha=.7)"
   ]
  },
  {
   "cell_type": "code",
   "execution_count": 220,
   "metadata": {
    "collapsed": false
   },
   "outputs": [],
   "source": [
    "predictors = pd.read_csv('datasets/twoClassData/predictors.csv', index_col=0)\n",
    "targets = pd.read_csv('datasets/twoClassData/classes.csv', index_col=0)\n",
    "targets.columns = ['Class']\n",
    "targets.index = predictors.index"
   ]
  },
  {
   "cell_type": "code",
   "execution_count": 221,
   "metadata": {
    "collapsed": false
   },
   "outputs": [
    {
     "data": {
      "text/html": [
       "<div>\n",
       "<style>\n",
       "    .dataframe thead tr:only-child th {\n",
       "        text-align: right;\n",
       "    }\n",
       "\n",
       "    .dataframe thead th {\n",
       "        text-align: left;\n",
       "    }\n",
       "\n",
       "    .dataframe tbody tr th {\n",
       "        vertical-align: top;\n",
       "    }\n",
       "</style>\n",
       "<table border=\"1\" class=\"dataframe\">\n",
       "  <thead>\n",
       "    <tr style=\"text-align: right;\">\n",
       "      <th></th>\n",
       "      <th>PredictorA</th>\n",
       "      <th>PredictorB</th>\n",
       "    </tr>\n",
       "  </thead>\n",
       "  <tbody>\n",
       "    <tr>\n",
       "      <th>1</th>\n",
       "      <td>0.1582</td>\n",
       "      <td>0.1609</td>\n",
       "    </tr>\n",
       "    <tr>\n",
       "      <th>2</th>\n",
       "      <td>0.6552</td>\n",
       "      <td>0.4918</td>\n",
       "    </tr>\n",
       "    <tr>\n",
       "      <th>3</th>\n",
       "      <td>0.7060</td>\n",
       "      <td>0.6333</td>\n",
       "    </tr>\n",
       "    <tr>\n",
       "      <th>4</th>\n",
       "      <td>0.1992</td>\n",
       "      <td>0.0881</td>\n",
       "    </tr>\n",
       "    <tr>\n",
       "      <th>5</th>\n",
       "      <td>0.3952</td>\n",
       "      <td>0.4152</td>\n",
       "    </tr>\n",
       "  </tbody>\n",
       "</table>\n",
       "</div>"
      ],
      "text/plain": [
       "   PredictorA  PredictorB\n",
       "1      0.1582      0.1609\n",
       "2      0.6552      0.4918\n",
       "3      0.7060      0.6333\n",
       "4      0.1992      0.0881\n",
       "5      0.3952      0.4152"
      ]
     },
     "execution_count": 221,
     "metadata": {},
     "output_type": "execute_result"
    }
   ],
   "source": [
    "predictors.head()"
   ]
  },
  {
   "cell_type": "code",
   "execution_count": 224,
   "metadata": {
    "collapsed": false
   },
   "outputs": [
    {
     "data": {
      "text/plain": [
       "8"
      ]
     },
     "execution_count": 224,
     "metadata": {},
     "output_type": "execute_result"
    }
   ],
   "source": [
    "np.argmin(svc_grid.cv_results_['rank_test_score'])"
   ]
  },
  {
   "cell_type": "code",
   "execution_count": null,
   "metadata": {
    "collapsed": true
   },
   "outputs": [],
   "source": []
  },
  {
   "cell_type": "code",
   "execution_count": null,
   "metadata": {
    "collapsed": true
   },
   "outputs": [],
   "source": []
  },
  {
   "cell_type": "code",
   "execution_count": null,
   "metadata": {
    "collapsed": true
   },
   "outputs": [],
   "source": []
  },
  {
   "cell_type": "code",
   "execution_count": null,
   "metadata": {
    "collapsed": true
   },
   "outputs": [],
   "source": []
  },
  {
   "cell_type": "code",
   "execution_count": null,
   "metadata": {
    "collapsed": true
   },
   "outputs": [],
   "source": []
  },
  {
   "cell_type": "code",
   "execution_count": null,
   "metadata": {
    "collapsed": true
   },
   "outputs": [],
   "source": []
  },
  {
   "cell_type": "code",
   "execution_count": null,
   "metadata": {
    "collapsed": true
   },
   "outputs": [],
   "source": []
  },
  {
   "cell_type": "code",
   "execution_count": 30,
   "metadata": {
    "collapsed": false
   },
   "outputs": [
    {
     "data": {
      "text/plain": [
       "((208, 2), (208, 1))"
      ]
     },
     "execution_count": 30,
     "metadata": {},
     "output_type": "execute_result"
    }
   ],
   "source": [
    "predictors.shape, targets.shape"
   ]
  },
  {
   "cell_type": "code",
   "execution_count": 9,
   "metadata": {
    "collapsed": false
   },
   "outputs": [
    {
     "data": {
      "text/plain": [
       "Class1    111\n",
       "Class2     97\n",
       "Name: Class, dtype: int64"
      ]
     },
     "execution_count": 9,
     "metadata": {},
     "output_type": "execute_result"
    }
   ],
   "source": [
    "targets.Class.value_counts()"
   ]
  },
  {
   "cell_type": "code",
   "execution_count": 7,
   "metadata": {
    "collapsed": true
   },
   "outputs": [],
   "source": [
    "cls1 = targets.Class=='Class1'\n",
    "cls2 = targets.Class=='Class2'"
   ]
  },
  {
   "cell_type": "code",
   "execution_count": 8,
   "metadata": {
    "collapsed": false
   },
   "outputs": [
    {
     "data": {
      "text/plain": [
       "<matplotlib.legend.Legend at 0x7f907d3e6da0>"
      ]
     },
     "execution_count": 8,
     "metadata": {},
     "output_type": "execute_result"
    },
    {
     "data": {
      "image/png": "[encoded data removed]",
      "text/plain": [
       "<matplotlib.figure.Figure at 0x7f907d3b4908>"
      ]
     },
     "metadata": {},
     "output_type": "display_data"
    }
   ],
   "source": [
    "plt.figure(figsize=(5, 5))\n",
    "plt.plot(predictors.loc[cls1, \"PredictorA\"], predictors.loc[cls1, \"PredictorB\"], \n",
    "         'ro', alpha=.4, label='Class1')\n",
    "plt.plot(predictors.loc[cls2, \"PredictorA\"], predictors.loc[cls2, \"PredictorB\"], \n",
    "         'bs', alpha=.4, label='Class2')\n",
    "plt.xlabel(predictors.PredictorA.name)\n",
    "plt.ylabel(predictors.PredictorB.name)\n",
    "plt.legend()"
   ]
  },
  {
   "cell_type": "code",
   "execution_count": 37,
   "metadata": {
    "collapsed": false
   },
   "outputs": [],
   "source": [
    "knn_params = {'n_neighbors': list(range(1, 10, 2))}"
   ]
  },
  {
   "cell_type": "code",
   "execution_count": 46,
   "metadata": {
    "collapsed": false
   },
   "outputs": [],
   "source": [
    "knn_grid = GridSearchCV(KNeighborsClassifier(), knn_params, cv=5)"
   ]
  },
  {
   "cell_type": "code",
   "execution_count": 59,
   "metadata": {
    "collapsed": true
   },
   "outputs": [],
   "source": [
    "X = predictors.values\n",
    "y, idx = targets.Class.factorize()"
   ]
  },
  {
   "cell_type": "code",
   "execution_count": 61,
   "metadata": {
    "collapsed": false
   },
   "outputs": [
    {
     "data": {
      "text/plain": [
       "Index(['Class2', 'Class1'], dtype='object')"
      ]
     },
     "execution_count": 61,
     "metadata": {},
     "output_type": "execute_result"
    }
   ],
   "source": [
    "idx"
   ]
  },
  {
   "cell_type": "code",
   "execution_count": 62,
   "metadata": {
    "collapsed": false
   },
   "outputs": [
    {
     "data": {
      "text/plain": [
       "GridSearchCV(cv=5, error_score='raise',\n",
       "       estimator=KNeighborsClassifier(algorithm='auto', leaf_size=30, metric='minkowski',\n",
       "           metric_params=None, n_jobs=1, n_neighbors=5, p=2,\n",
       "           weights='uniform'),\n",
       "       fit_params={}, iid=True, n_jobs=1,\n",
       "       param_grid={'n_neighbors': [1, 3, 5, 7, 9]},\n",
       "       pre_dispatch='2*n_jobs', refit=True, scoring=None, verbose=0)"
      ]
     },
     "execution_count": 62,
     "metadata": {},
     "output_type": "execute_result"
    }
   ],
   "source": [
    "knn_grid.fit(X, y)"
   ]
  },
  {
   "cell_type": "code",
   "execution_count": 63,
   "metadata": {
    "collapsed": false
   },
   "outputs": [
    {
     "data": {
      "text/plain": [
       "({'n_neighbors': 7}, 0.7451923076923077)"
      ]
     },
     "execution_count": 63,
     "metadata": {},
     "output_type": "execute_result"
    }
   ],
   "source": [
    "knn_grid.best_params_, knn_grid.best_score_"
   ]
  },
  {
   "cell_type": "code",
   "execution_count": 113,
   "metadata": {
    "collapsed": true
   },
   "outputs": [],
   "source": [
    "best_knn = knn_grid.best_estimator_"
   ]
  },
  {
   "cell_type": "code",
   "execution_count": 119,
   "metadata": {
    "collapsed": false
   },
   "outputs": [
    {
     "data": {
      "text/plain": [
       "Text(0.5,1,'7-KNN')"
      ]
     },
     "execution_count": 119,
     "metadata": {},
     "output_type": "execute_result"
    },
    {
     "data": {
      "image/png": "[encoded data removed]",
      "text/plain": [
       "<matplotlib.figure.Figure at 0x7fa35ef4ad68>"
      ]
     },
     "metadata": {},
     "output_type": "display_data"
    }
   ],
   "source": [
    "plot_decision(best_knn, X, y)\n",
    "plt.title(\"7-KNN\")"
   ]
  },
  {
   "cell_type": "code",
   "execution_count": 118,
   "metadata": {
    "collapsed": false
   },
   "outputs": [
    {
     "data": {
      "text/plain": [
       "Text(0.5,1,'1-KNN')"
      ]
     },
     "execution_count": 118,
     "metadata": {},
     "output_type": "execute_result"
    },
    {
     "data": {
      "image/png": "[encoded data removed]",
      "text/plain": [
       "<matplotlib.figure.Figure at 0x7fa35ee79908>"
      ]
     },
     "metadata": {},
     "output_type": "display_data"
    }
   ],
   "source": [
    "k1 = KNeighborsClassifier(n_neighbors=1).fit(X, y)\n",
    "\n",
    "plot_decision(k1, X, y)\n",
    "plt.title('1-KNN')"
   ]
  },
  {
   "cell_type": "markdown",
   "metadata": {},
   "source": [
    "### Case Study: Credit Scoring"
   ]
  },
  {
   "cell_type": "code",
   "execution_count": 11,
   "metadata": {
    "collapsed": true
   },
   "outputs": [],
   "source": [
    "credit = pd.read_csv('data/GermanCredit/GermanCredit.csv', index_col=0)"
   ]
  },
  {
   "cell_type": "code",
   "execution_count": 12,
   "metadata": {
    "collapsed": false
   },
   "outputs": [],
   "source": [
    "credit.columns = credit.columns.str.replace('.', '_')"
   ]
  },
  {
   "cell_type": "code",
   "execution_count": 13,
   "metadata": {
    "collapsed": false
   },
   "outputs": [
    {
     "data": {
      "text/html": [
       "<div>\n",
       "<style>\n",
       "    .dataframe thead tr:only-child th {\n",
       "        text-align: right;\n",
       "    }\n",
       "\n",
       "    .dataframe thead th {\n",
       "        text-align: left;\n",
       "    }\n",
       "\n",
       "    .dataframe tbody tr th {\n",
       "        vertical-align: top;\n",
       "    }\n",
       "</style>\n",
       "<table border=\"1\" class=\"dataframe\">\n",
       "  <thead>\n",
       "    <tr style=\"text-align: right;\">\n",
       "      <th></th>\n",
       "      <th>Duration</th>\n",
       "      <th>Amount</th>\n",
       "      <th>InstallmentRatePercentage</th>\n",
       "      <th>ResidenceDuration</th>\n",
       "      <th>Age</th>\n",
       "      <th>NumberExistingCredits</th>\n",
       "      <th>NumberPeopleMaintenance</th>\n",
       "      <th>Telephone</th>\n",
       "      <th>ForeignWorker</th>\n",
       "      <th>Class</th>\n",
       "      <th>...</th>\n",
       "      <th>OtherInstallmentPlans_Bank</th>\n",
       "      <th>OtherInstallmentPlans_Stores</th>\n",
       "      <th>OtherInstallmentPlans_None</th>\n",
       "      <th>Housing_Rent</th>\n",
       "      <th>Housing_Own</th>\n",
       "      <th>Housing_ForFree</th>\n",
       "      <th>Job_UnemployedUnskilled</th>\n",
       "      <th>Job_UnskilledResident</th>\n",
       "      <th>Job_SkilledEmployee</th>\n",
       "      <th>Job_Management_SelfEmp_HighlyQualified</th>\n",
       "    </tr>\n",
       "  </thead>\n",
       "  <tbody>\n",
       "    <tr>\n",
       "      <th>1</th>\n",
       "      <td>6</td>\n",
       "      <td>1169</td>\n",
       "      <td>4</td>\n",
       "      <td>4</td>\n",
       "      <td>67</td>\n",
       "      <td>2</td>\n",
       "      <td>1</td>\n",
       "      <td>0.0</td>\n",
       "      <td>1.0</td>\n",
       "      <td>Good</td>\n",
       "      <td>...</td>\n",
       "      <td>0.0</td>\n",
       "      <td>0.0</td>\n",
       "      <td>1.0</td>\n",
       "      <td>0.0</td>\n",
       "      <td>1.0</td>\n",
       "      <td>0.0</td>\n",
       "      <td>0.0</td>\n",
       "      <td>0.0</td>\n",
       "      <td>1.0</td>\n",
       "      <td>0.0</td>\n",
       "    </tr>\n",
       "    <tr>\n",
       "      <th>2</th>\n",
       "      <td>48</td>\n",
       "      <td>5951</td>\n",
       "      <td>2</td>\n",
       "      <td>2</td>\n",
       "      <td>22</td>\n",
       "      <td>1</td>\n",
       "      <td>1</td>\n",
       "      <td>1.0</td>\n",
       "      <td>1.0</td>\n",
       "      <td>Bad</td>\n",
       "      <td>...</td>\n",
       "      <td>0.0</td>\n",
       "      <td>0.0</td>\n",
       "      <td>1.0</td>\n",
       "      <td>0.0</td>\n",
       "      <td>1.0</td>\n",
       "      <td>0.0</td>\n",
       "      <td>0.0</td>\n",
       "      <td>0.0</td>\n",
       "      <td>1.0</td>\n",
       "      <td>0.0</td>\n",
       "    </tr>\n",
       "    <tr>\n",
       "      <th>3</th>\n",
       "      <td>12</td>\n",
       "      <td>2096</td>\n",
       "      <td>2</td>\n",
       "      <td>3</td>\n",
       "      <td>49</td>\n",
       "      <td>1</td>\n",
       "      <td>2</td>\n",
       "      <td>1.0</td>\n",
       "      <td>1.0</td>\n",
       "      <td>Good</td>\n",
       "      <td>...</td>\n",
       "      <td>0.0</td>\n",
       "      <td>0.0</td>\n",
       "      <td>1.0</td>\n",
       "      <td>0.0</td>\n",
       "      <td>1.0</td>\n",
       "      <td>0.0</td>\n",
       "      <td>0.0</td>\n",
       "      <td>1.0</td>\n",
       "      <td>0.0</td>\n",
       "      <td>0.0</td>\n",
       "    </tr>\n",
       "    <tr>\n",
       "      <th>4</th>\n",
       "      <td>42</td>\n",
       "      <td>7882</td>\n",
       "      <td>2</td>\n",
       "      <td>4</td>\n",
       "      <td>45</td>\n",
       "      <td>1</td>\n",
       "      <td>2</td>\n",
       "      <td>1.0</td>\n",
       "      <td>1.0</td>\n",
       "      <td>Good</td>\n",
       "      <td>...</td>\n",
       "      <td>0.0</td>\n",
       "      <td>0.0</td>\n",
       "      <td>1.0</td>\n",
       "      <td>0.0</td>\n",
       "      <td>0.0</td>\n",
       "      <td>1.0</td>\n",
       "      <td>0.0</td>\n",
       "      <td>0.0</td>\n",
       "      <td>1.0</td>\n",
       "      <td>0.0</td>\n",
       "    </tr>\n",
       "    <tr>\n",
       "      <th>5</th>\n",
       "      <td>24</td>\n",
       "      <td>4870</td>\n",
       "      <td>3</td>\n",
       "      <td>4</td>\n",
       "      <td>53</td>\n",
       "      <td>2</td>\n",
       "      <td>2</td>\n",
       "      <td>1.0</td>\n",
       "      <td>1.0</td>\n",
       "      <td>Bad</td>\n",
       "      <td>...</td>\n",
       "      <td>0.0</td>\n",
       "      <td>0.0</td>\n",
       "      <td>1.0</td>\n",
       "      <td>0.0</td>\n",
       "      <td>0.0</td>\n",
       "      <td>1.0</td>\n",
       "      <td>0.0</td>\n",
       "      <td>0.0</td>\n",
       "      <td>1.0</td>\n",
       "      <td>0.0</td>\n",
       "    </tr>\n",
       "  </tbody>\n",
       "</table>\n",
       "<p>5 rows × 62 columns</p>\n",
       "</div>"
      ],
      "text/plain": [
       "   Duration  Amount  InstallmentRatePercentage  ResidenceDuration  Age  \\\n",
       "1         6    1169                          4                  4   67   \n",
       "2        48    5951                          2                  2   22   \n",
       "3        12    2096                          2                  3   49   \n",
       "4        42    7882                          2                  4   45   \n",
       "5        24    4870                          3                  4   53   \n",
       "\n",
       "   NumberExistingCredits  NumberPeopleMaintenance  Telephone  ForeignWorker  \\\n",
       "1                      2                        1        0.0            1.0   \n",
       "2                      1                        1        1.0            1.0   \n",
       "3                      1                        2        1.0            1.0   \n",
       "4                      1                        2        1.0            1.0   \n",
       "5                      2                        2        1.0            1.0   \n",
       "\n",
       "  Class                   ...                    OtherInstallmentPlans_Bank  \\\n",
       "1  Good                   ...                                           0.0   \n",
       "2   Bad                   ...                                           0.0   \n",
       "3  Good                   ...                                           0.0   \n",
       "4  Good                   ...                                           0.0   \n",
       "5   Bad                   ...                                           0.0   \n",
       "\n",
       "   OtherInstallmentPlans_Stores  OtherInstallmentPlans_None  Housing_Rent  \\\n",
       "1                           0.0                         1.0           0.0   \n",
       "2                           0.0                         1.0           0.0   \n",
       "3                           0.0                         1.0           0.0   \n",
       "4                           0.0                         1.0           0.0   \n",
       "5                           0.0                         1.0           0.0   \n",
       "\n",
       "   Housing_Own  Housing_ForFree  Job_UnemployedUnskilled  \\\n",
       "1          1.0              0.0                      0.0   \n",
       "2          1.0              0.0                      0.0   \n",
       "3          1.0              0.0                      0.0   \n",
       "4          0.0              1.0                      0.0   \n",
       "5          0.0              1.0                      0.0   \n",
       "\n",
       "   Job_UnskilledResident  Job_SkilledEmployee  \\\n",
       "1                    0.0                  1.0   \n",
       "2                    0.0                  1.0   \n",
       "3                    1.0                  0.0   \n",
       "4                    0.0                  1.0   \n",
       "5                    0.0                  1.0   \n",
       "\n",
       "   Job_Management_SelfEmp_HighlyQualified  \n",
       "1                                     0.0  \n",
       "2                                     0.0  \n",
       "3                                     0.0  \n",
       "4                                     0.0  \n",
       "5                                     0.0  \n",
       "\n",
       "[5 rows x 62 columns]"
      ]
     },
     "execution_count": 13,
     "metadata": {},
     "output_type": "execute_result"
    }
   ],
   "source": [
    "credit.head()"
   ]
  },
  {
   "cell_type": "code",
   "execution_count": 14,
   "metadata": {
    "collapsed": false
   },
   "outputs": [
    {
     "data": {
      "text/plain": [
       "(1000, 62)"
      ]
     },
     "execution_count": 14,
     "metadata": {},
     "output_type": "execute_result"
    }
   ],
   "source": [
    "credit.shape"
   ]
  },
  {
   "cell_type": "code",
   "execution_count": 15,
   "metadata": {
    "collapsed": false
   },
   "outputs": [
    {
     "name": "stdout",
     "output_type": "stream",
     "text": [
      "<class 'pandas.core.frame.DataFrame'>\n",
      "Int64Index: 1000 entries, 1 to 1000\n",
      "Data columns (total 62 columns):\n",
      "Duration                                  1000 non-null int64\n",
      "Amount                                    1000 non-null int64\n",
      "InstallmentRatePercentage                 1000 non-null int64\n",
      "ResidenceDuration                         1000 non-null int64\n",
      "Age                                       1000 non-null int64\n",
      "NumberExistingCredits                     1000 non-null int64\n",
      "NumberPeopleMaintenance                   1000 non-null int64\n",
      "Telephone                                 1000 non-null float64\n",
      "ForeignWorker                             1000 non-null float64\n",
      "Class                                     1000 non-null object\n",
      "CheckingAccountStatus_lt_0                1000 non-null float64\n",
      "CheckingAccountStatus_0_to_200            1000 non-null float64\n",
      "CheckingAccountStatus_gt_200              1000 non-null float64\n",
      "CheckingAccountStatus_none                1000 non-null float64\n",
      "CreditHistory_NoCredit_AllPaid            1000 non-null float64\n",
      "CreditHistory_ThisBank_AllPaid            1000 non-null float64\n",
      "CreditHistory_PaidDuly                    1000 non-null float64\n",
      "CreditHistory_Delay                       1000 non-null float64\n",
      "CreditHistory_Critical                    1000 non-null float64\n",
      "Purpose_NewCar                            1000 non-null float64\n",
      "Purpose_UsedCar                           1000 non-null float64\n",
      "Purpose_Furniture_Equipment               1000 non-null float64\n",
      "Purpose_Radio_Television                  1000 non-null float64\n",
      "Purpose_DomesticAppliance                 1000 non-null float64\n",
      "Purpose_Repairs                           1000 non-null float64\n",
      "Purpose_Education                         1000 non-null float64\n",
      "Purpose_Vacation                          1000 non-null float64\n",
      "Purpose_Retraining                        1000 non-null float64\n",
      "Purpose_Business                          1000 non-null float64\n",
      "Purpose_Other                             1000 non-null float64\n",
      "SavingsAccountBonds_lt_100                1000 non-null float64\n",
      "SavingsAccountBonds_100_to_500            1000 non-null float64\n",
      "SavingsAccountBonds_500_to_1000           1000 non-null float64\n",
      "SavingsAccountBonds_gt_1000               1000 non-null float64\n",
      "SavingsAccountBonds_Unknown               1000 non-null float64\n",
      "EmploymentDuration_lt_1                   1000 non-null float64\n",
      "EmploymentDuration_1_to_4                 1000 non-null float64\n",
      "EmploymentDuration_4_to_7                 1000 non-null float64\n",
      "EmploymentDuration_gt_7                   1000 non-null float64\n",
      "EmploymentDuration_Unemployed             1000 non-null float64\n",
      "Personal_Male_Divorced_Seperated          1000 non-null float64\n",
      "Personal_Female_NotSingle                 1000 non-null float64\n",
      "Personal_Male_Single                      1000 non-null float64\n",
      "Personal_Male_Married_Widowed             1000 non-null float64\n",
      "Personal_Female_Single                    1000 non-null float64\n",
      "OtherDebtorsGuarantors_None               1000 non-null float64\n",
      "OtherDebtorsGuarantors_CoApplicant        1000 non-null float64\n",
      "OtherDebtorsGuarantors_Guarantor          1000 non-null float64\n",
      "Property_RealEstate                       1000 non-null float64\n",
      "Property_Insurance                        1000 non-null float64\n",
      "Property_CarOther                         1000 non-null float64\n",
      "Property_Unknown                          1000 non-null float64\n",
      "OtherInstallmentPlans_Bank                1000 non-null float64\n",
      "OtherInstallmentPlans_Stores              1000 non-null float64\n",
      "OtherInstallmentPlans_None                1000 non-null float64\n",
      "Housing_Rent                              1000 non-null float64\n",
      "Housing_Own                               1000 non-null float64\n",
      "Housing_ForFree                           1000 non-null float64\n",
      "Job_UnemployedUnskilled                   1000 non-null float64\n",
      "Job_UnskilledResident                     1000 non-null float64\n",
      "Job_SkilledEmployee                       1000 non-null float64\n",
      "Job_Management_SelfEmp_HighlyQualified    1000 non-null float64\n",
      "dtypes: float64(54), int64(7), object(1)\n",
      "memory usage: 492.2+ KB\n"
     ]
    }
   ],
   "source": [
    "credit.info()"
   ]
  },
  {
   "cell_type": "code",
   "execution_count": 18,
   "metadata": {
    "collapsed": false
   },
   "outputs": [
    {
     "data": {
      "text/html": [
       "<div>\n",
       "<style>\n",
       "    .dataframe thead tr:only-child th {\n",
       "        text-align: right;\n",
       "    }\n",
       "\n",
       "    .dataframe thead th {\n",
       "        text-align: left;\n",
       "    }\n",
       "\n",
       "    .dataframe tbody tr th {\n",
       "        vertical-align: top;\n",
       "    }\n",
       "</style>\n",
       "<table border=\"1\" class=\"dataframe\">\n",
       "  <thead>\n",
       "    <tr style=\"text-align: right;\">\n",
       "      <th></th>\n",
       "      <th>cardinality</th>\n",
       "      <th>dtype</th>\n",
       "    </tr>\n",
       "  </thead>\n",
       "  <tbody>\n",
       "    <tr>\n",
       "      <th>Duration</th>\n",
       "      <td>33</td>\n",
       "      <td>int64</td>\n",
       "    </tr>\n",
       "    <tr>\n",
       "      <th>Amount</th>\n",
       "      <td>921</td>\n",
       "      <td>int64</td>\n",
       "    </tr>\n",
       "    <tr>\n",
       "      <th>InstallmentRatePercentage</th>\n",
       "      <td>4</td>\n",
       "      <td>int64</td>\n",
       "    </tr>\n",
       "    <tr>\n",
       "      <th>ResidenceDuration</th>\n",
       "      <td>4</td>\n",
       "      <td>int64</td>\n",
       "    </tr>\n",
       "    <tr>\n",
       "      <th>Age</th>\n",
       "      <td>53</td>\n",
       "      <td>int64</td>\n",
       "    </tr>\n",
       "    <tr>\n",
       "      <th>NumberExistingCredits</th>\n",
       "      <td>4</td>\n",
       "      <td>int64</td>\n",
       "    </tr>\n",
       "    <tr>\n",
       "      <th>NumberPeopleMaintenance</th>\n",
       "      <td>2</td>\n",
       "      <td>int64</td>\n",
       "    </tr>\n",
       "    <tr>\n",
       "      <th>Telephone</th>\n",
       "      <td>2</td>\n",
       "      <td>float64</td>\n",
       "    </tr>\n",
       "    <tr>\n",
       "      <th>ForeignWorker</th>\n",
       "      <td>2</td>\n",
       "      <td>float64</td>\n",
       "    </tr>\n",
       "    <tr>\n",
       "      <th>Class</th>\n",
       "      <td>2</td>\n",
       "      <td>object</td>\n",
       "    </tr>\n",
       "    <tr>\n",
       "      <th>CheckingAccountStatus_lt_0</th>\n",
       "      <td>2</td>\n",
       "      <td>float64</td>\n",
       "    </tr>\n",
       "    <tr>\n",
       "      <th>CheckingAccountStatus_0_to_200</th>\n",
       "      <td>2</td>\n",
       "      <td>float64</td>\n",
       "    </tr>\n",
       "    <tr>\n",
       "      <th>CheckingAccountStatus_gt_200</th>\n",
       "      <td>2</td>\n",
       "      <td>float64</td>\n",
       "    </tr>\n",
       "    <tr>\n",
       "      <th>CheckingAccountStatus_none</th>\n",
       "      <td>2</td>\n",
       "      <td>float64</td>\n",
       "    </tr>\n",
       "    <tr>\n",
       "      <th>CreditHistory_NoCredit_AllPaid</th>\n",
       "      <td>2</td>\n",
       "      <td>float64</td>\n",
       "    </tr>\n",
       "    <tr>\n",
       "      <th>CreditHistory_ThisBank_AllPaid</th>\n",
       "      <td>2</td>\n",
       "      <td>float64</td>\n",
       "    </tr>\n",
       "    <tr>\n",
       "      <th>CreditHistory_PaidDuly</th>\n",
       "      <td>2</td>\n",
       "      <td>float64</td>\n",
       "    </tr>\n",
       "    <tr>\n",
       "      <th>CreditHistory_Delay</th>\n",
       "      <td>2</td>\n",
       "      <td>float64</td>\n",
       "    </tr>\n",
       "    <tr>\n",
       "      <th>CreditHistory_Critical</th>\n",
       "      <td>2</td>\n",
       "      <td>float64</td>\n",
       "    </tr>\n",
       "    <tr>\n",
       "      <th>Purpose_NewCar</th>\n",
       "      <td>2</td>\n",
       "      <td>float64</td>\n",
       "    </tr>\n",
       "    <tr>\n",
       "      <th>Purpose_UsedCar</th>\n",
       "      <td>2</td>\n",
       "      <td>float64</td>\n",
       "    </tr>\n",
       "    <tr>\n",
       "      <th>Purpose_Furniture_Equipment</th>\n",
       "      <td>2</td>\n",
       "      <td>float64</td>\n",
       "    </tr>\n",
       "    <tr>\n",
       "      <th>Purpose_Radio_Television</th>\n",
       "      <td>2</td>\n",
       "      <td>float64</td>\n",
       "    </tr>\n",
       "    <tr>\n",
       "      <th>Purpose_DomesticAppliance</th>\n",
       "      <td>2</td>\n",
       "      <td>float64</td>\n",
       "    </tr>\n",
       "    <tr>\n",
       "      <th>Purpose_Repairs</th>\n",
       "      <td>2</td>\n",
       "      <td>float64</td>\n",
       "    </tr>\n",
       "    <tr>\n",
       "      <th>Purpose_Education</th>\n",
       "      <td>2</td>\n",
       "      <td>float64</td>\n",
       "    </tr>\n",
       "    <tr>\n",
       "      <th>Purpose_Vacation</th>\n",
       "      <td>1</td>\n",
       "      <td>float64</td>\n",
       "    </tr>\n",
       "    <tr>\n",
       "      <th>Purpose_Retraining</th>\n",
       "      <td>2</td>\n",
       "      <td>float64</td>\n",
       "    </tr>\n",
       "    <tr>\n",
       "      <th>Purpose_Business</th>\n",
       "      <td>2</td>\n",
       "      <td>float64</td>\n",
       "    </tr>\n",
       "    <tr>\n",
       "      <th>Purpose_Other</th>\n",
       "      <td>2</td>\n",
       "      <td>float64</td>\n",
       "    </tr>\n",
       "    <tr>\n",
       "      <th>...</th>\n",
       "      <td>...</td>\n",
       "      <td>...</td>\n",
       "    </tr>\n",
       "    <tr>\n",
       "      <th>SavingsAccountBonds_500_to_1000</th>\n",
       "      <td>2</td>\n",
       "      <td>float64</td>\n",
       "    </tr>\n",
       "    <tr>\n",
       "      <th>SavingsAccountBonds_gt_1000</th>\n",
       "      <td>2</td>\n",
       "      <td>float64</td>\n",
       "    </tr>\n",
       "    <tr>\n",
       "      <th>SavingsAccountBonds_Unknown</th>\n",
       "      <td>2</td>\n",
       "      <td>float64</td>\n",
       "    </tr>\n",
       "    <tr>\n",
       "      <th>EmploymentDuration_lt_1</th>\n",
       "      <td>2</td>\n",
       "      <td>float64</td>\n",
       "    </tr>\n",
       "    <tr>\n",
       "      <th>EmploymentDuration_1_to_4</th>\n",
       "      <td>2</td>\n",
       "      <td>float64</td>\n",
       "    </tr>\n",
       "    <tr>\n",
       "      <th>EmploymentDuration_4_to_7</th>\n",
       "      <td>2</td>\n",
       "      <td>float64</td>\n",
       "    </tr>\n",
       "    <tr>\n",
       "      <th>EmploymentDuration_gt_7</th>\n",
       "      <td>2</td>\n",
       "      <td>float64</td>\n",
       "    </tr>\n",
       "    <tr>\n",
       "      <th>EmploymentDuration_Unemployed</th>\n",
       "      <td>2</td>\n",
       "      <td>float64</td>\n",
       "    </tr>\n",
       "    <tr>\n",
       "      <th>Personal_Male_Divorced_Seperated</th>\n",
       "      <td>2</td>\n",
       "      <td>float64</td>\n",
       "    </tr>\n",
       "    <tr>\n",
       "      <th>Personal_Female_NotSingle</th>\n",
       "      <td>2</td>\n",
       "      <td>float64</td>\n",
       "    </tr>\n",
       "    <tr>\n",
       "      <th>Personal_Male_Single</th>\n",
       "      <td>2</td>\n",
       "      <td>float64</td>\n",
       "    </tr>\n",
       "    <tr>\n",
       "      <th>Personal_Male_Married_Widowed</th>\n",
       "      <td>2</td>\n",
       "      <td>float64</td>\n",
       "    </tr>\n",
       "    <tr>\n",
       "      <th>Personal_Female_Single</th>\n",
       "      <td>1</td>\n",
       "      <td>float64</td>\n",
       "    </tr>\n",
       "    <tr>\n",
       "      <th>OtherDebtorsGuarantors_None</th>\n",
       "      <td>2</td>\n",
       "      <td>float64</td>\n",
       "    </tr>\n",
       "    <tr>\n",
       "      <th>OtherDebtorsGuarantors_CoApplicant</th>\n",
       "      <td>2</td>\n",
       "      <td>float64</td>\n",
       "    </tr>\n",
       "    <tr>\n",
       "      <th>OtherDebtorsGuarantors_Guarantor</th>\n",
       "      <td>2</td>\n",
       "      <td>float64</td>\n",
       "    </tr>\n",
       "    <tr>\n",
       "      <th>Property_RealEstate</th>\n",
       "      <td>2</td>\n",
       "      <td>float64</td>\n",
       "    </tr>\n",
       "    <tr>\n",
       "      <th>Property_Insurance</th>\n",
       "      <td>2</td>\n",
       "      <td>float64</td>\n",
       "    </tr>\n",
       "    <tr>\n",
       "      <th>Property_CarOther</th>\n",
       "      <td>2</td>\n",
       "      <td>float64</td>\n",
       "    </tr>\n",
       "    <tr>\n",
       "      <th>Property_Unknown</th>\n",
       "      <td>2</td>\n",
       "      <td>float64</td>\n",
       "    </tr>\n",
       "    <tr>\n",
       "      <th>OtherInstallmentPlans_Bank</th>\n",
       "      <td>2</td>\n",
       "      <td>float64</td>\n",
       "    </tr>\n",
       "    <tr>\n",
       "      <th>OtherInstallmentPlans_Stores</th>\n",
       "      <td>2</td>\n",
       "      <td>float64</td>\n",
       "    </tr>\n",
       "    <tr>\n",
       "      <th>OtherInstallmentPlans_None</th>\n",
       "      <td>2</td>\n",
       "      <td>float64</td>\n",
       "    </tr>\n",
       "    <tr>\n",
       "      <th>Housing_Rent</th>\n",
       "      <td>2</td>\n",
       "      <td>float64</td>\n",
       "    </tr>\n",
       "    <tr>\n",
       "      <th>Housing_Own</th>\n",
       "      <td>2</td>\n",
       "      <td>float64</td>\n",
       "    </tr>\n",
       "    <tr>\n",
       "      <th>Housing_ForFree</th>\n",
       "      <td>2</td>\n",
       "      <td>float64</td>\n",
       "    </tr>\n",
       "    <tr>\n",
       "      <th>Job_UnemployedUnskilled</th>\n",
       "      <td>2</td>\n",
       "      <td>float64</td>\n",
       "    </tr>\n",
       "    <tr>\n",
       "      <th>Job_UnskilledResident</th>\n",
       "      <td>2</td>\n",
       "      <td>float64</td>\n",
       "    </tr>\n",
       "    <tr>\n",
       "      <th>Job_SkilledEmployee</th>\n",
       "      <td>2</td>\n",
       "      <td>float64</td>\n",
       "    </tr>\n",
       "    <tr>\n",
       "      <th>Job_Management_SelfEmp_HighlyQualified</th>\n",
       "      <td>2</td>\n",
       "      <td>float64</td>\n",
       "    </tr>\n",
       "  </tbody>\n",
       "</table>\n",
       "<p>62 rows × 2 columns</p>\n",
       "</div>"
      ],
      "text/plain": [
       "                                        cardinality    dtype\n",
       "Duration                                         33    int64\n",
       "Amount                                          921    int64\n",
       "InstallmentRatePercentage                         4    int64\n",
       "ResidenceDuration                                 4    int64\n",
       "Age                                              53    int64\n",
       "NumberExistingCredits                             4    int64\n",
       "NumberPeopleMaintenance                           2    int64\n",
       "Telephone                                         2  float64\n",
       "ForeignWorker                                     2  float64\n",
       "Class                                             2   object\n",
       "CheckingAccountStatus_lt_0                        2  float64\n",
       "CheckingAccountStatus_0_to_200                    2  float64\n",
       "CheckingAccountStatus_gt_200                      2  float64\n",
       "CheckingAccountStatus_none                        2  float64\n",
       "CreditHistory_NoCredit_AllPaid                    2  float64\n",
       "CreditHistory_ThisBank_AllPaid                    2  float64\n",
       "CreditHistory_PaidDuly                            2  float64\n",
       "CreditHistory_Delay                               2  float64\n",
       "CreditHistory_Critical                            2  float64\n",
       "Purpose_NewCar                                    2  float64\n",
       "Purpose_UsedCar                                   2  float64\n",
       "Purpose_Furniture_Equipment                       2  float64\n",
       "Purpose_Radio_Television                          2  float64\n",
       "Purpose_DomesticAppliance                         2  float64\n",
       "Purpose_Repairs                                   2  float64\n",
       "Purpose_Education                                 2  float64\n",
       "Purpose_Vacation                                  1  float64\n",
       "Purpose_Retraining                                2  float64\n",
       "Purpose_Business                                  2  float64\n",
       "Purpose_Other                                     2  float64\n",
       "...                                             ...      ...\n",
       "SavingsAccountBonds_500_to_1000                   2  float64\n",
       "SavingsAccountBonds_gt_1000                       2  float64\n",
       "SavingsAccountBonds_Unknown                       2  float64\n",
       "EmploymentDuration_lt_1                           2  float64\n",
       "EmploymentDuration_1_to_4                         2  float64\n",
       "EmploymentDuration_4_to_7                         2  float64\n",
       "EmploymentDuration_gt_7                           2  float64\n",
       "EmploymentDuration_Unemployed                     2  float64\n",
       "Personal_Male_Divorced_Seperated                  2  float64\n",
       "Personal_Female_NotSingle                         2  float64\n",
       "Personal_Male_Single                              2  float64\n",
       "Personal_Male_Married_Widowed                     2  float64\n",
       "Personal_Female_Single                            1  float64\n",
       "OtherDebtorsGuarantors_None                       2  float64\n",
       "OtherDebtorsGuarantors_CoApplicant                2  float64\n",
       "OtherDebtorsGuarantors_Guarantor                  2  float64\n",
       "Property_RealEstate                               2  float64\n",
       "Property_Insurance                                2  float64\n",
       "Property_CarOther                                 2  float64\n",
       "Property_Unknown                                  2  float64\n",
       "OtherInstallmentPlans_Bank                        2  float64\n",
       "OtherInstallmentPlans_Stores                      2  float64\n",
       "OtherInstallmentPlans_None                        2  float64\n",
       "Housing_Rent                                      2  float64\n",
       "Housing_Own                                       2  float64\n",
       "Housing_ForFree                                   2  float64\n",
       "Job_UnemployedUnskilled                           2  float64\n",
       "Job_UnskilledResident                             2  float64\n",
       "Job_SkilledEmployee                               2  float64\n",
       "Job_Management_SelfEmp_HighlyQualified            2  float64\n",
       "\n",
       "[62 rows x 2 columns]"
      ]
     },
     "execution_count": 18,
     "metadata": {},
     "output_type": "execute_result"
    }
   ],
   "source": [
    "df_nunique = pd.DataFrame({'cardinality': credit.nunique(), 'dtype': credit.dtypes})"
   ]
  },
  {
   "cell_type": "code",
   "execution_count": 19,
   "metadata": {
    "collapsed": false
   },
   "outputs": [
    {
     "data": {
      "text/plain": [
       "Good    700\n",
       "Bad     300\n",
       "Name: Class, dtype: int64"
      ]
     },
     "execution_count": 19,
     "metadata": {},
     "output_type": "execute_result"
    }
   ],
   "source": [
    "credit.Class.value_counts()"
   ]
  },
  {
   "cell_type": "code",
   "execution_count": 22,
   "metadata": {
    "collapsed": false
   },
   "outputs": [
    {
     "data": {
      "text/plain": [
       "((1000, 61), (1000,))"
      ]
     },
     "execution_count": 22,
     "metadata": {},
     "output_type": "execute_result"
    }
   ],
   "source": [
    "predictors = credit.drop('Class', axis=1)\n",
    "target = credit.Class\n",
    "\n",
    "predictors.shape, target.shape"
   ]
  },
  {
   "cell_type": "code",
   "execution_count": 23,
   "metadata": {
    "collapsed": true
   },
   "outputs": [],
   "source": [
    "var = VarianceThreshold()"
   ]
  },
  {
   "cell_type": "code",
   "execution_count": 25,
   "metadata": {
    "collapsed": false
   },
   "outputs": [
    {
     "data": {
      "text/plain": [
       "(1000, 59)"
      ]
     },
     "execution_count": 25,
     "metadata": {},
     "output_type": "execute_result"
    }
   ],
   "source": [
    "predictors_var = var.fit_transform(predictors)\n",
    "predictors_var.shape"
   ]
  },
  {
   "cell_type": "code",
   "execution_count": 27,
   "metadata": {
    "collapsed": false
   },
   "outputs": [
    {
     "data": {
      "text/plain": [
       "Index(['Purpose_Vacation', 'Personal_Female_Single'], dtype='object')"
      ]
     },
     "execution_count": 27,
     "metadata": {},
     "output_type": "execute_result"
    }
   ],
   "source": [
    "predictors.columns[~var.get_support()]"
   ]
  },
  {
   "cell_type": "code",
   "execution_count": null,
   "metadata": {
    "collapsed": true
   },
   "outputs": [],
   "source": []
  },
  {
   "cell_type": "code",
   "execution_count": 28,
   "metadata": {
    "collapsed": false
   },
   "outputs": [
    {
     "data": {
      "text/plain": [
       "Index(['CheckingAccountStatus_lt_0', 'CheckingAccountStatus_0_to_200',\n",
       "       'CheckingAccountStatus_gt_200', 'CheckingAccountStatus_none',\n",
       "       'CreditHistory_NoCredit_AllPaid', 'CreditHistory_ThisBank_AllPaid',\n",
       "       'CreditHistory_PaidDuly', 'CreditHistory_Delay',\n",
       "       'CreditHistory_Critical', 'Purpose_NewCar', 'Purpose_UsedCar',\n",
       "       'Purpose_Furniture_Equipment', 'Purpose_Radio_Television',\n",
       "       'Purpose_DomesticAppliance', 'Purpose_Repairs', 'Purpose_Education',\n",
       "       'Purpose_Vacation', 'Purpose_Retraining', 'Purpose_Business',\n",
       "       'Purpose_Other', 'SavingsAccountBonds_lt_100',\n",
       "       'SavingsAccountBonds_100_to_500', 'SavingsAccountBonds_500_to_1000',\n",
       "       'SavingsAccountBonds_gt_1000', 'SavingsAccountBonds_Unknown',\n",
       "       'EmploymentDuration_lt_1', 'EmploymentDuration_1_to_4',\n",
       "       'EmploymentDuration_4_to_7', 'EmploymentDuration_gt_7',\n",
       "       'EmploymentDuration_Unemployed', 'Personal_Male_Divorced_Seperated',\n",
       "       'Personal_Female_NotSingle', 'Personal_Male_Single',\n",
       "       'Personal_Male_Married_Widowed', 'Personal_Female_Single',\n",
       "       'OtherDebtorsGuarantors_None', 'OtherDebtorsGuarantors_CoApplicant',\n",
       "       'OtherDebtorsGuarantors_Guarantor', 'Property_RealEstate',\n",
       "       'Property_Insurance', 'Property_CarOther', 'Property_Unknown',\n",
       "       'OtherInstallmentPlans_Bank', 'OtherInstallmentPlans_Stores',\n",
       "       'OtherInstallmentPlans_None', 'Housing_Rent', 'Housing_Own',\n",
       "       'Housing_ForFree', 'Job_UnemployedUnskilled', 'Job_UnskilledResident',\n",
       "       'Job_SkilledEmployee', 'Job_Management_SelfEmp_HighlyQualified'],\n",
       "      dtype='object')"
      ]
     },
     "execution_count": 28,
     "metadata": {},
     "output_type": "execute_result"
    }
   ],
   "source": [
    "dummy_cols = credit.columns[credit.columns.str.contains('_')]\n",
    "dummy_cols"
   ]
  },
  {
   "cell_type": "code",
   "execution_count": 29,
   "metadata": {
    "collapsed": false
   },
   "outputs": [
    {
     "data": {
      "text/plain": [
       "52"
      ]
     },
     "execution_count": 29,
     "metadata": {},
     "output_type": "execute_result"
    }
   ],
   "source": [
    "len(dummy_cols)"
   ]
  },
  {
   "cell_type": "code",
   "execution_count": 30,
   "metadata": {
    "collapsed": false
   },
   "outputs": [
    {
     "data": {
      "text/plain": [
       "41"
      ]
     },
     "execution_count": 30,
     "metadata": {},
     "output_type": "execute_result"
    }
   ],
   "source": [
    "len(dummy_cols) - len(set(dummy_cols.str.split('_').str.get(0)))"
   ]
  },
  {
   "cell_type": "code",
   "execution_count": 31,
   "metadata": {
    "collapsed": false
   },
   "outputs": [
    {
     "data": {
      "text/plain": [
       "{'Personal_Female_Single', 'Purpose_Vacation'}"
      ]
     },
     "execution_count": 31,
     "metadata": {},
     "output_type": "execute_result"
    }
   ],
   "source": [
    "degen_dummy = set(dummy_cols[[credit[c].mean()==0 for c in dummy_cols]])\n",
    "degen_dummy"
   ]
  },
  {
   "cell_type": "code",
   "execution_count": 32,
   "metadata": {
    "collapsed": false
   },
   "outputs": [
    {
     "data": {
      "text/plain": [
       "['CheckingAccountStatus_0_to_200',\n",
       " 'CheckingAccountStatus_gt_200',\n",
       " 'CheckingAccountStatus_none',\n",
       " 'CreditHistory_ThisBank_AllPaid',\n",
       " 'CreditHistory_PaidDuly',\n",
       " 'CreditHistory_Delay',\n",
       " 'CreditHistory_Critical',\n",
       " 'Purpose_NewCar',\n",
       " 'Purpose_UsedCar',\n",
       " 'Purpose_Furniture_Equipment',\n",
       " 'Purpose_Radio_Television',\n",
       " 'Purpose_DomesticAppliance',\n",
       " 'Purpose_Repairs',\n",
       " 'Purpose_Education',\n",
       " 'Purpose_Retraining',\n",
       " 'Purpose_Business',\n",
       " 'Purpose_Other',\n",
       " 'SavingsAccountBonds_100_to_500',\n",
       " 'SavingsAccountBonds_500_to_1000',\n",
       " 'SavingsAccountBonds_gt_1000',\n",
       " 'SavingsAccountBonds_Unknown',\n",
       " 'EmploymentDuration_1_to_4',\n",
       " 'EmploymentDuration_4_to_7',\n",
       " 'EmploymentDuration_gt_7',\n",
       " 'EmploymentDuration_Unemployed',\n",
       " 'Personal_Male_Divorced_Seperated',\n",
       " 'Personal_Female_NotSingle',\n",
       " 'Personal_Male_Single',\n",
       " 'Personal_Male_Married_Widowed',\n",
       " 'OtherDebtorsGuarantors_CoApplicant',\n",
       " 'OtherDebtorsGuarantors_Guarantor',\n",
       " 'Property_Insurance',\n",
       " 'Property_CarOther',\n",
       " 'Property_Unknown',\n",
       " 'OtherInstallmentPlans_Stores',\n",
       " 'OtherInstallmentPlans_None',\n",
       " 'Housing_Own',\n",
       " 'Housing_ForFree',\n",
       " 'Job_UnskilledResident',\n",
       " 'Job_SkilledEmployee',\n",
       " 'Job_Management_SelfEmp_HighlyQualified']"
      ]
     },
     "execution_count": 32,
     "metadata": {},
     "output_type": "execute_result"
    }
   ],
   "source": [
    "name = \"\"\n",
    "keep_dummy = []\n",
    "for c in dummy_cols:\n",
    "    a, *b = c.split('_')\n",
    "    if a in {\"Personal\", \"Purpose\"} and c not in degen_dummy:\n",
    "        keep_dummy.append(c)\n",
    "    elif a == name:\n",
    "        keep_dummy.append(c)\n",
    "    else:\n",
    "        name = a\n",
    "keep_dummy"
   ]
  },
  {
   "cell_type": "code",
   "execution_count": 33,
   "metadata": {
    "collapsed": false
   },
   "outputs": [
    {
     "data": {
      "text/plain": [
       "((1000, 41), (1000,))"
      ]
     },
     "execution_count": 33,
     "metadata": {},
     "output_type": "execute_result"
    }
   ],
   "source": [
    "X = credit[keep_dummy].values\n",
    "y = credit['Class'].values\n",
    "\n",
    "X.shape, y.shape"
   ]
  },
  {
   "cell_type": "code",
   "execution_count": 34,
   "metadata": {
    "collapsed": false
   },
   "outputs": [
    {
     "data": {
      "text/plain": [
       "41"
      ]
     },
     "execution_count": 34,
     "metadata": {},
     "output_type": "execute_result"
    }
   ],
   "source": [
    "len(keep_dummy)"
   ]
  },
  {
   "cell_type": "code",
   "execution_count": 41,
   "metadata": {
    "collapsed": false
   },
   "outputs": [],
   "source": [
    "X_train, X_test, y_train, y_test = train_test_split(X, y, stratify=y, random_state=1056)"
   ]
  },
  {
   "cell_type": "code",
   "execution_count": 42,
   "metadata": {
    "collapsed": false
   },
   "outputs": [],
   "source": [
    "le_target = LabelEncoder()\n",
    "y_train = le_target.fit_transform(y_train)\n",
    "y_test = le_target.transform(y_test)"
   ]
  },
  {
   "cell_type": "code",
   "execution_count": 197,
   "metadata": {
    "collapsed": false
   },
   "outputs": [],
   "source": [
    "svc_params = {\"C\": 2**np.arange(-2, 10, dtype=float)}\n",
    "cv = StratifiedKFold(n_splits=10, random_state=123)\n",
    "svc_grid = GridSearchCV(SVC(kernel='rbf'), svc_params, cv=cv, scoring='accuracy', verbose=1, n_jobs=-1)"
   ]
  },
  {
   "cell_type": "code",
   "execution_count": 198,
   "metadata": {
    "collapsed": false
   },
   "outputs": [
    {
     "name": "stdout",
     "output_type": "stream",
     "text": [
      "Fitting 10 folds for each of 12 candidates, totalling 120 fits\n"
     ]
    },
    {
     "name": "stderr",
     "output_type": "stream",
     "text": [
      "[Parallel(n_jobs=-1)]: Done  76 tasks      | elapsed:    2.4s\n",
      "[Parallel(n_jobs=-1)]: Done 120 out of 120 | elapsed:    4.6s finished\n"
     ]
    },
    {
     "data": {
      "text/plain": [
       "GridSearchCV(cv=StratifiedKFold(n_splits=10, random_state=123, shuffle=False),\n",
       "       error_score='raise',\n",
       "       estimator=SVC(C=1.0, cache_size=200, class_weight=None, coef0=0.0,\n",
       "  decision_function_shape=None, degree=3, gamma='auto', kernel='rbf',\n",
       "  max_iter=-1, probability=False, random_state=None, shrinking=True,\n",
       "  tol=0.001, verbose=False),\n",
       "       fit_params={}, iid=True, n_jobs=-1,\n",
       "       param_grid={'C': array([  2.50000e-01,   5.00000e-01,   1.00000e+00,   2.00000e+00,\n",
       "         4.00000e+00,   8.00000e+00,   1.60000e+01,   3.20000e+01,\n",
       "         6.40000e+01,   1.28000e+02,   2.56000e+02,   5.12000e+02])},\n",
       "       pre_dispatch='2*n_jobs', refit=True, return_train_score=True,\n",
       "       scoring='accuracy', verbose=1)"
      ]
     },
     "execution_count": 198,
     "metadata": {},
     "output_type": "execute_result"
    }
   ],
   "source": [
    "svc_grid.fit(X_train, y_train)"
   ]
  },
  {
   "cell_type": "code",
   "execution_count": 199,
   "metadata": {
    "collapsed": false
   },
   "outputs": [
    {
     "data": {
      "text/plain": [
       "{'C': 64.0}"
      ]
     },
     "execution_count": 199,
     "metadata": {},
     "output_type": "execute_result"
    }
   ],
   "source": [
    "svc_grid.best_params_"
   ]
  },
  {
   "cell_type": "code",
   "execution_count": 200,
   "metadata": {
    "collapsed": false
   },
   "outputs": [
    {
     "data": {
      "text/plain": [
       "0.7426666666666667"
      ]
     },
     "execution_count": 200,
     "metadata": {},
     "output_type": "execute_result"
    }
   ],
   "source": [
    "svc_grid.best_score_"
   ]
  },
  {
   "cell_type": "code",
   "execution_count": 110,
   "metadata": {
    "collapsed": false
   },
   "outputs": [
    {
     "data": {
      "text/html": [
       "<div>\n",
       "<style>\n",
       "    .dataframe thead tr:only-child th {\n",
       "        text-align: right;\n",
       "    }\n",
       "\n",
       "    .dataframe thead th {\n",
       "        text-align: left;\n",
       "    }\n",
       "\n",
       "    .dataframe tbody tr th {\n",
       "        vertical-align: top;\n",
       "    }\n",
       "</style>\n",
       "<table border=\"1\" class=\"dataframe\">\n",
       "  <thead>\n",
       "    <tr style=\"text-align: right;\">\n",
       "      <th></th>\n",
       "      <th>mean_fit_time</th>\n",
       "      <th>mean_score_time</th>\n",
       "      <th>mean_test_score</th>\n",
       "      <th>mean_train_score</th>\n",
       "      <th>param_C</th>\n",
       "      <th>params</th>\n",
       "      <th>rank_test_score</th>\n",
       "      <th>split0_test_score</th>\n",
       "      <th>split0_train_score</th>\n",
       "      <th>split1_test_score</th>\n",
       "      <th>...</th>\n",
       "      <th>split7_test_score</th>\n",
       "      <th>split7_train_score</th>\n",
       "      <th>split8_test_score</th>\n",
       "      <th>split8_train_score</th>\n",
       "      <th>split9_test_score</th>\n",
       "      <th>split9_train_score</th>\n",
       "      <th>std_fit_time</th>\n",
       "      <th>std_score_time</th>\n",
       "      <th>std_test_score</th>\n",
       "      <th>std_train_score</th>\n",
       "    </tr>\n",
       "  </thead>\n",
       "  <tbody>\n",
       "    <tr>\n",
       "      <th>0</th>\n",
       "      <td>0.062273</td>\n",
       "      <td>0.005559</td>\n",
       "      <td>0.700000</td>\n",
       "      <td>0.700000</td>\n",
       "      <td>0.25</td>\n",
       "      <td>{'C': 0.25}</td>\n",
       "      <td>9</td>\n",
       "      <td>0.697368</td>\n",
       "      <td>0.700297</td>\n",
       "      <td>0.697368</td>\n",
       "      <td>...</td>\n",
       "      <td>0.702703</td>\n",
       "      <td>0.699704</td>\n",
       "      <td>0.702703</td>\n",
       "      <td>0.699704</td>\n",
       "      <td>0.702703</td>\n",
       "      <td>0.699704</td>\n",
       "      <td>0.009199</td>\n",
       "      <td>0.000804</td>\n",
       "      <td>0.002667</td>\n",
       "      <td>0.000296</td>\n",
       "    </tr>\n",
       "    <tr>\n",
       "      <th>1</th>\n",
       "      <td>0.060264</td>\n",
       "      <td>0.005421</td>\n",
       "      <td>0.700000</td>\n",
       "      <td>0.700000</td>\n",
       "      <td>0.5</td>\n",
       "      <td>{'C': 0.5}</td>\n",
       "      <td>9</td>\n",
       "      <td>0.697368</td>\n",
       "      <td>0.700297</td>\n",
       "      <td>0.697368</td>\n",
       "      <td>...</td>\n",
       "      <td>0.702703</td>\n",
       "      <td>0.699704</td>\n",
       "      <td>0.702703</td>\n",
       "      <td>0.699704</td>\n",
       "      <td>0.702703</td>\n",
       "      <td>0.699704</td>\n",
       "      <td>0.008402</td>\n",
       "      <td>0.000757</td>\n",
       "      <td>0.002667</td>\n",
       "      <td>0.000296</td>\n",
       "    </tr>\n",
       "    <tr>\n",
       "      <th>2</th>\n",
       "      <td>0.060418</td>\n",
       "      <td>0.005431</td>\n",
       "      <td>0.700000</td>\n",
       "      <td>0.700445</td>\n",
       "      <td>1</td>\n",
       "      <td>{'C': 1.0}</td>\n",
       "      <td>9</td>\n",
       "      <td>0.697368</td>\n",
       "      <td>0.703264</td>\n",
       "      <td>0.697368</td>\n",
       "      <td>...</td>\n",
       "      <td>0.702703</td>\n",
       "      <td>0.699704</td>\n",
       "      <td>0.702703</td>\n",
       "      <td>0.699704</td>\n",
       "      <td>0.702703</td>\n",
       "      <td>0.699704</td>\n",
       "      <td>0.009302</td>\n",
       "      <td>0.000840</td>\n",
       "      <td>0.002667</td>\n",
       "      <td>0.001038</td>\n",
       "    </tr>\n",
       "    <tr>\n",
       "      <th>3</th>\n",
       "      <td>0.077894</td>\n",
       "      <td>0.009710</td>\n",
       "      <td>0.708000</td>\n",
       "      <td>0.733325</td>\n",
       "      <td>2</td>\n",
       "      <td>{'C': 2.0}</td>\n",
       "      <td>8</td>\n",
       "      <td>0.684211</td>\n",
       "      <td>0.737389</td>\n",
       "      <td>0.710526</td>\n",
       "      <td>...</td>\n",
       "      <td>0.702703</td>\n",
       "      <td>0.747041</td>\n",
       "      <td>0.729730</td>\n",
       "      <td>0.736686</td>\n",
       "      <td>0.689189</td>\n",
       "      <td>0.727811</td>\n",
       "      <td>0.024999</td>\n",
       "      <td>0.005334</td>\n",
       "      <td>0.021271</td>\n",
       "      <td>0.012105</td>\n",
       "    </tr>\n",
       "    <tr>\n",
       "      <th>4</th>\n",
       "      <td>0.089243</td>\n",
       "      <td>0.007668</td>\n",
       "      <td>0.717333</td>\n",
       "      <td>0.784729</td>\n",
       "      <td>4</td>\n",
       "      <td>{'C': 4.0}</td>\n",
       "      <td>6</td>\n",
       "      <td>0.723684</td>\n",
       "      <td>0.780415</td>\n",
       "      <td>0.723684</td>\n",
       "      <td>...</td>\n",
       "      <td>0.689189</td>\n",
       "      <td>0.794379</td>\n",
       "      <td>0.689189</td>\n",
       "      <td>0.782544</td>\n",
       "      <td>0.729730</td>\n",
       "      <td>0.789941</td>\n",
       "      <td>0.046670</td>\n",
       "      <td>0.005039</td>\n",
       "      <td>0.024452</td>\n",
       "      <td>0.011446</td>\n",
       "    </tr>\n",
       "    <tr>\n",
       "      <th>5</th>\n",
       "      <td>0.092133</td>\n",
       "      <td>0.005882</td>\n",
       "      <td>0.720000</td>\n",
       "      <td>0.809629</td>\n",
       "      <td>8</td>\n",
       "      <td>{'C': 8.0}</td>\n",
       "      <td>4</td>\n",
       "      <td>0.684211</td>\n",
       "      <td>0.805638</td>\n",
       "      <td>0.750000</td>\n",
       "      <td>...</td>\n",
       "      <td>0.689189</td>\n",
       "      <td>0.819527</td>\n",
       "      <td>0.716216</td>\n",
       "      <td>0.807692</td>\n",
       "      <td>0.743243</td>\n",
       "      <td>0.801775</td>\n",
       "      <td>0.038367</td>\n",
       "      <td>0.001257</td>\n",
       "      <td>0.044924</td>\n",
       "      <td>0.006428</td>\n",
       "    </tr>\n",
       "    <tr>\n",
       "      <th>6</th>\n",
       "      <td>0.065875</td>\n",
       "      <td>0.005301</td>\n",
       "      <td>0.720000</td>\n",
       "      <td>0.835110</td>\n",
       "      <td>16</td>\n",
       "      <td>{'C': 16.0}</td>\n",
       "      <td>4</td>\n",
       "      <td>0.710526</td>\n",
       "      <td>0.833828</td>\n",
       "      <td>0.736842</td>\n",
       "      <td>...</td>\n",
       "      <td>0.675676</td>\n",
       "      <td>0.840237</td>\n",
       "      <td>0.716216</td>\n",
       "      <td>0.837278</td>\n",
       "      <td>0.770270</td>\n",
       "      <td>0.834320</td>\n",
       "      <td>0.009577</td>\n",
       "      <td>0.000743</td>\n",
       "      <td>0.050326</td>\n",
       "      <td>0.005222</td>\n",
       "    </tr>\n",
       "    <tr>\n",
       "      <th>7</th>\n",
       "      <td>0.076308</td>\n",
       "      <td>0.005261</td>\n",
       "      <td>0.725333</td>\n",
       "      <td>0.870369</td>\n",
       "      <td>32</td>\n",
       "      <td>{'C': 32.0}</td>\n",
       "      <td>3</td>\n",
       "      <td>0.710526</td>\n",
       "      <td>0.872404</td>\n",
       "      <td>0.723684</td>\n",
       "      <td>...</td>\n",
       "      <td>0.689189</td>\n",
       "      <td>0.871302</td>\n",
       "      <td>0.689189</td>\n",
       "      <td>0.872781</td>\n",
       "      <td>0.756757</td>\n",
       "      <td>0.856509</td>\n",
       "      <td>0.011372</td>\n",
       "      <td>0.000761</td>\n",
       "      <td>0.037307</td>\n",
       "      <td>0.007835</td>\n",
       "    </tr>\n",
       "    <tr>\n",
       "      <th>8</th>\n",
       "      <td>0.104804</td>\n",
       "      <td>0.005286</td>\n",
       "      <td>0.742667</td>\n",
       "      <td>0.896588</td>\n",
       "      <td>64</td>\n",
       "      <td>{'C': 64.0}</td>\n",
       "      <td>1</td>\n",
       "      <td>0.723684</td>\n",
       "      <td>0.888724</td>\n",
       "      <td>0.736842</td>\n",
       "      <td>...</td>\n",
       "      <td>0.729730</td>\n",
       "      <td>0.897929</td>\n",
       "      <td>0.702703</td>\n",
       "      <td>0.903846</td>\n",
       "      <td>0.770270</td>\n",
       "      <td>0.892012</td>\n",
       "      <td>0.019928</td>\n",
       "      <td>0.000778</td>\n",
       "      <td>0.041224</td>\n",
       "      <td>0.006523</td>\n",
       "    </tr>\n",
       "    <tr>\n",
       "      <th>9</th>\n",
       "      <td>0.147330</td>\n",
       "      <td>0.008917</td>\n",
       "      <td>0.732000</td>\n",
       "      <td>0.921476</td>\n",
       "      <td>128</td>\n",
       "      <td>{'C': 128.0}</td>\n",
       "      <td>2</td>\n",
       "      <td>0.710526</td>\n",
       "      <td>0.919881</td>\n",
       "      <td>0.763158</td>\n",
       "      <td>...</td>\n",
       "      <td>0.729730</td>\n",
       "      <td>0.926036</td>\n",
       "      <td>0.702703</td>\n",
       "      <td>0.927515</td>\n",
       "      <td>0.770270</td>\n",
       "      <td>0.918639</td>\n",
       "      <td>0.034812</td>\n",
       "      <td>0.007388</td>\n",
       "      <td>0.036223</td>\n",
       "      <td>0.005543</td>\n",
       "    </tr>\n",
       "    <tr>\n",
       "      <th>10</th>\n",
       "      <td>0.182448</td>\n",
       "      <td>0.005019</td>\n",
       "      <td>0.710667</td>\n",
       "      <td>0.945179</td>\n",
       "      <td>256</td>\n",
       "      <td>{'C': 256.0}</td>\n",
       "      <td>7</td>\n",
       "      <td>0.671053</td>\n",
       "      <td>0.939169</td>\n",
       "      <td>0.736842</td>\n",
       "      <td>...</td>\n",
       "      <td>0.729730</td>\n",
       "      <td>0.957101</td>\n",
       "      <td>0.675676</td>\n",
       "      <td>0.945266</td>\n",
       "      <td>0.756757</td>\n",
       "      <td>0.942308</td>\n",
       "      <td>0.028461</td>\n",
       "      <td>0.000773</td>\n",
       "      <td>0.047561</td>\n",
       "      <td>0.005717</td>\n",
       "    </tr>\n",
       "    <tr>\n",
       "      <th>11</th>\n",
       "      <td>0.222682</td>\n",
       "      <td>0.004717</td>\n",
       "      <td>0.666667</td>\n",
       "      <td>0.969330</td>\n",
       "      <td>512</td>\n",
       "      <td>{'C': 512.0}</td>\n",
       "      <td>12</td>\n",
       "      <td>0.657895</td>\n",
       "      <td>0.967359</td>\n",
       "      <td>0.750000</td>\n",
       "      <td>...</td>\n",
       "      <td>0.635135</td>\n",
       "      <td>0.979290</td>\n",
       "      <td>0.621622</td>\n",
       "      <td>0.963018</td>\n",
       "      <td>0.675676</td>\n",
       "      <td>0.967456</td>\n",
       "      <td>0.033438</td>\n",
       "      <td>0.000680</td>\n",
       "      <td>0.056986</td>\n",
       "      <td>0.005190</td>\n",
       "    </tr>\n",
       "  </tbody>\n",
       "</table>\n",
       "<p>12 rows × 31 columns</p>\n",
       "</div>"
      ],
      "text/plain": [
       "    mean_fit_time  mean_score_time  mean_test_score  mean_train_score param_C  \\\n",
       "0        0.062273         0.005559         0.700000          0.700000    0.25   \n",
       "1        0.060264         0.005421         0.700000          0.700000     0.5   \n",
       "2        0.060418         0.005431         0.700000          0.700445       1   \n",
       "3        0.077894         0.009710         0.708000          0.733325       2   \n",
       "4        0.089243         0.007668         0.717333          0.784729       4   \n",
       "5        0.092133         0.005882         0.720000          0.809629       8   \n",
       "6        0.065875         0.005301         0.720000          0.835110      16   \n",
       "7        0.076308         0.005261         0.725333          0.870369      32   \n",
       "8        0.104804         0.005286         0.742667          0.896588      64   \n",
       "9        0.147330         0.008917         0.732000          0.921476     128   \n",
       "10       0.182448         0.005019         0.710667          0.945179     256   \n",
       "11       0.222682         0.004717         0.666667          0.969330     512   \n",
       "\n",
       "          params  rank_test_score  split0_test_score  split0_train_score  \\\n",
       "0    {'C': 0.25}                9           0.697368            0.700297   \n",
       "1     {'C': 0.5}                9           0.697368            0.700297   \n",
       "2     {'C': 1.0}                9           0.697368            0.703264   \n",
       "3     {'C': 2.0}                8           0.684211            0.737389   \n",
       "4     {'C': 4.0}                6           0.723684            0.780415   \n",
       "5     {'C': 8.0}                4           0.684211            0.805638   \n",
       "6    {'C': 16.0}                4           0.710526            0.833828   \n",
       "7    {'C': 32.0}                3           0.710526            0.872404   \n",
       "8    {'C': 64.0}                1           0.723684            0.888724   \n",
       "9   {'C': 128.0}                2           0.710526            0.919881   \n",
       "10  {'C': 256.0}                7           0.671053            0.939169   \n",
       "11  {'C': 512.0}               12           0.657895            0.967359   \n",
       "\n",
       "    split1_test_score       ...         split7_test_score  split7_train_score  \\\n",
       "0            0.697368       ...                  0.702703            0.699704   \n",
       "1            0.697368       ...                  0.702703            0.699704   \n",
       "2            0.697368       ...                  0.702703            0.699704   \n",
       "3            0.710526       ...                  0.702703            0.747041   \n",
       "4            0.723684       ...                  0.689189            0.794379   \n",
       "5            0.750000       ...                  0.689189            0.819527   \n",
       "6            0.736842       ...                  0.675676            0.840237   \n",
       "7            0.723684       ...                  0.689189            0.871302   \n",
       "8            0.736842       ...                  0.729730            0.897929   \n",
       "9            0.763158       ...                  0.729730            0.926036   \n",
       "10           0.736842       ...                  0.729730            0.957101   \n",
       "11           0.750000       ...                  0.635135            0.979290   \n",
       "\n",
       "    split8_test_score  split8_train_score  split9_test_score  \\\n",
       "0            0.702703            0.699704           0.702703   \n",
       "1            0.702703            0.699704           0.702703   \n",
       "2            0.702703            0.699704           0.702703   \n",
       "3            0.729730            0.736686           0.689189   \n",
       "4            0.689189            0.782544           0.729730   \n",
       "5            0.716216            0.807692           0.743243   \n",
       "6            0.716216            0.837278           0.770270   \n",
       "7            0.689189            0.872781           0.756757   \n",
       "8            0.702703            0.903846           0.770270   \n",
       "9            0.702703            0.927515           0.770270   \n",
       "10           0.675676            0.945266           0.756757   \n",
       "11           0.621622            0.963018           0.675676   \n",
       "\n",
       "    split9_train_score  std_fit_time  std_score_time  std_test_score  \\\n",
       "0             0.699704      0.009199        0.000804        0.002667   \n",
       "1             0.699704      0.008402        0.000757        0.002667   \n",
       "2             0.699704      0.009302        0.000840        0.002667   \n",
       "3             0.727811      0.024999        0.005334        0.021271   \n",
       "4             0.789941      0.046670        0.005039        0.024452   \n",
       "5             0.801775      0.038367        0.001257        0.044924   \n",
       "6             0.834320      0.009577        0.000743        0.050326   \n",
       "7             0.856509      0.011372        0.000761        0.037307   \n",
       "8             0.892012      0.019928        0.000778        0.041224   \n",
       "9             0.918639      0.034812        0.007388        0.036223   \n",
       "10            0.942308      0.028461        0.000773        0.047561   \n",
       "11            0.967456      0.033438        0.000680        0.056986   \n",
       "\n",
       "    std_train_score  \n",
       "0          0.000296  \n",
       "1          0.000296  \n",
       "2          0.001038  \n",
       "3          0.012105  \n",
       "4          0.011446  \n",
       "5          0.006428  \n",
       "6          0.005222  \n",
       "7          0.007835  \n",
       "8          0.006523  \n",
       "9          0.005543  \n",
       "10         0.005717  \n",
       "11         0.005190  \n",
       "\n",
       "[12 rows x 31 columns]"
      ]
     },
     "execution_count": 110,
     "metadata": {},
     "output_type": "execute_result"
    }
   ],
   "source": [
    "pd.DataFrame(svc_grid.cv_results_)"
   ]
  },
  {
   "cell_type": "code",
   "execution_count": 111,
   "metadata": {
    "collapsed": false
   },
   "outputs": [
    {
     "data": {
      "text/plain": [
       "Text(0.5,0,'C')"
      ]
     },
     "execution_count": 111,
     "metadata": {},
     "output_type": "execute_result"
    },
    {
     "data": {
      "image/png": "[encoded data removed]",
      "text/plain": [
       "<matplotlib.figure.Figure at 0x7f90726c2400>"
      ]
     },
     "metadata": {},
     "output_type": "display_data"
    }
   ],
   "source": [
    "t1 = svc_grid.cv_results_['mean_train_score']\n",
    "t2 = svc_grid.cv_results_['mean_test_score']\n",
    "\n",
    "sd_t1 = svc_grid.cv_results_['std_train_score']\n",
    "sd_t2 = svc_grid.cv_results_['std_test_score']\n",
    "\n",
    "xs = np.array(svc_grid.cv_results_['param_C'], dtype=float)\n",
    "\n",
    "plt.figure(figsize=(12, 6))\n",
    "plt.plot(xs, t1, 'ro-', label='train', alpha=.5)\n",
    "plt.plot(xs, t2, 'bs-', label='cv', alpha=.5)\n",
    "\n",
    "plt.fill_between(xs, t1-sd_t1, t1+sd_t1, alpha=.2)\n",
    "plt.fill_between(xs, t2-sd_t2, t2+sd_t2, alpha=.2)\n",
    "plt.legend()\n",
    "plt.semilogx(basex=2)\n",
    "plt.ylabel('accuracy')\n",
    "plt.xlabel('C')"
   ]
  },
  {
   "cell_type": "code",
   "execution_count": 112,
   "metadata": {
    "collapsed": false
   },
   "outputs": [
    {
     "data": {
      "text/plain": [
       "0.748"
      ]
     },
     "execution_count": 112,
     "metadata": {},
     "output_type": "execute_result"
    }
   ],
   "source": [
    "svc_grid.score(X_test, y_test)"
   ]
  },
  {
   "cell_type": "code",
   "execution_count": 114,
   "metadata": {
    "collapsed": true
   },
   "outputs": [],
   "source": [
    "scores = cross_val_score(svc_grid.best_estimator_, X, y, cv=10)"
   ]
  },
  {
   "cell_type": "code",
   "execution_count": 115,
   "metadata": {
    "collapsed": false
   },
   "outputs": [
    {
     "data": {
      "text/plain": [
       "(0.75700000000000001, 0.024103941586387921)"
      ]
     },
     "execution_count": 115,
     "metadata": {},
     "output_type": "execute_result"
    }
   ],
   "source": [
    "scores.mean(), scores.std()"
   ]
  },
  {
   "cell_type": "code",
   "execution_count": 120,
   "metadata": {
    "collapsed": true
   },
   "outputs": [],
   "source": [
    "shuffle_cv = ShuffleSplit(n_splits=20, test_size=.1, random_state=123)\n",
    "svc_params = {\"C\": 2**np.arange(-2, 10, dtype=float)}\n",
    "\n",
    "svc_grid = GridSearchCV(SVC(kernel='rbf'), svc_params, cv=shuffle_cv, scoring='accuracy', verbose=1, n_jobs=-1)"
   ]
  },
  {
   "cell_type": "code",
   "execution_count": 121,
   "metadata": {
    "collapsed": false
   },
   "outputs": [
    {
     "name": "stdout",
     "output_type": "stream",
     "text": [
      "Fitting 20 folds for each of 12 candidates, totalling 240 fits\n"
     ]
    },
    {
     "name": "stderr",
     "output_type": "stream",
     "text": [
      "[Parallel(n_jobs=-1)]: Done  76 tasks      | elapsed:    2.3s\n",
      "[Parallel(n_jobs=-1)]: Done 240 out of 240 | elapsed:    9.1s finished\n"
     ]
    },
    {
     "data": {
      "text/plain": [
       "GridSearchCV(cv=ShuffleSplit(n_splits=20, random_state=123, test_size=0.1, train_size=None),\n",
       "       error_score='raise',\n",
       "       estimator=SVC(C=1.0, cache_size=200, class_weight=None, coef0=0.0,\n",
       "  decision_function_shape=None, degree=3, gamma='auto', kernel='rbf',\n",
       "  max_iter=-1, probability=False, random_state=None, shrinking=True,\n",
       "  tol=0.001, verbose=False),\n",
       "       fit_params={}, iid=True, n_jobs=-1,\n",
       "       param_grid={'C': array([  2.50000e-01,   5.00000e-01,   1.00000e+00,   2.00000e+00,\n",
       "         4.00000e+00,   8.00000e+00,   1.60000e+01,   3.20000e+01,\n",
       "         6.40000e+01,   1.28000e+02,   2.56000e+02,   5.12000e+02])},\n",
       "       pre_dispatch='2*n_jobs', refit=True, return_train_score=True,\n",
       "       scoring='accuracy', verbose=1)"
      ]
     },
     "execution_count": 121,
     "metadata": {},
     "output_type": "execute_result"
    }
   ],
   "source": [
    "svc_grid.fit(X_train, y_train)"
   ]
  },
  {
   "cell_type": "code",
   "execution_count": 122,
   "metadata": {
    "collapsed": false
   },
   "outputs": [
    {
     "data": {
      "text/plain": [
       "{'C': 64.0}"
      ]
     },
     "execution_count": 122,
     "metadata": {},
     "output_type": "execute_result"
    }
   ],
   "source": [
    "svc_grid.best_params_"
   ]
  },
  {
   "cell_type": "code",
   "execution_count": 123,
   "metadata": {
    "collapsed": false
   },
   "outputs": [
    {
     "data": {
      "text/plain": [
       "0.72533333333333339"
      ]
     },
     "execution_count": 123,
     "metadata": {},
     "output_type": "execute_result"
    }
   ],
   "source": [
    "svc_grid.best_score_"
   ]
  },
  {
   "cell_type": "code",
   "execution_count": 134,
   "metadata": {
    "collapsed": false
   },
   "outputs": [
    {
     "data": {
      "text/plain": [
       "(0.65, 1.0)"
      ]
     },
     "execution_count": 134,
     "metadata": {},
     "output_type": "execute_result"
    },
    {
     "data": {
      "image/png": "[encoded data removed]",
      "text/plain": [
       "<matplotlib.figure.Figure at 0x7f9072358f28>"
      ]
     },
     "metadata": {},
     "output_type": "display_data"
    }
   ],
   "source": [
    "xs = np.array(svc_grid.cv_results_['param_C'], dtype=float)\n",
    "\n",
    "t1 = svc_grid.cv_results_['mean_train_score']\n",
    "t2 = svc_grid.cv_results_['mean_test_score']\n",
    "t1_sd = svc_grid.cv_results_['std_train_score']\n",
    "t2_sd = svc_grid.cv_results_['std_test_score']\n",
    "\n",
    "plt.figure(figsize=(12, 6))\n",
    "plt.plot(xs, t1, 'ro-', label='train')\n",
    "plt.plot(xs, t2, 'b^-', label='cv')\n",
    "plt.fill_between(xs, t1-t1_sd, t1+t1_sd, alpha=.3, color='r')\n",
    "plt.fill_between(xs, t2-t2_sd, t2+t2_sd, alpha=.3, color='b')\n",
    "plt.legend()\n",
    "plt.semilogx(basex=2)\n",
    "plt.ylabel('accuracy')\n",
    "plt.xlabel('C')\n",
    "plt.ylim(.65, 1.0)"
   ]
  },
  {
   "cell_type": "code",
   "execution_count": 146,
   "metadata": {
    "collapsed": false
   },
   "outputs": [
    {
     "data": {
      "text/plain": [
       "0.376"
      ]
     },
     "execution_count": 146,
     "metadata": {},
     "output_type": "execute_result"
    }
   ],
   "source": [
    "a = list(range(len(X)))\n",
    "b = np.random.choice(a, size=len(X), replace=True)\n",
    "\n",
    "c = list(set(a) - set(b))\n",
    "\n",
    "len(c) / len(a)"
   ]
  },
  {
   "cell_type": "code",
   "execution_count": 166,
   "metadata": {
    "collapsed": true
   },
   "outputs": [],
   "source": [
    "lr_params = {'C': 2**np.arange(-3, 2, .3)}\n",
    "lr_grid = GridSearchCV(LogisticRegression(), lr_params, cv=cv, n_jobs=-1, verbose=1)"
   ]
  },
  {
   "cell_type": "code",
   "execution_count": 167,
   "metadata": {
    "collapsed": false
   },
   "outputs": [
    {
     "name": "stdout",
     "output_type": "stream",
     "text": [
      "Fitting 10 folds for each of 17 candidates, totalling 170 fits\n"
     ]
    },
    {
     "name": "stderr",
     "output_type": "stream",
     "text": [
      "[Parallel(n_jobs=-1)]: Done 170 out of 170 | elapsed:    0.8s finished\n"
     ]
    },
    {
     "data": {
      "text/plain": [
       "GridSearchCV(cv=StratifiedKFold(n_splits=10, random_state=123, shuffle=False),\n",
       "       error_score='raise',\n",
       "       estimator=LogisticRegression(C=1.0, class_weight=None, dual=False, fit_intercept=True,\n",
       "          intercept_scaling=1, max_iter=100, multi_class='ovr', n_jobs=1,\n",
       "          penalty='l2', random_state=None, solver='liblinear', tol=0.0001,\n",
       "          verbose=0, warm_start=False),\n",
       "       fit_params={}, iid=True, n_jobs=-1,\n",
       "       param_grid={'C': array([ 0.125  ,  0.15389,  0.18946,  0.23326,  0.28717,  0.35355,\n",
       "        0.43528,  0.53589,  0.65975,  0.81225,  1.     ,  1.23114,\n",
       "        1.51572,  1.86607,  2.2974 ,  2.82843,  3.4822 ])},\n",
       "       pre_dispatch='2*n_jobs', refit=True, return_train_score=True,\n",
       "       scoring=None, verbose=1)"
      ]
     },
     "execution_count": 167,
     "metadata": {},
     "output_type": "execute_result"
    }
   ],
   "source": [
    "lr_grid.fit(X_train, y_train)"
   ]
  },
  {
   "cell_type": "code",
   "execution_count": 168,
   "metadata": {
    "collapsed": false
   },
   "outputs": [
    {
     "data": {
      "text/plain": [
       "({'C': 0.99999999999999878}, 0.72799999999999998)"
      ]
     },
     "execution_count": 168,
     "metadata": {},
     "output_type": "execute_result"
    }
   ],
   "source": [
    "lr_grid.best_params_, lr_grid.best_score_"
   ]
  },
  {
   "cell_type": "code",
   "execution_count": 169,
   "metadata": {
    "collapsed": false
   },
   "outputs": [
    {
     "data": {
      "text/html": [
       "<div>\n",
       "<style>\n",
       "    .dataframe thead tr:only-child th {\n",
       "        text-align: right;\n",
       "    }\n",
       "\n",
       "    .dataframe thead th {\n",
       "        text-align: left;\n",
       "    }\n",
       "\n",
       "    .dataframe tbody tr th {\n",
       "        vertical-align: top;\n",
       "    }\n",
       "</style>\n",
       "<table border=\"1\" class=\"dataframe\">\n",
       "  <thead>\n",
       "    <tr style=\"text-align: right;\">\n",
       "      <th></th>\n",
       "      <th>mean_fit_time</th>\n",
       "      <th>mean_score_time</th>\n",
       "      <th>mean_test_score</th>\n",
       "      <th>mean_train_score</th>\n",
       "      <th>param_C</th>\n",
       "      <th>params</th>\n",
       "      <th>rank_test_score</th>\n",
       "      <th>split0_test_score</th>\n",
       "      <th>split0_train_score</th>\n",
       "      <th>split1_test_score</th>\n",
       "      <th>...</th>\n",
       "      <th>split7_test_score</th>\n",
       "      <th>split7_train_score</th>\n",
       "      <th>split8_test_score</th>\n",
       "      <th>split8_train_score</th>\n",
       "      <th>split9_test_score</th>\n",
       "      <th>split9_train_score</th>\n",
       "      <th>std_fit_time</th>\n",
       "      <th>std_score_time</th>\n",
       "      <th>std_test_score</th>\n",
       "      <th>std_train_score</th>\n",
       "    </tr>\n",
       "  </thead>\n",
       "  <tbody>\n",
       "    <tr>\n",
       "      <th>0</th>\n",
       "      <td>0.008934</td>\n",
       "      <td>0.004484</td>\n",
       "      <td>0.721333</td>\n",
       "      <td>0.749768</td>\n",
       "      <td>0.125</td>\n",
       "      <td>{'C': 0.125}</td>\n",
       "      <td>8</td>\n",
       "      <td>0.723684</td>\n",
       "      <td>0.744807</td>\n",
       "      <td>0.710526</td>\n",
       "      <td>...</td>\n",
       "      <td>0.702703</td>\n",
       "      <td>0.763314</td>\n",
       "      <td>0.743243</td>\n",
       "      <td>0.755917</td>\n",
       "      <td>0.716216</td>\n",
       "      <td>0.745562</td>\n",
       "      <td>0.004978</td>\n",
       "      <td>0.004907</td>\n",
       "      <td>0.040348</td>\n",
       "      <td>0.009359</td>\n",
       "    </tr>\n",
       "    <tr>\n",
       "      <th>1</th>\n",
       "      <td>0.005863</td>\n",
       "      <td>0.000655</td>\n",
       "      <td>0.725333</td>\n",
       "      <td>0.751846</td>\n",
       "      <td>0.153893</td>\n",
       "      <td>{'C': 0.153893051668}</td>\n",
       "      <td>3</td>\n",
       "      <td>0.723684</td>\n",
       "      <td>0.740356</td>\n",
       "      <td>0.736842</td>\n",
       "      <td>...</td>\n",
       "      <td>0.702703</td>\n",
       "      <td>0.760355</td>\n",
       "      <td>0.743243</td>\n",
       "      <td>0.757396</td>\n",
       "      <td>0.729730</td>\n",
       "      <td>0.747041</td>\n",
       "      <td>0.000162</td>\n",
       "      <td>0.000045</td>\n",
       "      <td>0.048277</td>\n",
       "      <td>0.007344</td>\n",
       "    </tr>\n",
       "    <tr>\n",
       "      <th>2</th>\n",
       "      <td>0.012967</td>\n",
       "      <td>0.000958</td>\n",
       "      <td>0.726667</td>\n",
       "      <td>0.752884</td>\n",
       "      <td>0.189465</td>\n",
       "      <td>{'C': 0.189464570814}</td>\n",
       "      <td>2</td>\n",
       "      <td>0.723684</td>\n",
       "      <td>0.747774</td>\n",
       "      <td>0.723684</td>\n",
       "      <td>...</td>\n",
       "      <td>0.702703</td>\n",
       "      <td>0.758876</td>\n",
       "      <td>0.729730</td>\n",
       "      <td>0.755917</td>\n",
       "      <td>0.729730</td>\n",
       "      <td>0.750000</td>\n",
       "      <td>0.008333</td>\n",
       "      <td>0.000701</td>\n",
       "      <td>0.044361</td>\n",
       "      <td>0.005367</td>\n",
       "    </tr>\n",
       "    <tr>\n",
       "      <th>3</th>\n",
       "      <td>0.010789</td>\n",
       "      <td>0.001703</td>\n",
       "      <td>0.722667</td>\n",
       "      <td>0.754367</td>\n",
       "      <td>0.233258</td>\n",
       "      <td>{'C': 0.233258247884}</td>\n",
       "      <td>6</td>\n",
       "      <td>0.710526</td>\n",
       "      <td>0.749258</td>\n",
       "      <td>0.736842</td>\n",
       "      <td>...</td>\n",
       "      <td>0.689189</td>\n",
       "      <td>0.761834</td>\n",
       "      <td>0.716216</td>\n",
       "      <td>0.754438</td>\n",
       "      <td>0.729730</td>\n",
       "      <td>0.752959</td>\n",
       "      <td>0.004534</td>\n",
       "      <td>0.001309</td>\n",
       "      <td>0.049697</td>\n",
       "      <td>0.006007</td>\n",
       "    </tr>\n",
       "    <tr>\n",
       "      <th>4</th>\n",
       "      <td>0.015906</td>\n",
       "      <td>0.004604</td>\n",
       "      <td>0.720000</td>\n",
       "      <td>0.758368</td>\n",
       "      <td>0.287175</td>\n",
       "      <td>{'C': 0.287174588749}</td>\n",
       "      <td>15</td>\n",
       "      <td>0.710526</td>\n",
       "      <td>0.756677</td>\n",
       "      <td>0.736842</td>\n",
       "      <td>...</td>\n",
       "      <td>0.675676</td>\n",
       "      <td>0.766272</td>\n",
       "      <td>0.716216</td>\n",
       "      <td>0.761834</td>\n",
       "      <td>0.729730</td>\n",
       "      <td>0.751479</td>\n",
       "      <td>0.010617</td>\n",
       "      <td>0.006863</td>\n",
       "      <td>0.048576</td>\n",
       "      <td>0.006106</td>\n",
       "    </tr>\n",
       "    <tr>\n",
       "      <th>5</th>\n",
       "      <td>0.010681</td>\n",
       "      <td>0.001579</td>\n",
       "      <td>0.721333</td>\n",
       "      <td>0.760146</td>\n",
       "      <td>0.353553</td>\n",
       "      <td>{'C': 0.353553390593}</td>\n",
       "      <td>8</td>\n",
       "      <td>0.710526</td>\n",
       "      <td>0.761128</td>\n",
       "      <td>0.736842</td>\n",
       "      <td>...</td>\n",
       "      <td>0.689189</td>\n",
       "      <td>0.764793</td>\n",
       "      <td>0.702703</td>\n",
       "      <td>0.758876</td>\n",
       "      <td>0.729730</td>\n",
       "      <td>0.757396</td>\n",
       "      <td>0.002899</td>\n",
       "      <td>0.001643</td>\n",
       "      <td>0.045470</td>\n",
       "      <td>0.005197</td>\n",
       "    </tr>\n",
       "    <tr>\n",
       "      <th>6</th>\n",
       "      <td>0.017797</td>\n",
       "      <td>0.000548</td>\n",
       "      <td>0.721333</td>\n",
       "      <td>0.761922</td>\n",
       "      <td>0.435275</td>\n",
       "      <td>{'C': 0.435275281648}</td>\n",
       "      <td>8</td>\n",
       "      <td>0.697368</td>\n",
       "      <td>0.764095</td>\n",
       "      <td>0.736842</td>\n",
       "      <td>...</td>\n",
       "      <td>0.675676</td>\n",
       "      <td>0.770710</td>\n",
       "      <td>0.702703</td>\n",
       "      <td>0.755917</td>\n",
       "      <td>0.729730</td>\n",
       "      <td>0.763314</td>\n",
       "      <td>0.009315</td>\n",
       "      <td>0.000122</td>\n",
       "      <td>0.053495</td>\n",
       "      <td>0.008318</td>\n",
       "    </tr>\n",
       "    <tr>\n",
       "      <th>7</th>\n",
       "      <td>0.009871</td>\n",
       "      <td>0.001909</td>\n",
       "      <td>0.720000</td>\n",
       "      <td>0.763700</td>\n",
       "      <td>0.535887</td>\n",
       "      <td>{'C': 0.535886731268}</td>\n",
       "      <td>15</td>\n",
       "      <td>0.697368</td>\n",
       "      <td>0.767062</td>\n",
       "      <td>0.736842</td>\n",
       "      <td>...</td>\n",
       "      <td>0.675676</td>\n",
       "      <td>0.772189</td>\n",
       "      <td>0.689189</td>\n",
       "      <td>0.758876</td>\n",
       "      <td>0.729730</td>\n",
       "      <td>0.764793</td>\n",
       "      <td>0.005395</td>\n",
       "      <td>0.003739</td>\n",
       "      <td>0.056159</td>\n",
       "      <td>0.007127</td>\n",
       "    </tr>\n",
       "    <tr>\n",
       "      <th>8</th>\n",
       "      <td>0.013532</td>\n",
       "      <td>0.000652</td>\n",
       "      <td>0.720000</td>\n",
       "      <td>0.766220</td>\n",
       "      <td>0.659754</td>\n",
       "      <td>{'C': 0.659753955386}</td>\n",
       "      <td>15</td>\n",
       "      <td>0.684211</td>\n",
       "      <td>0.768546</td>\n",
       "      <td>0.736842</td>\n",
       "      <td>...</td>\n",
       "      <td>0.675676</td>\n",
       "      <td>0.773669</td>\n",
       "      <td>0.702703</td>\n",
       "      <td>0.763314</td>\n",
       "      <td>0.743243</td>\n",
       "      <td>0.766272</td>\n",
       "      <td>0.005889</td>\n",
       "      <td>0.000035</td>\n",
       "      <td>0.056600</td>\n",
       "      <td>0.006018</td>\n",
       "    </tr>\n",
       "    <tr>\n",
       "      <th>9</th>\n",
       "      <td>0.008056</td>\n",
       "      <td>0.000842</td>\n",
       "      <td>0.724000</td>\n",
       "      <td>0.767702</td>\n",
       "      <td>0.812252</td>\n",
       "      <td>{'C': 0.812252396356}</td>\n",
       "      <td>4</td>\n",
       "      <td>0.684211</td>\n",
       "      <td>0.770030</td>\n",
       "      <td>0.763158</td>\n",
       "      <td>...</td>\n",
       "      <td>0.689189</td>\n",
       "      <td>0.772189</td>\n",
       "      <td>0.689189</td>\n",
       "      <td>0.764793</td>\n",
       "      <td>0.756757</td>\n",
       "      <td>0.766272</td>\n",
       "      <td>0.001985</td>\n",
       "      <td>0.000741</td>\n",
       "      <td>0.058237</td>\n",
       "      <td>0.005799</td>\n",
       "    </tr>\n",
       "    <tr>\n",
       "      <th>10</th>\n",
       "      <td>0.011733</td>\n",
       "      <td>0.001480</td>\n",
       "      <td>0.728000</td>\n",
       "      <td>0.767851</td>\n",
       "      <td>1</td>\n",
       "      <td>{'C': 1.0}</td>\n",
       "      <td>1</td>\n",
       "      <td>0.697368</td>\n",
       "      <td>0.770030</td>\n",
       "      <td>0.763158</td>\n",
       "      <td>...</td>\n",
       "      <td>0.689189</td>\n",
       "      <td>0.772189</td>\n",
       "      <td>0.689189</td>\n",
       "      <td>0.763314</td>\n",
       "      <td>0.770270</td>\n",
       "      <td>0.767751</td>\n",
       "      <td>0.003786</td>\n",
       "      <td>0.001318</td>\n",
       "      <td>0.058985</td>\n",
       "      <td>0.005006</td>\n",
       "    </tr>\n",
       "    <tr>\n",
       "      <th>11</th>\n",
       "      <td>0.009815</td>\n",
       "      <td>0.001103</td>\n",
       "      <td>0.724000</td>\n",
       "      <td>0.770813</td>\n",
       "      <td>1.23114</td>\n",
       "      <td>{'C': 1.23114441334}</td>\n",
       "      <td>4</td>\n",
       "      <td>0.697368</td>\n",
       "      <td>0.772997</td>\n",
       "      <td>0.763158</td>\n",
       "      <td>...</td>\n",
       "      <td>0.689189</td>\n",
       "      <td>0.770710</td>\n",
       "      <td>0.689189</td>\n",
       "      <td>0.766272</td>\n",
       "      <td>0.770270</td>\n",
       "      <td>0.773669</td>\n",
       "      <td>0.002376</td>\n",
       "      <td>0.001651</td>\n",
       "      <td>0.059346</td>\n",
       "      <td>0.005444</td>\n",
       "    </tr>\n",
       "    <tr>\n",
       "      <th>12</th>\n",
       "      <td>0.011576</td>\n",
       "      <td>0.001145</td>\n",
       "      <td>0.721333</td>\n",
       "      <td>0.770814</td>\n",
       "      <td>1.51572</td>\n",
       "      <td>{'C': 1.51571656651}</td>\n",
       "      <td>8</td>\n",
       "      <td>0.697368</td>\n",
       "      <td>0.774481</td>\n",
       "      <td>0.763158</td>\n",
       "      <td>...</td>\n",
       "      <td>0.689189</td>\n",
       "      <td>0.769231</td>\n",
       "      <td>0.689189</td>\n",
       "      <td>0.764793</td>\n",
       "      <td>0.770270</td>\n",
       "      <td>0.773669</td>\n",
       "      <td>0.003886</td>\n",
       "      <td>0.001384</td>\n",
       "      <td>0.060832</td>\n",
       "      <td>0.004665</td>\n",
       "    </tr>\n",
       "    <tr>\n",
       "      <th>13</th>\n",
       "      <td>0.008581</td>\n",
       "      <td>0.000405</td>\n",
       "      <td>0.722667</td>\n",
       "      <td>0.770962</td>\n",
       "      <td>1.86607</td>\n",
       "      <td>{'C': 1.86606598307}</td>\n",
       "      <td>6</td>\n",
       "      <td>0.697368</td>\n",
       "      <td>0.772997</td>\n",
       "      <td>0.763158</td>\n",
       "      <td>...</td>\n",
       "      <td>0.689189</td>\n",
       "      <td>0.770710</td>\n",
       "      <td>0.702703</td>\n",
       "      <td>0.767751</td>\n",
       "      <td>0.770270</td>\n",
       "      <td>0.770710</td>\n",
       "      <td>0.004023</td>\n",
       "      <td>0.000027</td>\n",
       "      <td>0.060258</td>\n",
       "      <td>0.004464</td>\n",
       "    </tr>\n",
       "    <tr>\n",
       "      <th>14</th>\n",
       "      <td>0.008561</td>\n",
       "      <td>0.000380</td>\n",
       "      <td>0.721333</td>\n",
       "      <td>0.771849</td>\n",
       "      <td>2.2974</td>\n",
       "      <td>{'C': 2.29739670999}</td>\n",
       "      <td>8</td>\n",
       "      <td>0.684211</td>\n",
       "      <td>0.772997</td>\n",
       "      <td>0.763158</td>\n",
       "      <td>...</td>\n",
       "      <td>0.689189</td>\n",
       "      <td>0.772189</td>\n",
       "      <td>0.702703</td>\n",
       "      <td>0.767751</td>\n",
       "      <td>0.770270</td>\n",
       "      <td>0.772189</td>\n",
       "      <td>0.003254</td>\n",
       "      <td>0.000023</td>\n",
       "      <td>0.060945</td>\n",
       "      <td>0.005114</td>\n",
       "    </tr>\n",
       "    <tr>\n",
       "      <th>15</th>\n",
       "      <td>0.011265</td>\n",
       "      <td>0.000567</td>\n",
       "      <td>0.721333</td>\n",
       "      <td>0.772737</td>\n",
       "      <td>2.82843</td>\n",
       "      <td>{'C': 2.82842712475}</td>\n",
       "      <td>8</td>\n",
       "      <td>0.684211</td>\n",
       "      <td>0.772997</td>\n",
       "      <td>0.763158</td>\n",
       "      <td>...</td>\n",
       "      <td>0.689189</td>\n",
       "      <td>0.773669</td>\n",
       "      <td>0.702703</td>\n",
       "      <td>0.769231</td>\n",
       "      <td>0.770270</td>\n",
       "      <td>0.776627</td>\n",
       "      <td>0.003917</td>\n",
       "      <td>0.000113</td>\n",
       "      <td>0.060945</td>\n",
       "      <td>0.005896</td>\n",
       "    </tr>\n",
       "    <tr>\n",
       "      <th>16</th>\n",
       "      <td>0.008047</td>\n",
       "      <td>0.000395</td>\n",
       "      <td>0.721333</td>\n",
       "      <td>0.773035</td>\n",
       "      <td>3.4822</td>\n",
       "      <td>{'C': 3.48220225318}</td>\n",
       "      <td>8</td>\n",
       "      <td>0.684211</td>\n",
       "      <td>0.775964</td>\n",
       "      <td>0.763158</td>\n",
       "      <td>...</td>\n",
       "      <td>0.689189</td>\n",
       "      <td>0.773669</td>\n",
       "      <td>0.702703</td>\n",
       "      <td>0.766272</td>\n",
       "      <td>0.770270</td>\n",
       "      <td>0.775148</td>\n",
       "      <td>0.005014</td>\n",
       "      <td>0.000080</td>\n",
       "      <td>0.061533</td>\n",
       "      <td>0.006071</td>\n",
       "    </tr>\n",
       "  </tbody>\n",
       "</table>\n",
       "<p>17 rows × 31 columns</p>\n",
       "</div>"
      ],
      "text/plain": [
       "    mean_fit_time  mean_score_time  mean_test_score  mean_train_score  \\\n",
       "0        0.008934         0.004484         0.721333          0.749768   \n",
       "1        0.005863         0.000655         0.725333          0.751846   \n",
       "2        0.012967         0.000958         0.726667          0.752884   \n",
       "3        0.010789         0.001703         0.722667          0.754367   \n",
       "4        0.015906         0.004604         0.720000          0.758368   \n",
       "5        0.010681         0.001579         0.721333          0.760146   \n",
       "6        0.017797         0.000548         0.721333          0.761922   \n",
       "7        0.009871         0.001909         0.720000          0.763700   \n",
       "8        0.013532         0.000652         0.720000          0.766220   \n",
       "9        0.008056         0.000842         0.724000          0.767702   \n",
       "10       0.011733         0.001480         0.728000          0.767851   \n",
       "11       0.009815         0.001103         0.724000          0.770813   \n",
       "12       0.011576         0.001145         0.721333          0.770814   \n",
       "13       0.008581         0.000405         0.722667          0.770962   \n",
       "14       0.008561         0.000380         0.721333          0.771849   \n",
       "15       0.011265         0.000567         0.721333          0.772737   \n",
       "16       0.008047         0.000395         0.721333          0.773035   \n",
       "\n",
       "     param_C                 params  rank_test_score  split0_test_score  \\\n",
       "0      0.125           {'C': 0.125}                8           0.723684   \n",
       "1   0.153893  {'C': 0.153893051668}                3           0.723684   \n",
       "2   0.189465  {'C': 0.189464570814}                2           0.723684   \n",
       "3   0.233258  {'C': 0.233258247884}                6           0.710526   \n",
       "4   0.287175  {'C': 0.287174588749}               15           0.710526   \n",
       "5   0.353553  {'C': 0.353553390593}                8           0.710526   \n",
       "6   0.435275  {'C': 0.435275281648}                8           0.697368   \n",
       "7   0.535887  {'C': 0.535886731268}               15           0.697368   \n",
       "8   0.659754  {'C': 0.659753955386}               15           0.684211   \n",
       "9   0.812252  {'C': 0.812252396356}                4           0.684211   \n",
       "10         1             {'C': 1.0}                1           0.697368   \n",
       "11   1.23114   {'C': 1.23114441334}                4           0.697368   \n",
       "12   1.51572   {'C': 1.51571656651}                8           0.697368   \n",
       "13   1.86607   {'C': 1.86606598307}                6           0.697368   \n",
       "14    2.2974   {'C': 2.29739670999}                8           0.684211   \n",
       "15   2.82843   {'C': 2.82842712475}                8           0.684211   \n",
       "16    3.4822   {'C': 3.48220225318}                8           0.684211   \n",
       "\n",
       "    split0_train_score  split1_test_score       ...         split7_test_score  \\\n",
       "0             0.744807           0.710526       ...                  0.702703   \n",
       "1             0.740356           0.736842       ...                  0.702703   \n",
       "2             0.747774           0.723684       ...                  0.702703   \n",
       "3             0.749258           0.736842       ...                  0.689189   \n",
       "4             0.756677           0.736842       ...                  0.675676   \n",
       "5             0.761128           0.736842       ...                  0.689189   \n",
       "6             0.764095           0.736842       ...                  0.675676   \n",
       "7             0.767062           0.736842       ...                  0.675676   \n",
       "8             0.768546           0.736842       ...                  0.675676   \n",
       "9             0.770030           0.763158       ...                  0.689189   \n",
       "10            0.770030           0.763158       ...                  0.689189   \n",
       "11            0.772997           0.763158       ...                  0.689189   \n",
       "12            0.774481           0.763158       ...                  0.689189   \n",
       "13            0.772997           0.763158       ...                  0.689189   \n",
       "14            0.772997           0.763158       ...                  0.689189   \n",
       "15            0.772997           0.763158       ...                  0.689189   \n",
       "16            0.775964           0.763158       ...                  0.689189   \n",
       "\n",
       "    split7_train_score  split8_test_score  split8_train_score  \\\n",
       "0             0.763314           0.743243            0.755917   \n",
       "1             0.760355           0.743243            0.757396   \n",
       "2             0.758876           0.729730            0.755917   \n",
       "3             0.761834           0.716216            0.754438   \n",
       "4             0.766272           0.716216            0.761834   \n",
       "5             0.764793           0.702703            0.758876   \n",
       "6             0.770710           0.702703            0.755917   \n",
       "7             0.772189           0.689189            0.758876   \n",
       "8             0.773669           0.702703            0.763314   \n",
       "9             0.772189           0.689189            0.764793   \n",
       "10            0.772189           0.689189            0.763314   \n",
       "11            0.770710           0.689189            0.766272   \n",
       "12            0.769231           0.689189            0.764793   \n",
       "13            0.770710           0.702703            0.767751   \n",
       "14            0.772189           0.702703            0.767751   \n",
       "15            0.773669           0.702703            0.769231   \n",
       "16            0.773669           0.702703            0.766272   \n",
       "\n",
       "    split9_test_score  split9_train_score  std_fit_time  std_score_time  \\\n",
       "0            0.716216            0.745562      0.004978        0.004907   \n",
       "1            0.729730            0.747041      0.000162        0.000045   \n",
       "2            0.729730            0.750000      0.008333        0.000701   \n",
       "3            0.729730            0.752959      0.004534        0.001309   \n",
       "4            0.729730            0.751479      0.010617        0.006863   \n",
       "5            0.729730            0.757396      0.002899        0.001643   \n",
       "6            0.729730            0.763314      0.009315        0.000122   \n",
       "7            0.729730            0.764793      0.005395        0.003739   \n",
       "8            0.743243            0.766272      0.005889        0.000035   \n",
       "9            0.756757            0.766272      0.001985        0.000741   \n",
       "10           0.770270            0.767751      0.003786        0.001318   \n",
       "11           0.770270            0.773669      0.002376        0.001651   \n",
       "12           0.770270            0.773669      0.003886        0.001384   \n",
       "13           0.770270            0.770710      0.004023        0.000027   \n",
       "14           0.770270            0.772189      0.003254        0.000023   \n",
       "15           0.770270            0.776627      0.003917        0.000113   \n",
       "16           0.770270            0.775148      0.005014        0.000080   \n",
       "\n",
       "    std_test_score  std_train_score  \n",
       "0         0.040348         0.009359  \n",
       "1         0.048277         0.007344  \n",
       "2         0.044361         0.005367  \n",
       "3         0.049697         0.006007  \n",
       "4         0.048576         0.006106  \n",
       "5         0.045470         0.005197  \n",
       "6         0.053495         0.008318  \n",
       "7         0.056159         0.007127  \n",
       "8         0.056600         0.006018  \n",
       "9         0.058237         0.005799  \n",
       "10        0.058985         0.005006  \n",
       "11        0.059346         0.005444  \n",
       "12        0.060832         0.004665  \n",
       "13        0.060258         0.004464  \n",
       "14        0.060945         0.005114  \n",
       "15        0.060945         0.005896  \n",
       "16        0.061533         0.006071  \n",
       "\n",
       "[17 rows x 31 columns]"
      ]
     },
     "execution_count": 169,
     "metadata": {},
     "output_type": "execute_result"
    }
   ],
   "source": [
    "pd.DataFrame(lr_grid.cv_results_)"
   ]
  },
  {
   "cell_type": "code",
   "execution_count": 173,
   "metadata": {
    "collapsed": false
   },
   "outputs": [
    {
     "data": {
      "text/plain": [
       "(0.65, 1.0)"
      ]
     },
     "execution_count": 173,
     "metadata": {},
     "output_type": "execute_result"
    },
    {
     "data": {
      "image/png": "[encoded data removed]",
      "text/plain": [
       "<matplotlib.figure.Figure at 0x7f9072749390>"
      ]
     },
     "metadata": {},
     "output_type": "display_data"
    }
   ],
   "source": [
    "xs = np.array(lr_grid.cv_results_['param_C'], dtype=float)\n",
    "t1 = lr_grid.cv_results_['mean_train_score']\n",
    "t2 = lr_grid.cv_results_['mean_test_score']\n",
    "t1_sd = lr_grid.cv_results_['std_train_score']\n",
    "t2_sd = lr_grid.cv_results_['std_test_score']\n",
    "\n",
    "plt.figure(figsize=(12, 6))\n",
    "plt.plot(xs, t1, 'ro-', label='train')\n",
    "plt.plot(xs, t2, 'b^-', label='cv')\n",
    "plt.fill_between(xs, t1-t1_sd, t1+t1_sd, alpha=.2, color='r')\n",
    "plt.fill_between(xs, t2-t2_sd, t2+t2_sd, alpha=.2, color='b')\n",
    "plt.xlabel('C')\n",
    "plt.ylabel('accuracy')\n",
    "plt.legend()\n",
    "plt.semilogx(basex=2)\n",
    "plt.ylim(.65, 1.0)"
   ]
  },
  {
   "cell_type": "code",
   "execution_count": 174,
   "metadata": {
    "collapsed": true
   },
   "outputs": [],
   "source": [
    "from scipy.stats import ttest_1samp, ttest_ind, ttest_rel"
   ]
  },
  {
   "cell_type": "code",
   "execution_count": 212,
   "metadata": {
    "collapsed": false
   },
   "outputs": [],
   "source": [
    "df = pd.DataFrame(svc_grid.cv_results_)\n",
    "\n",
    "col_mask = df.columns[df.columns.str.contains('split[0-9]+_test')].sort_values()\n",
    "\n",
    "row_mask = df.param_C == svc_grid.best_params_['C']\n",
    "\n",
    "svm_train = df.loc[row_mask, col_mask ].values.ravel()"
   ]
  },
  {
   "cell_type": "code",
   "execution_count": 213,
   "metadata": {
    "collapsed": true
   },
   "outputs": [],
   "source": [
    "df = pd.DataFrame(lr_grid.cv_results_)\n",
    "\n",
    "col_mask = df.columns[df.columns.str.contains('split[0-9]+_test')]\n",
    "row_mask = df.param_C == lr_grid.best_params_['C']\n",
    "\n",
    "lr_train = df.loc[row_mask, col_mask].values.ravel()"
   ]
  },
  {
   "cell_type": "code",
   "execution_count": 214,
   "metadata": {
    "collapsed": false
   },
   "outputs": [
    {
     "data": {
      "text/plain": [
       "Ttest_indResult(statistic=0.61492862498326051, pvalue=0.54719393879203615)"
      ]
     },
     "execution_count": 214,
     "metadata": {},
     "output_type": "execute_result"
    }
   ],
   "source": [
    "ttest_ind(svm_train, lr_train, equal_var=False)"
   ]
  },
  {
   "cell_type": "code",
   "execution_count": 216,
   "metadata": {
    "collapsed": false
   },
   "outputs": [
    {
     "data": {
      "text/plain": [
       "array([ 0.72368421,  0.73684211,  0.85526316,  0.72368421,  0.73684211,\n",
       "        0.72972973,  0.71621622,  0.72972973,  0.7027027 ,  0.77027027])"
      ]
     },
     "execution_count": 216,
     "metadata": {},
     "output_type": "execute_result"
    }
   ],
   "source": [
    "cross_val_score(svc_grid.best_estimator_, X_train, y_train, cv=cv)"
   ]
  },
  {
   "cell_type": "code",
   "execution_count": 217,
   "metadata": {
    "collapsed": false
   },
   "outputs": [
    {
     "data": {
      "text/plain": [
       "array([ 0.72368421,  0.73684211,  0.85526316,  0.72368421,  0.73684211,\n",
       "        0.72972973,  0.71621622,  0.72972973,  0.7027027 ,  0.77027027])"
      ]
     },
     "execution_count": 217,
     "metadata": {},
     "output_type": "execute_result"
    }
   ],
   "source": [
    "svm_train"
   ]
  },
  {
   "cell_type": "code",
   "execution_count": 218,
   "metadata": {
    "collapsed": false
   },
   "outputs": [
    {
     "data": {
      "text/plain": [
       "array([ 0.69736842,  0.76315789,  0.85526316,  0.63157895,  0.76315789,\n",
       "        0.71621622,  0.7027027 ,  0.68918919,  0.68918919,  0.77027027])"
      ]
     },
     "execution_count": 218,
     "metadata": {},
     "output_type": "execute_result"
    }
   ],
   "source": [
    "cross_val_score(lr_grid.best_estimator_, X_train, y_train, cv=cv)"
   ]
  },
  {
   "cell_type": "code",
   "execution_count": 219,
   "metadata": {
    "collapsed": false
   },
   "outputs": [
    {
     "data": {
      "text/plain": [
       "array([ 0.69736842,  0.76315789,  0.85526316,  0.63157895,  0.76315789,\n",
       "        0.71621622,  0.7027027 ,  0.68918919,  0.68918919,  0.77027027])"
      ]
     },
     "execution_count": 219,
     "metadata": {},
     "output_type": "execute_result"
    }
   ],
   "source": [
    "lr_train"
   ]
  },
  {
   "cell_type": "code",
   "execution_count": 268,
   "metadata": {
    "collapsed": false
   },
   "outputs": [],
   "source": [
    "svc_pipe = make_pipeline(StandardScaler(), SVC(kernel='rbf', gamma=.03))\n",
    "svc_pipe_params = {'svc__C': 2**np.arange(-2, 8, dtype=float)}#, 'svc__gamma': 2**np.arange(-6, 1, .5)}\n",
    "svc_pipe_grid = GridSearchCV(svc_pipe, svc_pipe_params, cv=cv, n_jobs=-1, verbose=1)"
   ]
  },
  {
   "cell_type": "code",
   "execution_count": 269,
   "metadata": {
    "collapsed": false
   },
   "outputs": [
    {
     "name": "stdout",
     "output_type": "stream",
     "text": [
      "Fitting 10 folds for each of 10 candidates, totalling 100 fits\n"
     ]
    },
    {
     "name": "stderr",
     "output_type": "stream",
     "text": [
      "[Parallel(n_jobs=-1)]: Done  76 tasks      | elapsed:    2.8s\n",
      "[Parallel(n_jobs=-1)]: Done 100 out of 100 | elapsed:    3.7s finished\n"
     ]
    },
    {
     "data": {
      "text/plain": [
       "GridSearchCV(cv=StratifiedKFold(n_splits=10, random_state=123, shuffle=False),\n",
       "       error_score='raise',\n",
       "       estimator=Pipeline(steps=[('standardscaler', StandardScaler(copy=True, with_mean=True, with_std=True)), ('svc', SVC(C=1.0, cache_size=200, class_weight=None, coef0=0.0,\n",
       "  decision_function_shape=None, degree=3, gamma=0.03, kernel='rbf',\n",
       "  max_iter=-1, probability=False, random_state=None, shrinking=True,\n",
       "  tol=0.001, verbose=False))]),\n",
       "       fit_params={}, iid=True, n_jobs=-1,\n",
       "       param_grid={'svc__C': array([   0.25,    0.5 ,    1.  ,    2.  ,    4.  ,    8.  ,   16.  ,\n",
       "         32.  ,   64.  ,  128.  ])},\n",
       "       pre_dispatch='2*n_jobs', refit=True, return_train_score=True,\n",
       "       scoring=None, verbose=1)"
      ]
     },
     "execution_count": 269,
     "metadata": {},
     "output_type": "execute_result"
    }
   ],
   "source": [
    "svc_pipe_grid.fit(X_train, y_train)"
   ]
  },
  {
   "cell_type": "code",
   "execution_count": 270,
   "metadata": {
    "collapsed": false
   },
   "outputs": [
    {
     "data": {
      "text/plain": [
       "(0.73999999999999999, {'svc__C': 2.0})"
      ]
     },
     "execution_count": 270,
     "metadata": {},
     "output_type": "execute_result"
    }
   ],
   "source": [
    "svc_pipe_grid.best_score_, svc_pipe_grid.best_params_"
   ]
  },
  {
   "cell_type": "code",
   "execution_count": 271,
   "metadata": {
    "collapsed": false
   },
   "outputs": [],
   "source": [
    "df = pd.DataFrame(svc_pipe_grid.cv_results_)"
   ]
  },
  {
   "cell_type": "code",
   "execution_count": 272,
   "metadata": {
    "collapsed": false
   },
   "outputs": [
    {
     "data": {
      "text/plain": [
       "[]"
      ]
     },
     "execution_count": 272,
     "metadata": {},
     "output_type": "execute_result"
    },
    {
     "data": {
      "image/png": "[encoded data removed]",
      "text/plain": [
       "<matplotlib.figure.Figure at 0x7f90711f63c8>"
      ]
     },
     "metadata": {},
     "output_type": "display_data"
    }
   ],
   "source": [
    "t1 = df['mean_train_score'].values\n",
    "t2 = df['mean_test_score'].values\n",
    "xs = np.array(df['param_svc__C'], dtype=float)\n",
    "\n",
    "t1_sd = df['std_train_score'].values\n",
    "t2_sd = df['std_test_score'].values\n",
    "\n",
    "plt.figure(figsize=(12, 8))\n",
    "plt.plot(xs, t1, 'r.-', label='train')\n",
    "plt.plot(xs, t2, 'b.-', label='cv')\n",
    "plt.fill_between(xs, t1-t1_sd, t1+t1_sd, alpha=.2, color='r')\n",
    "plt.fill_between(xs, t2-t2_sd, t2+t2_sd, alpha=.2, color='b')\n",
    "plt.ylabel('accuracy')\n",
    "plt.xlabel('C')\n",
    "plt.legend()\n",
    "plt.semilogx(basex=2)"
   ]
  },
  {
   "cell_type": "code",
   "execution_count": 273,
   "metadata": {
    "collapsed": true
   },
   "outputs": [],
   "source": [
    "svc_pipe_scores = cross_val_score(svc_pipe_grid.best_estimator_, X_train, y_train, cv=cv)"
   ]
  },
  {
   "cell_type": "code",
   "execution_count": 274,
   "metadata": {
    "collapsed": false
   },
   "outputs": [
    {
     "data": {
      "text/plain": [
       "Ttest_indResult(statistic=-0.1232729510296634, pvalue=0.90327248990685949)"
      ]
     },
     "execution_count": 274,
     "metadata": {},
     "output_type": "execute_result"
    }
   ],
   "source": [
    "ttest_ind(svc_pipe_scores, svm_train, equal_var=False)"
   ]
  },
  {
   "cell_type": "code",
   "execution_count": 276,
   "metadata": {
    "collapsed": true
   },
   "outputs": [],
   "source": [
    "lr_scores = cross_val_score(make_pipeline(StandardScaler(), LogisticRegression()), X_train, y_train, cv=cv)"
   ]
  },
  {
   "cell_type": "code",
   "execution_count": 277,
   "metadata": {
    "collapsed": false
   },
   "outputs": [
    {
     "data": {
      "text/plain": [
       "Ttest_indResult(statistic=0.60462127907202179, pvalue=0.55336482930630415)"
      ]
     },
     "execution_count": 277,
     "metadata": {},
     "output_type": "execute_result"
    }
   ],
   "source": [
    "ttest_ind(svc_pipe_scores, lr_scores, equal_var=False)"
   ]
  },
  {
   "cell_type": "code",
   "execution_count": 278,
   "metadata": {
    "collapsed": false
   },
   "outputs": [
    {
     "data": {
      "text/plain": [
       "(0.72514224751066858, 0.057656640167599311)"
      ]
     },
     "execution_count": 278,
     "metadata": {},
     "output_type": "execute_result"
    }
   ],
   "source": [
    "lr_scores.mean(), lr_scores.std()"
   ]
  },
  {
   "cell_type": "code",
   "execution_count": 279,
   "metadata": {
    "collapsed": false
   },
   "outputs": [
    {
     "data": {
      "text/plain": [
       "(0.73997155049786634, 0.045713213416430004)"
      ]
     },
     "execution_count": 279,
     "metadata": {},
     "output_type": "execute_result"
    }
   ],
   "source": [
    "svc_pipe_scores.mean(), svc_pipe_scores.std()"
   ]
  },
  {
   "cell_type": "code",
   "execution_count": 4,
   "metadata": {
    "collapsed": true
   },
   "outputs": [],
   "source": [
    "permeability = pd.read_csv('datasets/permeability/permeability.csv', index_col=0)\n",
    "fingerprints = pd.read_csv('datasets/permeability/fingerprints.csv', index_col=0)"
   ]
  },
  {
   "cell_type": "code",
   "execution_count": 5,
   "metadata": {
    "collapsed": false
   },
   "outputs": [
    {
     "data": {
      "text/html": [
       "<div>\n",
       "<style>\n",
       "    .dataframe thead tr:only-child th {\n",
       "        text-align: right;\n",
       "    }\n",
       "\n",
       "    .dataframe thead th {\n",
       "        text-align: left;\n",
       "    }\n",
       "\n",
       "    .dataframe tbody tr th {\n",
       "        vertical-align: top;\n",
       "    }\n",
       "</style>\n",
       "<table border=\"1\" class=\"dataframe\">\n",
       "  <thead>\n",
       "    <tr style=\"text-align: right;\">\n",
       "      <th></th>\n",
       "      <th>permeability</th>\n",
       "    </tr>\n",
       "  </thead>\n",
       "  <tbody>\n",
       "    <tr>\n",
       "      <th>1</th>\n",
       "      <td>12.520</td>\n",
       "    </tr>\n",
       "    <tr>\n",
       "      <th>2</th>\n",
       "      <td>1.120</td>\n",
       "    </tr>\n",
       "    <tr>\n",
       "      <th>3</th>\n",
       "      <td>19.405</td>\n",
       "    </tr>\n",
       "    <tr>\n",
       "      <th>4</th>\n",
       "      <td>1.730</td>\n",
       "    </tr>\n",
       "    <tr>\n",
       "      <th>5</th>\n",
       "      <td>1.680</td>\n",
       "    </tr>\n",
       "  </tbody>\n",
       "</table>\n",
       "</div>"
      ],
      "text/plain": [
       "   permeability\n",
       "1        12.520\n",
       "2         1.120\n",
       "3        19.405\n",
       "4         1.730\n",
       "5         1.680"
      ]
     },
     "execution_count": 5,
     "metadata": {},
     "output_type": "execute_result"
    }
   ],
   "source": [
    "permeability.head()"
   ]
  },
  {
   "cell_type": "code",
   "execution_count": 6,
   "metadata": {
    "collapsed": false
   },
   "outputs": [
    {
     "data": {
      "text/html": [
       "<div>\n",
       "<style>\n",
       "    .dataframe thead tr:only-child th {\n",
       "        text-align: right;\n",
       "    }\n",
       "\n",
       "    .dataframe thead th {\n",
       "        text-align: left;\n",
       "    }\n",
       "\n",
       "    .dataframe tbody tr th {\n",
       "        vertical-align: top;\n",
       "    }\n",
       "</style>\n",
       "<table border=\"1\" class=\"dataframe\">\n",
       "  <thead>\n",
       "    <tr style=\"text-align: right;\">\n",
       "      <th></th>\n",
       "      <th>X1</th>\n",
       "      <th>X2</th>\n",
       "      <th>X3</th>\n",
       "      <th>X4</th>\n",
       "      <th>X5</th>\n",
       "      <th>X6</th>\n",
       "      <th>X7</th>\n",
       "      <th>X8</th>\n",
       "      <th>X9</th>\n",
       "      <th>X10</th>\n",
       "      <th>...</th>\n",
       "      <th>X1098</th>\n",
       "      <th>X1099</th>\n",
       "      <th>X1100</th>\n",
       "      <th>X1101</th>\n",
       "      <th>X1102</th>\n",
       "      <th>X1103</th>\n",
       "      <th>X1104</th>\n",
       "      <th>X1105</th>\n",
       "      <th>X1106</th>\n",
       "      <th>X1107</th>\n",
       "    </tr>\n",
       "  </thead>\n",
       "  <tbody>\n",
       "    <tr>\n",
       "      <th>1</th>\n",
       "      <td>0.0</td>\n",
       "      <td>0.0</td>\n",
       "      <td>0.0</td>\n",
       "      <td>0.0</td>\n",
       "      <td>0.0</td>\n",
       "      <td>1.0</td>\n",
       "      <td>1.0</td>\n",
       "      <td>1.0</td>\n",
       "      <td>0.0</td>\n",
       "      <td>0.0</td>\n",
       "      <td>...</td>\n",
       "      <td>0.0</td>\n",
       "      <td>0.0</td>\n",
       "      <td>0.0</td>\n",
       "      <td>0.0</td>\n",
       "      <td>0.0</td>\n",
       "      <td>0.0</td>\n",
       "      <td>0.0</td>\n",
       "      <td>0.0</td>\n",
       "      <td>0.0</td>\n",
       "      <td>0.0</td>\n",
       "    </tr>\n",
       "    <tr>\n",
       "      <th>2</th>\n",
       "      <td>0.0</td>\n",
       "      <td>0.0</td>\n",
       "      <td>0.0</td>\n",
       "      <td>0.0</td>\n",
       "      <td>0.0</td>\n",
       "      <td>0.0</td>\n",
       "      <td>1.0</td>\n",
       "      <td>1.0</td>\n",
       "      <td>0.0</td>\n",
       "      <td>0.0</td>\n",
       "      <td>...</td>\n",
       "      <td>0.0</td>\n",
       "      <td>0.0</td>\n",
       "      <td>0.0</td>\n",
       "      <td>0.0</td>\n",
       "      <td>0.0</td>\n",
       "      <td>0.0</td>\n",
       "      <td>0.0</td>\n",
       "      <td>0.0</td>\n",
       "      <td>0.0</td>\n",
       "      <td>0.0</td>\n",
       "    </tr>\n",
       "    <tr>\n",
       "      <th>3</th>\n",
       "      <td>0.0</td>\n",
       "      <td>0.0</td>\n",
       "      <td>0.0</td>\n",
       "      <td>0.0</td>\n",
       "      <td>0.0</td>\n",
       "      <td>1.0</td>\n",
       "      <td>1.0</td>\n",
       "      <td>1.0</td>\n",
       "      <td>0.0</td>\n",
       "      <td>0.0</td>\n",
       "      <td>...</td>\n",
       "      <td>0.0</td>\n",
       "      <td>0.0</td>\n",
       "      <td>0.0</td>\n",
       "      <td>0.0</td>\n",
       "      <td>0.0</td>\n",
       "      <td>0.0</td>\n",
       "      <td>0.0</td>\n",
       "      <td>0.0</td>\n",
       "      <td>0.0</td>\n",
       "      <td>0.0</td>\n",
       "    </tr>\n",
       "    <tr>\n",
       "      <th>4</th>\n",
       "      <td>0.0</td>\n",
       "      <td>0.0</td>\n",
       "      <td>0.0</td>\n",
       "      <td>0.0</td>\n",
       "      <td>0.0</td>\n",
       "      <td>0.0</td>\n",
       "      <td>1.0</td>\n",
       "      <td>1.0</td>\n",
       "      <td>0.0</td>\n",
       "      <td>0.0</td>\n",
       "      <td>...</td>\n",
       "      <td>0.0</td>\n",
       "      <td>0.0</td>\n",
       "      <td>0.0</td>\n",
       "      <td>0.0</td>\n",
       "      <td>0.0</td>\n",
       "      <td>0.0</td>\n",
       "      <td>0.0</td>\n",
       "      <td>0.0</td>\n",
       "      <td>0.0</td>\n",
       "      <td>0.0</td>\n",
       "    </tr>\n",
       "    <tr>\n",
       "      <th>5</th>\n",
       "      <td>0.0</td>\n",
       "      <td>0.0</td>\n",
       "      <td>0.0</td>\n",
       "      <td>0.0</td>\n",
       "      <td>0.0</td>\n",
       "      <td>0.0</td>\n",
       "      <td>1.0</td>\n",
       "      <td>1.0</td>\n",
       "      <td>0.0</td>\n",
       "      <td>0.0</td>\n",
       "      <td>...</td>\n",
       "      <td>0.0</td>\n",
       "      <td>0.0</td>\n",
       "      <td>0.0</td>\n",
       "      <td>0.0</td>\n",
       "      <td>0.0</td>\n",
       "      <td>0.0</td>\n",
       "      <td>0.0</td>\n",
       "      <td>0.0</td>\n",
       "      <td>0.0</td>\n",
       "      <td>0.0</td>\n",
       "    </tr>\n",
       "  </tbody>\n",
       "</table>\n",
       "<p>5 rows × 1107 columns</p>\n",
       "</div>"
      ],
      "text/plain": [
       "    X1   X2   X3   X4   X5   X6   X7   X8   X9  X10  ...    X1098  X1099  \\\n",
       "1  0.0  0.0  0.0  0.0  0.0  1.0  1.0  1.0  0.0  0.0  ...      0.0    0.0   \n",
       "2  0.0  0.0  0.0  0.0  0.0  0.0  1.0  1.0  0.0  0.0  ...      0.0    0.0   \n",
       "3  0.0  0.0  0.0  0.0  0.0  1.0  1.0  1.0  0.0  0.0  ...      0.0    0.0   \n",
       "4  0.0  0.0  0.0  0.0  0.0  0.0  1.0  1.0  0.0  0.0  ...      0.0    0.0   \n",
       "5  0.0  0.0  0.0  0.0  0.0  0.0  1.0  1.0  0.0  0.0  ...      0.0    0.0   \n",
       "\n",
       "   X1100  X1101  X1102  X1103  X1104  X1105  X1106  X1107  \n",
       "1    0.0    0.0    0.0    0.0    0.0    0.0    0.0    0.0  \n",
       "2    0.0    0.0    0.0    0.0    0.0    0.0    0.0    0.0  \n",
       "3    0.0    0.0    0.0    0.0    0.0    0.0    0.0    0.0  \n",
       "4    0.0    0.0    0.0    0.0    0.0    0.0    0.0    0.0  \n",
       "5    0.0    0.0    0.0    0.0    0.0    0.0    0.0    0.0  \n",
       "\n",
       "[5 rows x 1107 columns]"
      ]
     },
     "execution_count": 6,
     "metadata": {},
     "output_type": "execute_result"
    }
   ],
   "source": [
    "fingerprints.head()"
   ]
  },
  {
   "cell_type": "code",
   "execution_count": 7,
   "metadata": {
    "collapsed": false
   },
   "outputs": [
    {
     "data": {
      "text/plain": [
       "((165, 1), (165, 1107))"
      ]
     },
     "execution_count": 7,
     "metadata": {},
     "output_type": "execute_result"
    }
   ],
   "source": [
    "permeability.shape, fingerprints.shape"
   ]
  },
  {
   "cell_type": "code",
   "execution_count": 8,
   "metadata": {
    "collapsed": false
   },
   "outputs": [
    {
     "data": {
      "text/plain": [
       "<matplotlib.axes._subplots.AxesSubplot at 0x7fad9da3cac8>"
      ]
     },
     "execution_count": 8,
     "metadata": {},
     "output_type": "execute_result"
    },
    {
     "data": {
      "image/png": "[encoded data removed]",
      "text/plain": [
       "<matplotlib.figure.Figure at 0x7fad9da3c2b0>"
      ]
     },
     "metadata": {},
     "output_type": "display_data"
    }
   ],
   "source": [
    "permeability.permeability.hist()"
   ]
  },
  {
   "cell_type": "code",
   "execution_count": 9,
   "metadata": {
    "collapsed": true
   },
   "outputs": [],
   "source": [
    "re_cv = RepeatedKFold(n_splits=10, n_repeats=25)"
   ]
  },
  {
   "cell_type": "code",
   "execution_count": 13,
   "metadata": {
    "collapsed": false
   },
   "outputs": [
    {
     "data": {
      "image/png": "[encoded data removed]",
      "text/plain": [
       "<matplotlib.figure.Figure at 0x7fad95112438>"
      ]
     },
     "metadata": {},
     "output_type": "display_data"
    }
   ],
   "source": [
    "fig, ax = plt.subplots(ncols=2, nrows=5, figsize=(10, 15))\n",
    "for axi, (idx1, idx2) in zip(ax.flat, re_cv.split(permeability)):\n",
    "    permeability.iloc[idx1, :].hist(ax=axi, rwidth=.9)"
   ]
  },
  {
   "cell_type": "code",
   "execution_count": 16,
   "metadata": {
    "collapsed": true
   },
   "outputs": [],
   "source": [
    "chem = pd.read_csv('data/ChemicalManufacturingProcess/ChemicalManufacturingProcess.csv', index_col=0)"
   ]
  },
  {
   "cell_type": "code",
   "execution_count": 17,
   "metadata": {
    "collapsed": false
   },
   "outputs": [
    {
     "data": {
      "text/html": [
       "<div>\n",
       "<style>\n",
       "    .dataframe thead tr:only-child th {\n",
       "        text-align: right;\n",
       "    }\n",
       "\n",
       "    .dataframe thead th {\n",
       "        text-align: left;\n",
       "    }\n",
       "\n",
       "    .dataframe tbody tr th {\n",
       "        vertical-align: top;\n",
       "    }\n",
       "</style>\n",
       "<table border=\"1\" class=\"dataframe\">\n",
       "  <thead>\n",
       "    <tr style=\"text-align: right;\">\n",
       "      <th></th>\n",
       "      <th>Yield</th>\n",
       "      <th>BiologicalMaterial01</th>\n",
       "      <th>BiologicalMaterial02</th>\n",
       "      <th>BiologicalMaterial03</th>\n",
       "      <th>BiologicalMaterial04</th>\n",
       "      <th>BiologicalMaterial05</th>\n",
       "      <th>BiologicalMaterial06</th>\n",
       "      <th>BiologicalMaterial07</th>\n",
       "      <th>BiologicalMaterial08</th>\n",
       "      <th>BiologicalMaterial09</th>\n",
       "      <th>...</th>\n",
       "      <th>ManufacturingProcess36</th>\n",
       "      <th>ManufacturingProcess37</th>\n",
       "      <th>ManufacturingProcess38</th>\n",
       "      <th>ManufacturingProcess39</th>\n",
       "      <th>ManufacturingProcess40</th>\n",
       "      <th>ManufacturingProcess41</th>\n",
       "      <th>ManufacturingProcess42</th>\n",
       "      <th>ManufacturingProcess43</th>\n",
       "      <th>ManufacturingProcess44</th>\n",
       "      <th>ManufacturingProcess45</th>\n",
       "    </tr>\n",
       "  </thead>\n",
       "  <tbody>\n",
       "    <tr>\n",
       "      <th>1</th>\n",
       "      <td>38.00</td>\n",
       "      <td>6.25</td>\n",
       "      <td>49.58</td>\n",
       "      <td>56.97</td>\n",
       "      <td>12.74</td>\n",
       "      <td>19.51</td>\n",
       "      <td>43.73</td>\n",
       "      <td>100.0</td>\n",
       "      <td>16.66</td>\n",
       "      <td>11.44</td>\n",
       "      <td>...</td>\n",
       "      <td>0.019</td>\n",
       "      <td>0.5</td>\n",
       "      <td>3.0</td>\n",
       "      <td>7.2</td>\n",
       "      <td>NaN</td>\n",
       "      <td>NaN</td>\n",
       "      <td>11.6</td>\n",
       "      <td>3.0</td>\n",
       "      <td>1.8</td>\n",
       "      <td>2.4</td>\n",
       "    </tr>\n",
       "    <tr>\n",
       "      <th>2</th>\n",
       "      <td>42.44</td>\n",
       "      <td>8.01</td>\n",
       "      <td>60.97</td>\n",
       "      <td>67.48</td>\n",
       "      <td>14.65</td>\n",
       "      <td>19.36</td>\n",
       "      <td>53.14</td>\n",
       "      <td>100.0</td>\n",
       "      <td>19.04</td>\n",
       "      <td>12.55</td>\n",
       "      <td>...</td>\n",
       "      <td>0.019</td>\n",
       "      <td>2.0</td>\n",
       "      <td>2.0</td>\n",
       "      <td>7.2</td>\n",
       "      <td>0.1</td>\n",
       "      <td>0.15</td>\n",
       "      <td>11.1</td>\n",
       "      <td>0.9</td>\n",
       "      <td>1.9</td>\n",
       "      <td>2.2</td>\n",
       "    </tr>\n",
       "    <tr>\n",
       "      <th>3</th>\n",
       "      <td>42.03</td>\n",
       "      <td>8.01</td>\n",
       "      <td>60.97</td>\n",
       "      <td>67.48</td>\n",
       "      <td>14.65</td>\n",
       "      <td>19.36</td>\n",
       "      <td>53.14</td>\n",
       "      <td>100.0</td>\n",
       "      <td>19.04</td>\n",
       "      <td>12.55</td>\n",
       "      <td>...</td>\n",
       "      <td>0.018</td>\n",
       "      <td>0.7</td>\n",
       "      <td>2.0</td>\n",
       "      <td>7.2</td>\n",
       "      <td>0.0</td>\n",
       "      <td>0.00</td>\n",
       "      <td>12.0</td>\n",
       "      <td>1.0</td>\n",
       "      <td>1.8</td>\n",
       "      <td>2.3</td>\n",
       "    </tr>\n",
       "    <tr>\n",
       "      <th>4</th>\n",
       "      <td>41.42</td>\n",
       "      <td>8.01</td>\n",
       "      <td>60.97</td>\n",
       "      <td>67.48</td>\n",
       "      <td>14.65</td>\n",
       "      <td>19.36</td>\n",
       "      <td>53.14</td>\n",
       "      <td>100.0</td>\n",
       "      <td>19.04</td>\n",
       "      <td>12.55</td>\n",
       "      <td>...</td>\n",
       "      <td>0.018</td>\n",
       "      <td>1.2</td>\n",
       "      <td>2.0</td>\n",
       "      <td>7.2</td>\n",
       "      <td>0.0</td>\n",
       "      <td>0.00</td>\n",
       "      <td>10.6</td>\n",
       "      <td>1.1</td>\n",
       "      <td>1.8</td>\n",
       "      <td>2.1</td>\n",
       "    </tr>\n",
       "    <tr>\n",
       "      <th>5</th>\n",
       "      <td>42.49</td>\n",
       "      <td>7.47</td>\n",
       "      <td>63.33</td>\n",
       "      <td>72.25</td>\n",
       "      <td>14.02</td>\n",
       "      <td>17.91</td>\n",
       "      <td>54.66</td>\n",
       "      <td>100.0</td>\n",
       "      <td>18.22</td>\n",
       "      <td>12.80</td>\n",
       "      <td>...</td>\n",
       "      <td>0.017</td>\n",
       "      <td>0.2</td>\n",
       "      <td>2.0</td>\n",
       "      <td>7.3</td>\n",
       "      <td>0.0</td>\n",
       "      <td>0.00</td>\n",
       "      <td>11.0</td>\n",
       "      <td>1.1</td>\n",
       "      <td>1.7</td>\n",
       "      <td>2.1</td>\n",
       "    </tr>\n",
       "  </tbody>\n",
       "</table>\n",
       "<p>5 rows × 58 columns</p>\n",
       "</div>"
      ],
      "text/plain": [
       "   Yield  BiologicalMaterial01  BiologicalMaterial02  BiologicalMaterial03  \\\n",
       "1  38.00                  6.25                 49.58                 56.97   \n",
       "2  42.44                  8.01                 60.97                 67.48   \n",
       "3  42.03                  8.01                 60.97                 67.48   \n",
       "4  41.42                  8.01                 60.97                 67.48   \n",
       "5  42.49                  7.47                 63.33                 72.25   \n",
       "\n",
       "   BiologicalMaterial04  BiologicalMaterial05  BiologicalMaterial06  \\\n",
       "1                 12.74                 19.51                 43.73   \n",
       "2                 14.65                 19.36                 53.14   \n",
       "3                 14.65                 19.36                 53.14   \n",
       "4                 14.65                 19.36                 53.14   \n",
       "5                 14.02                 17.91                 54.66   \n",
       "\n",
       "   BiologicalMaterial07  BiologicalMaterial08  BiologicalMaterial09  \\\n",
       "1                 100.0                 16.66                 11.44   \n",
       "2                 100.0                 19.04                 12.55   \n",
       "3                 100.0                 19.04                 12.55   \n",
       "4                 100.0                 19.04                 12.55   \n",
       "5                 100.0                 18.22                 12.80   \n",
       "\n",
       "            ...            ManufacturingProcess36  ManufacturingProcess37  \\\n",
       "1           ...                             0.019                     0.5   \n",
       "2           ...                             0.019                     2.0   \n",
       "3           ...                             0.018                     0.7   \n",
       "4           ...                             0.018                     1.2   \n",
       "5           ...                             0.017                     0.2   \n",
       "\n",
       "   ManufacturingProcess38  ManufacturingProcess39  ManufacturingProcess40  \\\n",
       "1                     3.0                     7.2                     NaN   \n",
       "2                     2.0                     7.2                     0.1   \n",
       "3                     2.0                     7.2                     0.0   \n",
       "4                     2.0                     7.2                     0.0   \n",
       "5                     2.0                     7.3                     0.0   \n",
       "\n",
       "   ManufacturingProcess41  ManufacturingProcess42  ManufacturingProcess43  \\\n",
       "1                     NaN                    11.6                     3.0   \n",
       "2                    0.15                    11.1                     0.9   \n",
       "3                    0.00                    12.0                     1.0   \n",
       "4                    0.00                    10.6                     1.1   \n",
       "5                    0.00                    11.0                     1.1   \n",
       "\n",
       "   ManufacturingProcess44  ManufacturingProcess45  \n",
       "1                     1.8                     2.4  \n",
       "2                     1.9                     2.2  \n",
       "3                     1.8                     2.3  \n",
       "4                     1.8                     2.1  \n",
       "5                     1.7                     2.1  \n",
       "\n",
       "[5 rows x 58 columns]"
      ]
     },
     "execution_count": 17,
     "metadata": {},
     "output_type": "execute_result"
    }
   ],
   "source": [
    "chem.head()"
   ]
  },
  {
   "cell_type": "code",
   "execution_count": 18,
   "metadata": {
    "collapsed": false
   },
   "outputs": [
    {
     "data": {
      "text/plain": [
       "(176, 58)"
      ]
     },
     "execution_count": 18,
     "metadata": {},
     "output_type": "execute_result"
    }
   ],
   "source": [
    "chem.shape"
   ]
  },
  {
   "cell_type": "code",
   "execution_count": 20,
   "metadata": {
    "collapsed": false
   },
   "outputs": [
    {
     "data": {
      "text/plain": [
       "Index(['BiologicalMaterial01', 'BiologicalMaterial02', 'BiologicalMaterial03',\n",
       "       'BiologicalMaterial04', 'BiologicalMaterial05', 'BiologicalMaterial06',\n",
       "       'BiologicalMaterial07', 'BiologicalMaterial08', 'BiologicalMaterial09',\n",
       "       'BiologicalMaterial10', 'BiologicalMaterial11', 'BiologicalMaterial12'],\n",
       "      dtype='object')"
      ]
     },
     "execution_count": 20,
     "metadata": {},
     "output_type": "execute_result"
    }
   ],
   "source": [
    "chem.columns[chem.columns.str.contains('Material')]"
   ]
  },
  {
   "cell_type": "code",
   "execution_count": 21,
   "metadata": {
    "collapsed": false
   },
   "outputs": [
    {
     "data": {
      "text/plain": [
       "Index(['ManufacturingProcess01', 'ManufacturingProcess02',\n",
       "       'ManufacturingProcess03', 'ManufacturingProcess04',\n",
       "       'ManufacturingProcess05', 'ManufacturingProcess06',\n",
       "       'ManufacturingProcess07', 'ManufacturingProcess08',\n",
       "       'ManufacturingProcess09', 'ManufacturingProcess10',\n",
       "       'ManufacturingProcess11', 'ManufacturingProcess12',\n",
       "       'ManufacturingProcess13', 'ManufacturingProcess14',\n",
       "       'ManufacturingProcess15', 'ManufacturingProcess16',\n",
       "       'ManufacturingProcess17', 'ManufacturingProcess18',\n",
       "       'ManufacturingProcess19', 'ManufacturingProcess20',\n",
       "       'ManufacturingProcess21', 'ManufacturingProcess22',\n",
       "       'ManufacturingProcess23', 'ManufacturingProcess24',\n",
       "       'ManufacturingProcess25', 'ManufacturingProcess26',\n",
       "       'ManufacturingProcess27', 'ManufacturingProcess28',\n",
       "       'ManufacturingProcess29', 'ManufacturingProcess30',\n",
       "       'ManufacturingProcess31', 'ManufacturingProcess32',\n",
       "       'ManufacturingProcess33', 'ManufacturingProcess34',\n",
       "       'ManufacturingProcess35', 'ManufacturingProcess36',\n",
       "       'ManufacturingProcess37', 'ManufacturingProcess38',\n",
       "       'ManufacturingProcess39', 'ManufacturingProcess40',\n",
       "       'ManufacturingProcess41', 'ManufacturingProcess42',\n",
       "       'ManufacturingProcess43', 'ManufacturingProcess44',\n",
       "       'ManufacturingProcess45'],\n",
       "      dtype='object')"
      ]
     },
     "execution_count": 21,
     "metadata": {},
     "output_type": "execute_result"
    }
   ],
   "source": [
    "chem.columns[chem.columns.str.contains('Process')]"
   ]
  },
  {
   "cell_type": "code",
   "execution_count": 23,
   "metadata": {
    "collapsed": false
   },
   "outputs": [
    {
     "data": {
      "text/plain": [
       "<matplotlib.axes._subplots.AxesSubplot at 0x7fad9532eac8>"
      ]
     },
     "execution_count": 23,
     "metadata": {},
     "output_type": "execute_result"
    },
    {
     "data": {
      "image/png": "[encoded data removed]",
      "text/plain": [
       "<matplotlib.figure.Figure at 0x7fad94bf9198>"
      ]
     },
     "metadata": {},
     "output_type": "display_data"
    }
   ],
   "source": [
    "chem.Yield.hist(rwidth=.9)"
   ]
  },
  {
   "cell_type": "code",
   "execution_count": 24,
   "metadata": {
    "collapsed": true
   },
   "outputs": [],
   "source": [
    "from sklearn.cross_decomposition import PLSRegression"
   ]
  },
  {
   "cell_type": "code",
   "execution_count": 32,
   "metadata": {
    "collapsed": true
   },
   "outputs": [],
   "source": [
    "chem = chem.dropna()"
   ]
  },
  {
   "cell_type": "code",
   "execution_count": 34,
   "metadata": {
    "collapsed": true
   },
   "outputs": [],
   "source": [
    "X = chem.drop('Yield', axis=1).values\n",
    "Y = chem['Yield'].values"
   ]
  },
  {
   "cell_type": "code",
   "execution_count": 48,
   "metadata": {
    "collapsed": true
   },
   "outputs": [],
   "source": [
    "cv = RepeatedKFold(n_repeats=5, n_splits=10, random_state=123)"
   ]
  },
  {
   "cell_type": "code",
   "execution_count": 49,
   "metadata": {
    "collapsed": false
   },
   "outputs": [
    {
     "name": "stdout",
     "output_type": "stream",
     "text": [
      "n= 1, mean: 0.307, std: 0.3100\n",
      "n= 2, mean: 0.311, std: 0.4744\n",
      "n= 3, mean: -0.039, std: 1.6105\n",
      "n= 4, mean: -0.476, std: 2.8750\n",
      "n= 5, mean: -1.460, std: 5.9153\n",
      "n= 6, mean: -1.986, std: 7.7268\n",
      "n= 7, mean: -2.531, std: 9.6775\n",
      "n= 8, mean: -2.473, std: 10.3118\n",
      "n= 9, mean: -2.464, std: 10.6365\n",
      "n=10, mean: -3.220, std: 14.8481\n"
     ]
    }
   ],
   "source": [
    "for n in range(1, 11):\n",
    "    scores = cross_val_score(PLSRegression(n_components=n, scale=True), X, Y, cv=cv, scoring='r2')\n",
    "    print(\"n={:2d}, mean: {:.3f}, std: {:.4f}\".format(n, scores.mean(), scores.std()))"
   ]
  },
  {
   "cell_type": "code",
   "execution_count": 35,
   "metadata": {
    "collapsed": false
   },
   "outputs": [
    {
     "data": {
      "text/plain": [
       "PLSRegression(copy=True, max_iter=500, n_components=2, scale=True, tol=1e-06)"
      ]
     },
     "execution_count": 35,
     "metadata": {},
     "output_type": "execute_result"
    }
   ],
   "source": [
    "pls.fit(X, Y)"
   ]
  },
  {
   "cell_type": "code",
   "execution_count": 38,
   "metadata": {
    "collapsed": false
   },
   "outputs": [
    {
     "data": {
      "text/plain": [
       "0.62425317032363026"
      ]
     },
     "execution_count": 38,
     "metadata": {},
     "output_type": "execute_result"
    }
   ],
   "source": [
    "pls.score(X, Y)"
   ]
  },
  {
   "cell_type": "code",
   "execution_count": 44,
   "metadata": {
    "collapsed": false
   },
   "outputs": [
    {
     "data": {
      "text/plain": [
       "array([  8.86103887e-02,   5.86990717e-01,  -1.31801470e+01,\n",
       "         6.84526881e-01,   5.22996244e-01,   1.31865204e-02,\n",
       "         6.30546793e-01,   2.73767211e-01,   2.39955645e-01,\n",
       "         6.20867383e-01,   8.11550702e-01,   4.85031108e-01,\n",
       "        -9.90897192e+00,   5.08350367e-01,  -1.18441751e-01,\n",
       "        -1.61691833e-01,   6.49064903e-01,   6.42438704e-01,\n",
       "         3.30752662e-01,   6.47810782e-01,   5.66095222e-01,\n",
       "        -6.86953169e-01,   5.52728181e-01,   4.65949693e-01,\n",
       "         2.48022945e-01,   6.05276380e-01,   5.37247107e-01,\n",
       "        -2.86887649e+01,   5.55621463e-01,   3.48707897e-01,\n",
       "         6.92733275e-01,   4.45644102e-01,  -6.51698898e-01,\n",
       "        -3.88994302e-01,  -2.80504966e+01,   4.80707785e-01,\n",
       "         6.48301150e-01,   3.21210802e-01,   5.89410936e-01,\n",
       "         7.10022297e-01,   2.10369557e-01,   3.93589215e-01,\n",
       "         6.21326299e-01,  -1.80200960e-02,  -9.82247402e+01,\n",
       "         5.58623079e-01,   3.08020540e-01,   2.06692253e-01,\n",
       "         5.84304941e-01,   7.03666625e-01])"
      ]
     },
     "execution_count": 44,
     "metadata": {},
     "output_type": "execute_result"
    }
   ],
   "source": [
    "scores"
   ]
  },
  {
   "cell_type": "code",
   "execution_count": 52,
   "metadata": {
    "collapsed": true
   },
   "outputs": [],
   "source": [
    "oil = pd.read_csv('data/oil/oilType.csv', index_col=0)"
   ]
  },
  {
   "cell_type": "code",
   "execution_count": 70,
   "metadata": {
    "collapsed": false
   },
   "outputs": [
    {
     "data": {
      "text/plain": [
       "A    0.385417\n",
       "B    0.270833\n",
       "C    0.031250\n",
       "D    0.072917\n",
       "E    0.114583\n",
       "F    0.104167\n",
       "G    0.020833\n",
       "dtype: float64"
      ]
     },
     "execution_count": 70,
     "metadata": {},
     "output_type": "execute_result"
    }
   ],
   "source": [
    "(pd.value_counts(oil.values.ravel()) / len(oil)).sort_index()"
   ]
  },
  {
   "cell_type": "code",
   "execution_count": 87,
   "metadata": {
    "collapsed": true
   },
   "outputs": [],
   "source": [
    "df = pd.DataFrame(index=\"A B C D E F G\".split())\n",
    "for i in range(20):\n",
    "    a = np.random.choice(oil.values.ravel(), size=60, replace=True)\n",
    "    df[\"n_\"+ str(i)] = pd.value_counts(a)\n",
    "\n",
    "df.fillna(0, inplace=True)"
   ]
  },
  {
   "cell_type": "code",
   "execution_count": 88,
   "metadata": {
    "collapsed": false
   },
   "outputs": [
    {
     "data": {
      "text/plain": [
       "A    0.400000\n",
       "B    0.263333\n",
       "C    0.033333\n",
       "D    0.063333\n",
       "E    0.110000\n",
       "F    0.104167\n",
       "G    0.025833\n",
       "dtype: float64"
      ]
     },
     "execution_count": 88,
     "metadata": {},
     "output_type": "execute_result"
    }
   ],
   "source": [
    "df.mean(axis=1) / 60"
   ]
  },
  {
   "cell_type": "code",
   "execution_count": null,
   "metadata": {
    "collapsed": true
   },
   "outputs": [],
   "source": []
  }
 ],
 "metadata": {
  "kernelspec": {
   "display_name": "Python 3",
   "language": "python",
   "name": "python3"
  },
  "language_info": {
   "codemirror_mode": {
    "name": "ipython",
    "version": 3
   },
   "file_extension": ".py",
   "mimetype": "text/x-python",
   "name": "python",
   "nbconvert_exporter": "python",
   "pygments_lexer": "ipython3",
   "version": "3.5.4"
  }
 },
 "nbformat": 4,
 "nbformat_minor": 2
}
