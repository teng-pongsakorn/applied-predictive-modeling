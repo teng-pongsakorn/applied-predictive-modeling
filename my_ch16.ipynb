{
 "cells": [
  {
   "cell_type": "code",
   "execution_count": 151,
   "metadata": {
    "collapsed": true
   },
   "outputs": [],
   "source": [
    "import numpy as np\n",
    "import pandas as pd\n",
    "import matplotlib.pyplot as plt\n",
    "%matplotlib inline\n",
    "\n",
    "from sklearn.model_selection import train_test_split, GridSearchCV, StratifiedKFold\n",
    "from sklearn.metrics import roc_auc_score, roc_curve, classification_report, confusion_matrix\n",
    "from sklearn.ensemble import RandomForestClassifier\n",
    "from sklearn.linear_model import LogisticRegression\n",
    "from sklearn.svm import SVC\n",
    "from sklearn.base import clone\n",
    "from sklearn.pipeline import make_pipeline\n",
    "from sklearn.preprocessing import StandardScaler\n",
    "\n",
    "from sklearn.feature_selection import VarianceThreshold"
   ]
  },
  {
   "cell_type": "code",
   "execution_count": 104,
   "metadata": {
    "collapsed": true
   },
   "outputs": [],
   "source": [
    "k10 = StratifiedKFold(n_splits=10, shuffle=True, random_state=123)\n",
    "var0 = VarianceThreshold(threshold=0.05)"
   ]
  },
  {
   "cell_type": "raw",
   "metadata": {},
   "source": [
    "DATA DICTIONARY\n",
    "\n",
    "Nr Name Description Domain\n",
    "1 MOSTYPE Customer Subtype see L0\n",
    "2 MAANTHUI Number of houses 1 � 10\n",
    "3 MGEMOMV Avg size household 1 � 6\n",
    "4 MGEMLEEF Avg age see L1\n",
    "5 MOSHOOFD Customer main type see L2\n",
    "6 MGODRK Roman catholic see L3\n",
    "7 MGODPR Protestant ...\n",
    "8 MGODOV Other religion\n",
    "9 MGODGE No religion\n",
    "10 MRELGE Married\n",
    "11 MRELSA Living together\n",
    "12 MRELOV Other relation\n",
    "13 MFALLEEN Singles\n",
    "14 MFGEKIND Household without children\n",
    "15 MFWEKIND Household with children\n",
    "16 MOPLHOOG High level education\n",
    "17 MOPLMIDD Medium level education\n",
    "18 MOPLLAAG Lower level education\n",
    "19 MBERHOOG High status\n",
    "20 MBERZELF Entrepreneur\n",
    "21 MBERBOER Farmer\n",
    "22 MBERMIDD Middle management\n",
    "23 MBERARBG Skilled labourers\n",
    "24 MBERARBO Unskilled labourers\n",
    "25 MSKA Social class A\n",
    "26 MSKB1 Social class B1\n",
    "27 MSKB2 Social class B2\n",
    "28 MSKC Social class C\n",
    "29 MSKD Social class D\n",
    "30 MHHUUR Rented house\n",
    "31 MHKOOP Home owners\n",
    "32 MAUT1 1 car\n",
    "33 MAUT2 2 cars\n",
    "34 MAUT0 No car\n",
    "35 MZFONDS National Health Service\n",
    "36 MZPART Private health insurance\n",
    "37 MINKM30 Income < 30.000\n",
    "38 MINK3045 Income 30-45.000\n",
    "39 MINK4575 Income 45-75.000\n",
    "40 MINK7512 Income 75-122.000\n",
    "41 MINK123M Income >123.000\n",
    "42 MINKGEM Average income\n",
    "43 MKOOPKLA Purchasing power class\n",
    "44 PWAPART Contribution private third party insurance see L4\n",
    "45 PWABEDR Contribution third party insurance (firms) ...\n",
    "46 PWALAND Contribution third party insurane (agriculture)\n",
    "47 PPERSAUT Contribution car policies\n",
    "48 PBESAUT Contribution delivery van policies\n",
    "49 PMOTSCO Contribution motorcycle/scooter policies\n",
    "50 PVRAAUT Contribution lorry policies\n",
    "51 PAANHANG Contribution trailer policies\n",
    "52 PTRACTOR Contribution tractor policies\n",
    "53 PWERKT Contribution agricultural machines policies \n",
    "54 PBROM Contribution moped policies\n",
    "55 PLEVEN Contribution life insurances\n",
    "56 PPERSONG Contribution private accident insurance policies\n",
    "57 PGEZONG Contribution family accidents insurance policies\n",
    "58 PWAOREG Contribution disability insurance policies\n",
    "59 PBRAND Contribution fire policies\n",
    "60 PZEILPL Contribution surfboard policies\n",
    "61 PPLEZIER Contribution boat policies\n",
    "62 PFIETS Contribution bicycle policies\n",
    "63 PINBOED Contribution property insurance policies\n",
    "64 PBYSTAND Contribution social security insurance policies\n",
    "65 AWAPART Number of private third party insurance 1 - 12\n",
    "66 AWABEDR Number of third party insurance (firms) ...\n",
    "67 AWALAND Number of third party insurane (agriculture)\n",
    "68 APERSAUT Number of car policies\n",
    "69 ABESAUT Number of delivery van policies\n",
    "70 AMOTSCO Number of motorcycle/scooter policies\n",
    "71 AVRAAUT Number of lorry policies\n",
    "72 AAANHANG Number of trailer policies\n",
    "73 ATRACTOR Number of tractor policies\n",
    "74 AWERKT Number of agricultural machines policies\n",
    "75 ABROM Number of moped policies\n",
    "76 ALEVEN Number of life insurances\n",
    "77 APERSONG Number of private accident insurance policies\n",
    "78 AGEZONG Number of family accidents insurance policies\n",
    "79 AWAOREG Number of disability insurance policies\n",
    "80 ABRAND Number of fire policies\n",
    "81 AZEILPL Number of surfboard policies\n",
    "82 APLEZIER Number of boat policies\n",
    "83 AFIETS Number of bicycle policies\n",
    "84 AINBOED Number of property insurance policies\n",
    "85 ABYSTAND Number of social security insurance policies\n",
    "86 CARAVAN Number of mobile home policies 0 - 1\n",
    "\n",
    "\n",
    "L0:\n",
    "\n",
    "Value Label\n",
    "1 High Income, expensive child\n",
    "2 Very Important Provincials\n",
    "3 High status seniors\n",
    "4 Affluent senior apartments\n",
    "5 Mixed seniors\n",
    "6 Career and childcare\n",
    "7 Dinki's (double income no kids)\n",
    "8 Middle class families\n",
    "9 Modern, complete families\n",
    "10 Stable family\n",
    "11 Family starters\n",
    "12 Affluent young families\n",
    "13 Young all american family\n",
    "14 Junior cosmopolitan\n",
    "15 Senior cosmopolitans\n",
    "16 Students in apartments\n",
    "17 Fresh masters in the city\n",
    "18 Single youth\n",
    "19 Suburban youth\n",
    "20 Etnically diverse\n",
    "21 Young urban have-nots\n",
    "22 Mixed apartment dwellers\n",
    "23 Young and rising\n",
    "24 Young, low educated \n",
    "25 Young seniors in the city\n",
    "26 Own home elderly\n",
    "27 Seniors in apartments\n",
    "28 Residential elderly\n",
    "29 Porchless seniors: no front yard\n",
    "30 Religious elderly singles\n",
    "31 Low income catholics\n",
    "32 Mixed seniors\n",
    "33 Lower class large families\n",
    "34 Large family, employed child\n",
    "35 Village families\n",
    "36 Couples with teens 'Married with children'\n",
    "37 Mixed small town dwellers\n",
    "38 Traditional families\n",
    "39 Large religous families\n",
    "40 Large family farms\n",
    "41 Mixed rurals\n",
    "\n",
    "\n",
    "L1:\n",
    "\n",
    "1 20-30 years\n",
    "2 30-40 years\n",
    "3 40-50 years\n",
    "4 50-60 years\n",
    "5 60-70 years\n",
    "6 70-80 years\n",
    "\n",
    "\n",
    "L2:\n",
    "\n",
    "1 Successful hedonists\n",
    "2 Driven Growers\n",
    "3 Average Family\n",
    "4 Career Loners\n",
    "5 Living well\n",
    "6 Cruising Seniors\n",
    "7 Retired and Religeous\n",
    "8 Family with grown ups\n",
    "9 Conservative families\n",
    "10 Farmers\n",
    "\n",
    "\n",
    "L3:\n",
    "\n",
    "0 0%\n",
    "1 1 - 10%\n",
    "2 11 - 23%\n",
    "3 24 - 36%\n",
    "4 37 - 49%\n",
    "5 50 - 62%\n",
    "6 63 - 75%\n",
    "7 76 - 88%\n",
    "8 89 - 99%\n",
    "9 100%\n",
    "\n",
    "\n",
    "L4:\n",
    "\n",
    "0 f 0\n",
    "1 f 1 � 49\n",
    "2 f 50 � 99\n",
    "3 f 100 � 199\n",
    "4 f 200 � 499\n",
    "5 f 500 � 999\n",
    "6 f 1000 � 4999\n",
    "7 f 5000 � 9999\n",
    "8 f 10.000 - 19.999\n",
    "9 f 20.000 - ?\n"
   ]
  },
  {
   "cell_type": "code",
   "execution_count": 105,
   "metadata": {
    "collapsed": false
   },
   "outputs": [],
   "source": [
    "col_desc = {}\n",
    "cols = []\n",
    "with open('datasets/Caravan_data/dictionary.txt', 'r', encoding='windows-1252') as f:\n",
    "    for i,line in enumerate(f.readlines()[3:86+3]):\n",
    "        words = line[2:].strip().split()\n",
    "        k = words[0]\n",
    "        v = ' '.join(words[1:])\n",
    "        cols.append(k)\n",
    "        col_desc[k] = v"
   ]
  },
  {
   "cell_type": "code",
   "execution_count": 106,
   "metadata": {
    "collapsed": true
   },
   "outputs": [],
   "source": [
    "train = pd.read_csv('datasets/Caravan_data/ticdata2000.txt', sep='\\t', header=None, prefix='F_', names=cols)\n",
    "val = pd.read_csv('datasets/Caravan_data/ticeval2000.txt', sep='\\t', header=None, prefix='F_')\n",
    "val['Target'] = pd.read_csv('datasets/Caravan_data/tictgts2000.txt', header=None)\n",
    "val.columns = cols"
   ]
  },
  {
   "cell_type": "code",
   "execution_count": 107,
   "metadata": {
    "collapsed": false
   },
   "outputs": [],
   "source": [
    "data = pd.concat([train, val], axis=0)"
   ]
  },
  {
   "cell_type": "code",
   "execution_count": 108,
   "metadata": {
    "collapsed": false
   },
   "outputs": [
    {
     "data": {
      "text/plain": [
       "((5822, 86), (4000, 86))"
      ]
     },
     "execution_count": 108,
     "metadata": {},
     "output_type": "execute_result"
    }
   ],
   "source": [
    "train.shape, val.shape"
   ]
  },
  {
   "cell_type": "code",
   "execution_count": 109,
   "metadata": {
    "collapsed": false
   },
   "outputs": [
    {
     "data": {
      "text/plain": [
       "(9822, 86)"
      ]
     },
     "execution_count": 109,
     "metadata": {},
     "output_type": "execute_result"
    }
   ],
   "source": [
    "data.shape"
   ]
  },
  {
   "cell_type": "code",
   "execution_count": 110,
   "metadata": {
    "collapsed": false
   },
   "outputs": [
    {
     "data": {
      "text/plain": [
       "array([33, 37,  9, 40, 23, 39, 11, 10, 41, 38, 22, 13, 31, 34, 24,  8,  7,\n",
       "        3, 36, 25, 20, 12, 35, 30, 29, 32,  1, 26,  2,  4, 16,  5, 21,  6,\n",
       "       18, 27, 28, 17, 15, 19])"
      ]
     },
     "execution_count": 110,
     "metadata": {},
     "output_type": "execute_result"
    }
   ],
   "source": [
    "data['MOSTYPE'].unique()"
   ]
  },
  {
   "cell_type": "code",
   "execution_count": 111,
   "metadata": {
    "collapsed": false
   },
   "outputs": [],
   "source": [
    "train_dummy = pd.concat([data.iloc[:, 1:], pd.get_dummies(data['MOSTYPE'], prefix='MOSTYPE')], axis=1)"
   ]
  },
  {
   "cell_type": "code",
   "execution_count": 112,
   "metadata": {
    "collapsed": false
   },
   "outputs": [
    {
     "data": {
      "text/html": [
       "<div>\n",
       "<style>\n",
       "    .dataframe thead tr:only-child th {\n",
       "        text-align: right;\n",
       "    }\n",
       "\n",
       "    .dataframe thead th {\n",
       "        text-align: left;\n",
       "    }\n",
       "\n",
       "    .dataframe tbody tr th {\n",
       "        vertical-align: top;\n",
       "    }\n",
       "</style>\n",
       "<table border=\"1\" class=\"dataframe\">\n",
       "  <thead>\n",
       "    <tr style=\"text-align: right;\">\n",
       "      <th></th>\n",
       "      <th>MAANTHUI</th>\n",
       "      <th>MGEMOMV</th>\n",
       "      <th>MGEMLEEF</th>\n",
       "      <th>MOSHOOFD</th>\n",
       "      <th>MGODRK</th>\n",
       "      <th>MGODPR</th>\n",
       "      <th>MGODOV</th>\n",
       "      <th>MGODGE</th>\n",
       "      <th>MRELGE</th>\n",
       "      <th>MRELSA</th>\n",
       "      <th>...</th>\n",
       "      <th>MOSTYPE_32</th>\n",
       "      <th>MOSTYPE_33</th>\n",
       "      <th>MOSTYPE_34</th>\n",
       "      <th>MOSTYPE_35</th>\n",
       "      <th>MOSTYPE_36</th>\n",
       "      <th>MOSTYPE_37</th>\n",
       "      <th>MOSTYPE_38</th>\n",
       "      <th>MOSTYPE_39</th>\n",
       "      <th>MOSTYPE_40</th>\n",
       "      <th>MOSTYPE_41</th>\n",
       "    </tr>\n",
       "  </thead>\n",
       "  <tbody>\n",
       "    <tr>\n",
       "      <th>0</th>\n",
       "      <td>1</td>\n",
       "      <td>3</td>\n",
       "      <td>2</td>\n",
       "      <td>8</td>\n",
       "      <td>0</td>\n",
       "      <td>5</td>\n",
       "      <td>1</td>\n",
       "      <td>3</td>\n",
       "      <td>7</td>\n",
       "      <td>0</td>\n",
       "      <td>...</td>\n",
       "      <td>0</td>\n",
       "      <td>1</td>\n",
       "      <td>0</td>\n",
       "      <td>0</td>\n",
       "      <td>0</td>\n",
       "      <td>0</td>\n",
       "      <td>0</td>\n",
       "      <td>0</td>\n",
       "      <td>0</td>\n",
       "      <td>0</td>\n",
       "    </tr>\n",
       "    <tr>\n",
       "      <th>1</th>\n",
       "      <td>1</td>\n",
       "      <td>2</td>\n",
       "      <td>2</td>\n",
       "      <td>8</td>\n",
       "      <td>1</td>\n",
       "      <td>4</td>\n",
       "      <td>1</td>\n",
       "      <td>4</td>\n",
       "      <td>6</td>\n",
       "      <td>2</td>\n",
       "      <td>...</td>\n",
       "      <td>0</td>\n",
       "      <td>0</td>\n",
       "      <td>0</td>\n",
       "      <td>0</td>\n",
       "      <td>0</td>\n",
       "      <td>1</td>\n",
       "      <td>0</td>\n",
       "      <td>0</td>\n",
       "      <td>0</td>\n",
       "      <td>0</td>\n",
       "    </tr>\n",
       "    <tr>\n",
       "      <th>2</th>\n",
       "      <td>1</td>\n",
       "      <td>2</td>\n",
       "      <td>2</td>\n",
       "      <td>8</td>\n",
       "      <td>0</td>\n",
       "      <td>4</td>\n",
       "      <td>2</td>\n",
       "      <td>4</td>\n",
       "      <td>3</td>\n",
       "      <td>2</td>\n",
       "      <td>...</td>\n",
       "      <td>0</td>\n",
       "      <td>0</td>\n",
       "      <td>0</td>\n",
       "      <td>0</td>\n",
       "      <td>0</td>\n",
       "      <td>1</td>\n",
       "      <td>0</td>\n",
       "      <td>0</td>\n",
       "      <td>0</td>\n",
       "      <td>0</td>\n",
       "    </tr>\n",
       "    <tr>\n",
       "      <th>3</th>\n",
       "      <td>1</td>\n",
       "      <td>3</td>\n",
       "      <td>3</td>\n",
       "      <td>3</td>\n",
       "      <td>2</td>\n",
       "      <td>3</td>\n",
       "      <td>2</td>\n",
       "      <td>4</td>\n",
       "      <td>5</td>\n",
       "      <td>2</td>\n",
       "      <td>...</td>\n",
       "      <td>0</td>\n",
       "      <td>0</td>\n",
       "      <td>0</td>\n",
       "      <td>0</td>\n",
       "      <td>0</td>\n",
       "      <td>0</td>\n",
       "      <td>0</td>\n",
       "      <td>0</td>\n",
       "      <td>0</td>\n",
       "      <td>0</td>\n",
       "    </tr>\n",
       "    <tr>\n",
       "      <th>4</th>\n",
       "      <td>1</td>\n",
       "      <td>4</td>\n",
       "      <td>2</td>\n",
       "      <td>10</td>\n",
       "      <td>1</td>\n",
       "      <td>4</td>\n",
       "      <td>1</td>\n",
       "      <td>4</td>\n",
       "      <td>7</td>\n",
       "      <td>1</td>\n",
       "      <td>...</td>\n",
       "      <td>0</td>\n",
       "      <td>0</td>\n",
       "      <td>0</td>\n",
       "      <td>0</td>\n",
       "      <td>0</td>\n",
       "      <td>0</td>\n",
       "      <td>0</td>\n",
       "      <td>0</td>\n",
       "      <td>1</td>\n",
       "      <td>0</td>\n",
       "    </tr>\n",
       "  </tbody>\n",
       "</table>\n",
       "<p>5 rows × 125 columns</p>\n",
       "</div>"
      ],
      "text/plain": [
       "   MAANTHUI  MGEMOMV  MGEMLEEF  MOSHOOFD  MGODRK  MGODPR  MGODOV  MGODGE  \\\n",
       "0         1        3         2         8       0       5       1       3   \n",
       "1         1        2         2         8       1       4       1       4   \n",
       "2         1        2         2         8       0       4       2       4   \n",
       "3         1        3         3         3       2       3       2       4   \n",
       "4         1        4         2        10       1       4       1       4   \n",
       "\n",
       "   MRELGE  MRELSA     ...      MOSTYPE_32  MOSTYPE_33  MOSTYPE_34  MOSTYPE_35  \\\n",
       "0       7       0     ...               0           1           0           0   \n",
       "1       6       2     ...               0           0           0           0   \n",
       "2       3       2     ...               0           0           0           0   \n",
       "3       5       2     ...               0           0           0           0   \n",
       "4       7       1     ...               0           0           0           0   \n",
       "\n",
       "   MOSTYPE_36  MOSTYPE_37  MOSTYPE_38  MOSTYPE_39  MOSTYPE_40  MOSTYPE_41  \n",
       "0           0           0           0           0           0           0  \n",
       "1           0           1           0           0           0           0  \n",
       "2           0           1           0           0           0           0  \n",
       "3           0           0           0           0           0           0  \n",
       "4           0           0           0           0           1           0  \n",
       "\n",
       "[5 rows x 125 columns]"
      ]
     },
     "execution_count": 112,
     "metadata": {},
     "output_type": "execute_result"
    }
   ],
   "source": [
    "train_dummy.head()"
   ]
  },
  {
   "cell_type": "code",
   "execution_count": null,
   "metadata": {
    "collapsed": false
   },
   "outputs": [],
   "source": []
  },
  {
   "cell_type": "markdown",
   "metadata": {},
   "source": [
    "### Highly unbalanced Target: "
   ]
  },
  {
   "cell_type": "code",
   "execution_count": 113,
   "metadata": {
    "collapsed": false
   },
   "outputs": [
    {
     "data": {
      "text/plain": [
       "0    94.033802\n",
       "1     5.966198\n",
       "Name: CARAVAN, dtype: float64"
      ]
     },
     "execution_count": 113,
     "metadata": {},
     "output_type": "execute_result"
    }
   ],
   "source": [
    "data['CARAVAN'].value_counts() / len(data) * 100"
   ]
  },
  {
   "cell_type": "markdown",
   "metadata": {},
   "source": [
    "### stratified split: 70:10:30 => train/val/test"
   ]
  },
  {
   "cell_type": "code",
   "execution_count": 114,
   "metadata": {
    "collapsed": false
   },
   "outputs": [],
   "source": [
    "train, test = train_test_split(train_dummy, test_size=.3, stratify=data['CARAVAN'])\n",
    "test, val = train_test_split(test, test_size=1/3, stratify=test['CARAVAN'])"
   ]
  },
  {
   "cell_type": "code",
   "execution_count": 115,
   "metadata": {
    "collapsed": false
   },
   "outputs": [
    {
     "data": {
      "text/plain": [
       "((6875, 125), (1964, 125), (983, 125))"
      ]
     },
     "execution_count": 115,
     "metadata": {},
     "output_type": "execute_result"
    }
   ],
   "source": [
    "train.shape, test.shape, val.shape"
   ]
  },
  {
   "cell_type": "markdown",
   "metadata": {},
   "source": [
    "### similar target distribution after spliting"
   ]
  },
  {
   "cell_type": "code",
   "execution_count": 116,
   "metadata": {
    "collapsed": false
   },
   "outputs": [
    {
     "data": {
      "text/plain": [
       "0    0.940364\n",
       "1    0.059636\n",
       "Name: CARAVAN, dtype: float64"
      ]
     },
     "execution_count": 116,
     "metadata": {},
     "output_type": "execute_result"
    }
   ],
   "source": [
    "train['CARAVAN'].value_counts()/len(train)"
   ]
  },
  {
   "cell_type": "code",
   "execution_count": 117,
   "metadata": {
    "collapsed": false
   },
   "outputs": [
    {
     "data": {
      "text/plain": [
       "0    0.940428\n",
       "1    0.059572\n",
       "Name: CARAVAN, dtype: float64"
      ]
     },
     "execution_count": 117,
     "metadata": {},
     "output_type": "execute_result"
    }
   ],
   "source": [
    "test['CARAVAN'].value_counts()/len(test)"
   ]
  },
  {
   "cell_type": "code",
   "execution_count": 118,
   "metadata": {
    "collapsed": false
   },
   "outputs": [
    {
     "data": {
      "text/plain": [
       "0    0.93998\n",
       "1    0.06002\n",
       "Name: CARAVAN, dtype: float64"
      ]
     },
     "execution_count": 118,
     "metadata": {},
     "output_type": "execute_result"
    }
   ],
   "source": [
    "val['CARAVAN'].value_counts()/len(val)"
   ]
  },
  {
   "cell_type": "markdown",
   "metadata": {},
   "source": [
    "### Training models"
   ]
  },
  {
   "cell_type": "code",
   "execution_count": 119,
   "metadata": {
    "collapsed": false
   },
   "outputs": [
    {
     "data": {
      "text/plain": [
       "((6875, 124), (6875,), (983, 124), (983,), (1964, 124), (1964,))"
      ]
     },
     "execution_count": 119,
     "metadata": {},
     "output_type": "execute_result"
    }
   ],
   "source": [
    "X_train = train.drop('CARAVAN', axis=1)\n",
    "y_train = train['CARAVAN']\n",
    "\n",
    "X_val = val.drop('CARAVAN', axis=1)\n",
    "y_val = val['CARAVAN']\n",
    "\n",
    "X_test = test.drop('CARAVAN', axis=1)\n",
    "y_test = test['CARAVAN']\n",
    "\n",
    "X_train.shape, y_train.shape, X_val.shape, y_val.shape, X_test.shape, y_test.shape"
   ]
  },
  {
   "cell_type": "code",
   "execution_count": null,
   "metadata": {
    "collapsed": false
   },
   "outputs": [],
   "source": []
  },
  {
   "cell_type": "code",
   "execution_count": 120,
   "metadata": {
    "collapsed": false
   },
   "outputs": [],
   "source": [
    "rf_params = {\n",
    "    'n_estimators': [200,] , \n",
    "    #'max_features': [1.,],\n",
    "    'max_depth':[5, 7, None],\n",
    "    #'min_samples_split': [2, 10, 20]\n",
    "}\n",
    "\n",
    "rf = GridSearchCV(RandomForestClassifier(), rf_params, cv=k10, scoring='roc_auc', verbose=1)"
   ]
  },
  {
   "cell_type": "code",
   "execution_count": 121,
   "metadata": {
    "collapsed": false
   },
   "outputs": [
    {
     "name": "stdout",
     "output_type": "stream",
     "text": [
      "Fitting 10 folds for each of 3 candidates, totalling 30 fits\n"
     ]
    },
    {
     "name": "stderr",
     "output_type": "stream",
     "text": [
      "[Parallel(n_jobs=1)]: Done  30 out of  30 | elapsed:  1.1min finished\n"
     ]
    },
    {
     "data": {
      "text/plain": [
       "GridSearchCV(cv=StratifiedKFold(n_splits=10, random_state=123, shuffle=True),\n",
       "       error_score='raise',\n",
       "       estimator=RandomForestClassifier(bootstrap=True, class_weight=None, criterion='gini',\n",
       "            max_depth=None, max_features='auto', max_leaf_nodes=None,\n",
       "            min_impurity_decrease=0.0, min_impurity_split=None,\n",
       "            min_samples_leaf=1, min_samples_split=2,\n",
       "            min_weight_fraction_leaf=0.0, n_estimators=10, n_jobs=1,\n",
       "            oob_score=False, random_state=None, verbose=0,\n",
       "            warm_start=False),\n",
       "       fit_params=None, iid=True, n_jobs=1,\n",
       "       param_grid={'max_depth': [5, 7, None], 'n_estimators': [200]},\n",
       "       pre_dispatch='2*n_jobs', refit=True, return_train_score='warn',\n",
       "       scoring='roc_auc', verbose=1)"
      ]
     },
     "execution_count": 121,
     "metadata": {},
     "output_type": "execute_result"
    }
   ],
   "source": [
    "rf.fit(X_train, y_train)"
   ]
  },
  {
   "cell_type": "code",
   "execution_count": 122,
   "metadata": {
    "collapsed": false
   },
   "outputs": [
    {
     "data": {
      "text/plain": [
       "(0.74514295566033018, {'max_depth': 5, 'n_estimators': 200})"
      ]
     },
     "execution_count": 122,
     "metadata": {},
     "output_type": "execute_result"
    }
   ],
   "source": [
    "rf.best_score_, rf.best_params_"
   ]
  },
  {
   "cell_type": "code",
   "execution_count": 123,
   "metadata": {
    "collapsed": false
   },
   "outputs": [
    {
     "data": {
      "text/plain": [
       "0.78045894783182912"
      ]
     },
     "execution_count": 123,
     "metadata": {},
     "output_type": "execute_result"
    }
   ],
   "source": [
    "roc_auc_score(y_val, rf.predict_proba(X_val)[:, 1])"
   ]
  },
  {
   "cell_type": "markdown",
   "metadata": {},
   "source": [
    "### LogisticRegression"
   ]
  },
  {
   "cell_type": "code",
   "execution_count": 124,
   "metadata": {
    "collapsed": false
   },
   "outputs": [],
   "source": [
    "logit_params = {'logisticregression__C':[.1, 1, 10, 100]}\n",
    "log_reg = GridSearchCV(make_pipeline(var0, LogisticRegression()), logit_params, cv=k10, scoring='roc_auc', verbose=1)"
   ]
  },
  {
   "cell_type": "code",
   "execution_count": 125,
   "metadata": {
    "collapsed": false
   },
   "outputs": [
    {
     "name": "stdout",
     "output_type": "stream",
     "text": [
      "Fitting 10 folds for each of 4 candidates, totalling 40 fits\n"
     ]
    },
    {
     "name": "stderr",
     "output_type": "stream",
     "text": [
      "[Parallel(n_jobs=1)]: Done  40 out of  40 | elapsed:   29.7s finished\n"
     ]
    },
    {
     "data": {
      "text/plain": [
       "GridSearchCV(cv=StratifiedKFold(n_splits=10, random_state=123, shuffle=True),\n",
       "       error_score='raise',\n",
       "       estimator=Pipeline(memory=None,\n",
       "     steps=[('variancethreshold', VarianceThreshold(threshold=0.05)), ('logisticregression', LogisticRegression(C=1.0, class_weight=None, dual=False, fit_intercept=True,\n",
       "          intercept_scaling=1, max_iter=100, multi_class='ovr', n_jobs=1,\n",
       "          penalty='l2', random_state=None, solver='liblinear', tol=0.0001,\n",
       "          verbose=0, warm_start=False))]),\n",
       "       fit_params=None, iid=True, n_jobs=1,\n",
       "       param_grid={'logisticregression__C': [0.1, 1, 10, 100]},\n",
       "       pre_dispatch='2*n_jobs', refit=True, return_train_score='warn',\n",
       "       scoring='roc_auc', verbose=1)"
      ]
     },
     "execution_count": 125,
     "metadata": {},
     "output_type": "execute_result"
    }
   ],
   "source": [
    "log_reg.fit(X_train, y_train)"
   ]
  },
  {
   "cell_type": "code",
   "execution_count": 126,
   "metadata": {
    "collapsed": false
   },
   "outputs": [
    {
     "data": {
      "text/plain": [
       "(0.73074072235489307, {'logisticregression__C': 0.1})"
      ]
     },
     "execution_count": 126,
     "metadata": {},
     "output_type": "execute_result"
    }
   ],
   "source": [
    "log_reg.best_score_, log_reg.best_params_"
   ]
  },
  {
   "cell_type": "code",
   "execution_count": null,
   "metadata": {
    "collapsed": true
   },
   "outputs": [],
   "source": []
  },
  {
   "cell_type": "code",
   "execution_count": 127,
   "metadata": {
    "collapsed": false
   },
   "outputs": [
    {
     "data": {
      "text/plain": [
       "83"
      ]
     },
     "execution_count": 127,
     "metadata": {},
     "output_type": "execute_result"
    }
   ],
   "source": [
    "idx_rf = np.argmax(tpr_rf - fpr_rf)\n",
    "idx_rf"
   ]
  },
  {
   "cell_type": "code",
   "execution_count": 128,
   "metadata": {
    "collapsed": false
   },
   "outputs": [
    {
     "data": {
      "text/plain": [
       "106"
      ]
     },
     "execution_count": 128,
     "metadata": {},
     "output_type": "execute_result"
    }
   ],
   "source": [
    "idx_lr = np.argmax(tpr_lr - fpr_lr)\n",
    "idx_lr"
   ]
  },
  {
   "cell_type": "code",
   "execution_count": 129,
   "metadata": {
    "collapsed": false
   },
   "outputs": [
    {
     "name": "stdout",
     "output_type": "stream",
     "text": [
      "             precision    recall  f1-score   support\n",
      "\n",
      "          0       0.94      1.00      0.97      1847\n",
      "          1       0.00      0.00      0.00       117\n",
      "\n",
      "avg / total       0.88      0.94      0.91      1964\n",
      "\n"
     ]
    },
    {
     "name": "stderr",
     "output_type": "stream",
     "text": [
      "/home/pongsakorn/anaconda3/envs/py35/lib/python3.5/site-packages/sklearn/metrics/classification.py:1135: UndefinedMetricWarning: Precision and F-score are ill-defined and being set to 0.0 in labels with no predicted samples.\n",
      "  'precision', 'predicted', average, warn_for)\n"
     ]
    }
   ],
   "source": [
    "print(classification_report(y_test, rf.predict(X_test)))"
   ]
  },
  {
   "cell_type": "code",
   "execution_count": 130,
   "metadata": {
    "collapsed": false
   },
   "outputs": [
    {
     "name": "stdout",
     "output_type": "stream",
     "text": [
      "             precision    recall  f1-score   support\n",
      "\n",
      "          0       0.94      1.00      0.97      1847\n",
      "          1       0.00      0.00      0.00       117\n",
      "\n",
      "avg / total       0.88      0.94      0.91      1964\n",
      "\n"
     ]
    },
    {
     "name": "stderr",
     "output_type": "stream",
     "text": [
      "/home/pongsakorn/anaconda3/envs/py35/lib/python3.5/site-packages/sklearn/metrics/classification.py:1135: UndefinedMetricWarning: Precision and F-score are ill-defined and being set to 0.0 in labels with no predicted samples.\n",
      "  'precision', 'predicted', average, warn_for)\n"
     ]
    }
   ],
   "source": [
    "print(classification_report(y_test, rf.predict_proba(X_test)[:, 1] > thres_rf[idx_rf]))"
   ]
  },
  {
   "cell_type": "code",
   "execution_count": 131,
   "metadata": {
    "collapsed": false
   },
   "outputs": [
    {
     "data": {
      "text/plain": [
       "array([[1847,    0],\n",
       "       [ 117,    0]])"
      ]
     },
     "execution_count": 131,
     "metadata": {},
     "output_type": "execute_result"
    }
   ],
   "source": [
    "confusion_matrix(y_test, rf.predict(X_test))"
   ]
  },
  {
   "cell_type": "code",
   "execution_count": 132,
   "metadata": {
    "collapsed": false
   },
   "outputs": [
    {
     "data": {
      "text/plain": [
       "array([[1847,    0],\n",
       "       [ 117,    0]])"
      ]
     },
     "execution_count": 132,
     "metadata": {},
     "output_type": "execute_result"
    }
   ],
   "source": [
    "confusion_matrix(y_test, rf.predict_proba(X_test)[:, 1] > thres_rf[idx_rf])"
   ]
  },
  {
   "cell_type": "code",
   "execution_count": 135,
   "metadata": {
    "collapsed": false
   },
   "outputs": [],
   "source": [
    "rf_w = clone(rf.best_estimator_)"
   ]
  },
  {
   "cell_type": "code",
   "execution_count": 136,
   "metadata": {
    "collapsed": false
   },
   "outputs": [],
   "source": [
    "rf_w = rf_w.set_params(class_weight='balanced')"
   ]
  },
  {
   "cell_type": "code",
   "execution_count": 137,
   "metadata": {
    "collapsed": false
   },
   "outputs": [
    {
     "data": {
      "text/plain": [
       "RandomForestClassifier(bootstrap=True, class_weight='balanced',\n",
       "            criterion='gini', max_depth=5, max_features='auto',\n",
       "            max_leaf_nodes=None, min_impurity_decrease=0.0,\n",
       "            min_impurity_split=None, min_samples_leaf=1,\n",
       "            min_samples_split=2, min_weight_fraction_leaf=0.0,\n",
       "            n_estimators=200, n_jobs=1, oob_score=False, random_state=None,\n",
       "            verbose=0, warm_start=False)"
      ]
     },
     "execution_count": 137,
     "metadata": {},
     "output_type": "execute_result"
    }
   ],
   "source": [
    "rf_w.fit(X_train, y_train)"
   ]
  },
  {
   "cell_type": "markdown",
   "metadata": {},
   "source": [
    "### Sampling Methods"
   ]
  },
  {
   "cell_type": "code",
   "execution_count": 138,
   "metadata": {
    "collapsed": false
   },
   "outputs": [
    {
     "data": {
      "text/plain": [
       "((12930, 124), (12930,))"
      ]
     },
     "execution_count": 138,
     "metadata": {},
     "output_type": "execute_result"
    }
   ],
   "source": [
    "n_up = (y_train==0).sum() - y_train.sum()\n",
    "\n",
    "tmp = X_train.loc[y_train==1, :].sample((y_train==0).sum() - y_train.sum(), replace=True)\n",
    "X_up = pd.concat([X_train, tmp], axis=0)\n",
    "y_up = np.r_[y_train.values, np.ones(n_up)]\n",
    "\n",
    "X_up.shape, y_up.shape\n"
   ]
  },
  {
   "cell_type": "code",
   "execution_count": 139,
   "metadata": {
    "collapsed": false
   },
   "outputs": [
    {
     "data": {
      "text/plain": [
       "RandomForestClassifier(bootstrap=True, class_weight=None, criterion='gini',\n",
       "            max_depth=5, max_features='auto', max_leaf_nodes=None,\n",
       "            min_impurity_decrease=0.0, min_impurity_split=None,\n",
       "            min_samples_leaf=1, min_samples_split=2,\n",
       "            min_weight_fraction_leaf=0.0, n_estimators=200, n_jobs=1,\n",
       "            oob_score=False, random_state=None, verbose=0,\n",
       "            warm_start=False)"
      ]
     },
     "execution_count": 139,
     "metadata": {},
     "output_type": "execute_result"
    }
   ],
   "source": [
    "rf_up = clone(rf.best_estimator_)\n",
    "rf_up.fit(X_up, y_up)"
   ]
  },
  {
   "cell_type": "code",
   "execution_count": 141,
   "metadata": {
    "collapsed": true
   },
   "outputs": [],
   "source": [
    "from imblearn.over_sampling import SMOTE"
   ]
  },
  {
   "cell_type": "code",
   "execution_count": 142,
   "metadata": {
    "collapsed": true
   },
   "outputs": [],
   "source": [
    "sm = SMOTE()"
   ]
  },
  {
   "cell_type": "code",
   "execution_count": 143,
   "metadata": {
    "collapsed": true
   },
   "outputs": [],
   "source": [
    "X_res, y_res = sm.fit_sample(X_train, y_train)"
   ]
  },
  {
   "cell_type": "code",
   "execution_count": 144,
   "metadata": {
    "collapsed": false
   },
   "outputs": [
    {
     "data": {
      "text/plain": [
       "((12930, 124), (12930,))"
      ]
     },
     "execution_count": 144,
     "metadata": {},
     "output_type": "execute_result"
    }
   ],
   "source": [
    "X_res.shape, y_res.shape"
   ]
  },
  {
   "cell_type": "code",
   "execution_count": 145,
   "metadata": {
    "collapsed": false
   },
   "outputs": [
    {
     "data": {
      "text/plain": [
       "1    0.5\n",
       "0    0.5\n",
       "dtype: float64"
      ]
     },
     "execution_count": 145,
     "metadata": {},
     "output_type": "execute_result"
    }
   ],
   "source": [
    "pd.value_counts(y_res) / len(y_res)"
   ]
  },
  {
   "cell_type": "code",
   "execution_count": 146,
   "metadata": {
    "collapsed": false
   },
   "outputs": [
    {
     "data": {
      "text/plain": [
       "RandomForestClassifier(bootstrap=True, class_weight=None, criterion='gini',\n",
       "            max_depth=5, max_features='auto', max_leaf_nodes=None,\n",
       "            min_impurity_decrease=0.0, min_impurity_split=None,\n",
       "            min_samples_leaf=1, min_samples_split=2,\n",
       "            min_weight_fraction_leaf=0.0, n_estimators=200, n_jobs=1,\n",
       "            oob_score=False, random_state=None, verbose=0,\n",
       "            warm_start=False)"
      ]
     },
     "execution_count": 146,
     "metadata": {},
     "output_type": "execute_result"
    }
   ],
   "source": [
    "rf_smote = clone(rf.best_estimator_)\n",
    "rf_smote.fit(X_res, y_res)"
   ]
  },
  {
   "cell_type": "code",
   "execution_count": null,
   "metadata": {
    "collapsed": false
   },
   "outputs": [],
   "source": []
  },
  {
   "cell_type": "code",
   "execution_count": 148,
   "metadata": {
    "collapsed": false
   },
   "outputs": [],
   "source": [
    "def plot_roc_auc(models, names, X, y):\n",
    "    \n",
    "    plt.figure(figsize=(7, 7))\n",
    "    \n",
    "    for clf, name in zip(models, names):\n",
    "        fpr, tpr, _ = roc_curve(y, clf.predict_proba(X)[:, 1])\n",
    "\n",
    "        plt.plot(fpr, tpr, linewidth=2.5, alpha=.5, \n",
    "                 label=\"{}: {:.4f}\".format(name, roc_auc_score(y, clf.predict_proba(X)[:, 1])))\n",
    "\n",
    "    plt.plot([0, 1], [0, 1], 'k--')\n",
    "    plt.xlabel('fpr')\n",
    "    plt.ylabel('tpr')\n",
    "    plt.title('ROC-AUC')\n",
    "    plt.legend(loc='best')"
   ]
  },
  {
   "cell_type": "code",
   "execution_count": null,
   "metadata": {
    "collapsed": true
   },
   "outputs": [],
   "source": []
  },
  {
   "cell_type": "code",
   "execution_count": null,
   "metadata": {
    "collapsed": true
   },
   "outputs": [],
   "source": []
  },
  {
   "cell_type": "code",
   "execution_count": 150,
   "metadata": {
    "collapsed": false
   },
   "outputs": [
    {
     "data": {
      "text/plain": [
       "SVC(C=1.0, cache_size=200, class_weight=None, coef0=0.0,\n",
       "  decision_function_shape='ovr', degree=3, gamma='auto', kernel='rbf',\n",
       "  max_iter=-1, probability=False, random_state=None, shrinking=True,\n",
       "  tol=0.001, verbose=False)"
      ]
     },
     "execution_count": 150,
     "metadata": {},
     "output_type": "execute_result"
    }
   ],
   "source": [
    "SVC()"
   ]
  },
  {
   "cell_type": "code",
   "execution_count": 155,
   "metadata": {
    "collapsed": false
   },
   "outputs": [],
   "source": [
    "svc = make_pipeline(var0, StandardScaler(), SVC(class_weight='balanced'))\n",
    "svc_grid = GridSearchCV(svc, {'svc__C':np.exp2(np.arange(-6, 2))}, cv=k10, scoring='roc_auc', verbose=1)"
   ]
  },
  {
   "cell_type": "code",
   "execution_count": 156,
   "metadata": {
    "collapsed": false
   },
   "outputs": [
    {
     "name": "stdout",
     "output_type": "stream",
     "text": [
      "Fitting 10 folds for each of 8 candidates, totalling 80 fits\n"
     ]
    },
    {
     "name": "stderr",
     "output_type": "stream",
     "text": [
      "[Parallel(n_jobs=1)]: Done  80 out of  80 | elapsed: 19.2min finished\n"
     ]
    },
    {
     "data": {
      "text/plain": [
       "GridSearchCV(cv=StratifiedKFold(n_splits=10, random_state=123, shuffle=True),\n",
       "       error_score='raise',\n",
       "       estimator=Pipeline(memory=None,\n",
       "     steps=[('variancethreshold', VarianceThreshold(threshold=0.05)), ('standardscaler', StandardScaler(copy=True, with_mean=True, with_std=True)), ('svc', SVC(C=1.0, cache_size=200, class_weight='balanced', coef0=0.0,\n",
       "  decision_function_shape='ovr', degree=3, gamma='auto', kernel='rbf',\n",
       "  max_iter=-1, probability=False, random_state=None, shrinking=True,\n",
       "  tol=0.001, verbose=False))]),\n",
       "       fit_params=None, iid=True, n_jobs=1,\n",
       "       param_grid={'svc__C': array([ 0.01562,  0.03125,  0.0625 ,  0.125  ,  0.25   ,  0.5    ,\n",
       "        1.     ,  2.     ])},\n",
       "       pre_dispatch='2*n_jobs', refit=True, return_train_score='warn',\n",
       "       scoring='roc_auc', verbose=1)"
      ]
     },
     "execution_count": 156,
     "metadata": {},
     "output_type": "execute_result"
    }
   ],
   "source": [
    "svc_grid.fit(X_train.astype(float), y_train)"
   ]
  },
  {
   "cell_type": "code",
   "execution_count": 157,
   "metadata": {
    "collapsed": false
   },
   "outputs": [
    {
     "data": {
      "text/plain": [
       "(0.72021168353914466, {'svc__C': 0.125})"
      ]
     },
     "execution_count": 157,
     "metadata": {},
     "output_type": "execute_result"
    }
   ],
   "source": [
    "svc_grid.best_score_, svc_grid.best_params_"
   ]
  },
  {
   "cell_type": "code",
   "execution_count": 158,
   "metadata": {
    "collapsed": true
   },
   "outputs": [],
   "source": [
    "svc_best = clone(svc_grid.best_estimator_)\n",
    "\n",
    "svc_best = svc_best.set_params(svc__probability=True)"
   ]
  },
  {
   "cell_type": "code",
   "execution_count": 161,
   "metadata": {
    "collapsed": false
   },
   "outputs": [
    {
     "data": {
      "text/plain": [
       "Pipeline(memory=None,\n",
       "     steps=[('variancethreshold', VarianceThreshold(threshold=0.05)), ('standardscaler', StandardScaler(copy=True, with_mean=True, with_std=True)), ('svc', SVC(C=0.125, cache_size=200, class_weight='balanced', coef0=0.0,\n",
       "  decision_function_shape='ovr', degree=3, gamma='auto', kernel='rbf',\n",
       "  max_iter=-1, probability=True, random_state=None, shrinking=True,\n",
       "  tol=0.001, verbose=False))])"
      ]
     },
     "execution_count": 161,
     "metadata": {},
     "output_type": "execute_result"
    }
   ],
   "source": [
    "svc_best.fit(X_train.astype(float), y_train)"
   ]
  },
  {
   "cell_type": "code",
   "execution_count": null,
   "metadata": {
    "collapsed": true
   },
   "outputs": [],
   "source": []
  },
  {
   "cell_type": "code",
   "execution_count": 162,
   "metadata": {
    "collapsed": false
   },
   "outputs": [
    {
     "name": "stderr",
     "output_type": "stream",
     "text": [
      "/home/pongsakorn/anaconda3/envs/py35/lib/python3.5/site-packages/sklearn/utils/validation.py:475: DataConversionWarning: Data with input dtype int64 was converted to float64 by StandardScaler.\n",
      "  warnings.warn(msg, DataConversionWarning)\n"
     ]
    },
    {
     "data": {
      "image/png": "[encoded data removed]",
      "text/plain": [
       "<matplotlib.figure.Figure at 0x7fcde525aa90>"
      ]
     },
     "metadata": {},
     "output_type": "display_data"
    }
   ],
   "source": [
    "plot_roc_auc([log_reg, rf, rf_w, rf_up, rf_smote, svc_best], \n",
    "             ['log_reg', 'rf', 'rf_weight', 'rf_up', 'rf_smote', 'svc_weight'], \n",
    "             X_val, y_val)"
   ]
  },
  {
   "cell_type": "code",
   "execution_count": null,
   "metadata": {
    "collapsed": true
   },
   "outputs": [],
   "source": []
  }
 ],
 "metadata": {
  "kernelspec": {
   "display_name": "Python 3",
   "language": "python",
   "name": "python3"
  },
  "language_info": {
   "codemirror_mode": {
    "name": "ipython",
    "version": 3
   },
   "file_extension": ".py",
   "mimetype": "text/x-python",
   "name": "python",
   "nbconvert_exporter": "python",
   "pygments_lexer": "ipython3",
   "version": "3.5.4"
  }
 },
 "nbformat": 4,
 "nbformat_minor": 2
}
