{
 "cells": [
  {
   "cell_type": "code",
   "execution_count": 97,
   "metadata": {},
   "outputs": [],
   "source": [
    "import numpy as np\n",
    "import pandas as pd\n",
    "import matplotlib.pyplot as plt\n",
    "import os\n",
    "import seaborn as sns\n",
    "\n",
    "from sklearn.linear_model import LinearRegression, LogisticRegression\n",
    "from sklearn.model_selection import cross_val_score, cross_val_predict\n",
    "from sklearn.preprocessing import PolynomialFeatures\n",
    "from sklearn.metrics import mean_squared_error\n",
    "\n",
    "from scipy.stats import ttest_1samp"
   ]
  },
  {
   "cell_type": "code",
   "execution_count": 2,
   "metadata": {},
   "outputs": [
    {
     "data": {
      "text/plain": [
       "['.ipynb_checkpoints',\n",
       " 'Ch_04.pdf',\n",
       " 'Ch_06.pdf',\n",
       " 'Ch_07.pdf',\n",
       " 'Ch_08.pdf',\n",
       " 'data',\n",
       " 'datasets',\n",
       " 'ex_ch3.pdf',\n",
       " 'fetch_data.py',\n",
       " 'first_time',\n",
       " 'grant_submit.csv',\n",
       " 'R_notebook.ipynb',\n",
       " 'Untitled.ipynb',\n",
       " 'X2008_y2008_Xpre2008_ypre2008_Xall_yall_Xval_yval_cv.pkl',\n",
       " 'Xtest.pkl']"
      ]
     },
     "execution_count": 2,
     "metadata": {},
     "output_type": "execute_result"
    }
   ],
   "source": [
    "os.listdir('.')"
   ]
  },
  {
   "cell_type": "code",
   "execution_count": 3,
   "metadata": {},
   "outputs": [],
   "source": [
    "car2010 = pd.read_csv('data/FuelEconomy/cars2010.csv',  index_col=0)\n",
    "car2011 = pd.read_csv('data/FuelEconomy/cars2011.csv', index_col=0)"
   ]
  },
  {
   "cell_type": "code",
   "execution_count": 4,
   "metadata": {},
   "outputs": [
    {
     "data": {
      "text/html": [
       "<div>\n",
       "<style scoped>\n",
       "    .dataframe tbody tr th:only-of-type {\n",
       "        vertical-align: middle;\n",
       "    }\n",
       "\n",
       "    .dataframe tbody tr th {\n",
       "        vertical-align: top;\n",
       "    }\n",
       "\n",
       "    .dataframe thead th {\n",
       "        text-align: right;\n",
       "    }\n",
       "</style>\n",
       "<table border=\"1\" class=\"dataframe\">\n",
       "  <thead>\n",
       "    <tr style=\"text-align: right;\">\n",
       "      <th></th>\n",
       "      <th>EngDispl</th>\n",
       "      <th>NumCyl</th>\n",
       "      <th>Transmission</th>\n",
       "      <th>FE</th>\n",
       "      <th>AirAspirationMethod</th>\n",
       "      <th>NumGears</th>\n",
       "      <th>TransLockup</th>\n",
       "      <th>TransCreeperGear</th>\n",
       "      <th>DriveDesc</th>\n",
       "      <th>IntakeValvePerCyl</th>\n",
       "      <th>ExhaustValvesPerCyl</th>\n",
       "      <th>CarlineClassDesc</th>\n",
       "      <th>VarValveTiming</th>\n",
       "      <th>VarValveLift</th>\n",
       "    </tr>\n",
       "  </thead>\n",
       "  <tbody>\n",
       "    <tr>\n",
       "      <th>1088</th>\n",
       "      <td>4.7</td>\n",
       "      <td>8</td>\n",
       "      <td>AM6</td>\n",
       "      <td>28.0198</td>\n",
       "      <td>NaturallyAspirated</td>\n",
       "      <td>6</td>\n",
       "      <td>1.0</td>\n",
       "      <td>0.0</td>\n",
       "      <td>TwoWheelDriveRear</td>\n",
       "      <td>2</td>\n",
       "      <td>2</td>\n",
       "      <td>2Seaters</td>\n",
       "      <td>1.0</td>\n",
       "      <td>0.0</td>\n",
       "    </tr>\n",
       "    <tr>\n",
       "      <th>1089</th>\n",
       "      <td>4.7</td>\n",
       "      <td>8</td>\n",
       "      <td>M6</td>\n",
       "      <td>25.6094</td>\n",
       "      <td>NaturallyAspirated</td>\n",
       "      <td>6</td>\n",
       "      <td>1.0</td>\n",
       "      <td>0.0</td>\n",
       "      <td>TwoWheelDriveRear</td>\n",
       "      <td>2</td>\n",
       "      <td>2</td>\n",
       "      <td>2Seaters</td>\n",
       "      <td>1.0</td>\n",
       "      <td>0.0</td>\n",
       "    </tr>\n",
       "    <tr>\n",
       "      <th>1090</th>\n",
       "      <td>4.2</td>\n",
       "      <td>8</td>\n",
       "      <td>M6</td>\n",
       "      <td>26.8000</td>\n",
       "      <td>NaturallyAspirated</td>\n",
       "      <td>6</td>\n",
       "      <td>1.0</td>\n",
       "      <td>0.0</td>\n",
       "      <td>AllWheelDrive</td>\n",
       "      <td>2</td>\n",
       "      <td>2</td>\n",
       "      <td>2Seaters</td>\n",
       "      <td>1.0</td>\n",
       "      <td>0.0</td>\n",
       "    </tr>\n",
       "    <tr>\n",
       "      <th>1091</th>\n",
       "      <td>4.2</td>\n",
       "      <td>8</td>\n",
       "      <td>AM6</td>\n",
       "      <td>25.0451</td>\n",
       "      <td>NaturallyAspirated</td>\n",
       "      <td>6</td>\n",
       "      <td>1.0</td>\n",
       "      <td>0.0</td>\n",
       "      <td>AllWheelDrive</td>\n",
       "      <td>2</td>\n",
       "      <td>2</td>\n",
       "      <td>2Seaters</td>\n",
       "      <td>1.0</td>\n",
       "      <td>0.0</td>\n",
       "    </tr>\n",
       "    <tr>\n",
       "      <th>1092</th>\n",
       "      <td>5.2</td>\n",
       "      <td>10</td>\n",
       "      <td>AM6</td>\n",
       "      <td>24.8000</td>\n",
       "      <td>NaturallyAspirated</td>\n",
       "      <td>6</td>\n",
       "      <td>0.0</td>\n",
       "      <td>0.0</td>\n",
       "      <td>AllWheelDrive</td>\n",
       "      <td>2</td>\n",
       "      <td>2</td>\n",
       "      <td>2Seaters</td>\n",
       "      <td>1.0</td>\n",
       "      <td>0.0</td>\n",
       "    </tr>\n",
       "  </tbody>\n",
       "</table>\n",
       "</div>"
      ],
      "text/plain": [
       "      EngDispl  NumCyl Transmission       FE AirAspirationMethod  NumGears  \\\n",
       "1088       4.7       8          AM6  28.0198  NaturallyAspirated         6   \n",
       "1089       4.7       8           M6  25.6094  NaturallyAspirated         6   \n",
       "1090       4.2       8           M6  26.8000  NaturallyAspirated         6   \n",
       "1091       4.2       8          AM6  25.0451  NaturallyAspirated         6   \n",
       "1092       5.2      10          AM6  24.8000  NaturallyAspirated         6   \n",
       "\n",
       "      TransLockup  TransCreeperGear          DriveDesc  IntakeValvePerCyl  \\\n",
       "1088          1.0               0.0  TwoWheelDriveRear                  2   \n",
       "1089          1.0               0.0  TwoWheelDriveRear                  2   \n",
       "1090          1.0               0.0      AllWheelDrive                  2   \n",
       "1091          1.0               0.0      AllWheelDrive                  2   \n",
       "1092          0.0               0.0      AllWheelDrive                  2   \n",
       "\n",
       "      ExhaustValvesPerCyl CarlineClassDesc  VarValveTiming  VarValveLift  \n",
       "1088                    2         2Seaters             1.0           0.0  \n",
       "1089                    2         2Seaters             1.0           0.0  \n",
       "1090                    2         2Seaters             1.0           0.0  \n",
       "1091                    2         2Seaters             1.0           0.0  \n",
       "1092                    2         2Seaters             1.0           0.0  "
      ]
     },
     "execution_count": 4,
     "metadata": {},
     "output_type": "execute_result"
    }
   ],
   "source": [
    "car2010.head()"
   ]
  },
  {
   "cell_type": "code",
   "execution_count": 5,
   "metadata": {},
   "outputs": [
    {
     "data": {
      "text/html": [
       "<div>\n",
       "<style scoped>\n",
       "    .dataframe tbody tr th:only-of-type {\n",
       "        vertical-align: middle;\n",
       "    }\n",
       "\n",
       "    .dataframe tbody tr th {\n",
       "        vertical-align: top;\n",
       "    }\n",
       "\n",
       "    .dataframe thead th {\n",
       "        text-align: right;\n",
       "    }\n",
       "</style>\n",
       "<table border=\"1\" class=\"dataframe\">\n",
       "  <thead>\n",
       "    <tr style=\"text-align: right;\">\n",
       "      <th></th>\n",
       "      <th>EngDispl</th>\n",
       "      <th>NumCyl</th>\n",
       "      <th>Transmission</th>\n",
       "      <th>FE</th>\n",
       "      <th>AirAspirationMethod</th>\n",
       "      <th>NumGears</th>\n",
       "      <th>TransLockup</th>\n",
       "      <th>TransCreeperGear</th>\n",
       "      <th>DriveDesc</th>\n",
       "      <th>IntakeValvePerCyl</th>\n",
       "      <th>ExhaustValvesPerCyl</th>\n",
       "      <th>CarlineClassDesc</th>\n",
       "      <th>VarValveTiming</th>\n",
       "      <th>VarValveLift</th>\n",
       "    </tr>\n",
       "  </thead>\n",
       "  <tbody>\n",
       "    <tr>\n",
       "      <th>1</th>\n",
       "      <td>5.9</td>\n",
       "      <td>12</td>\n",
       "      <td>M6</td>\n",
       "      <td>22.9258</td>\n",
       "      <td>NaturallyAspirated</td>\n",
       "      <td>6</td>\n",
       "      <td>0.0</td>\n",
       "      <td>0.0</td>\n",
       "      <td>TwoWheelDriveRear</td>\n",
       "      <td>2</td>\n",
       "      <td>2</td>\n",
       "      <td>2Seaters</td>\n",
       "      <td>0.0</td>\n",
       "      <td>0.0</td>\n",
       "    </tr>\n",
       "    <tr>\n",
       "      <th>8</th>\n",
       "      <td>4.2</td>\n",
       "      <td>8</td>\n",
       "      <td>AM6</td>\n",
       "      <td>26.7678</td>\n",
       "      <td>NaturallyAspirated</td>\n",
       "      <td>6</td>\n",
       "      <td>0.0</td>\n",
       "      <td>0.0</td>\n",
       "      <td>AllWheelDrive</td>\n",
       "      <td>2</td>\n",
       "      <td>2</td>\n",
       "      <td>2Seaters</td>\n",
       "      <td>1.0</td>\n",
       "      <td>0.0</td>\n",
       "    </tr>\n",
       "    <tr>\n",
       "      <th>9</th>\n",
       "      <td>4.2</td>\n",
       "      <td>8</td>\n",
       "      <td>M6</td>\n",
       "      <td>24.3010</td>\n",
       "      <td>NaturallyAspirated</td>\n",
       "      <td>6</td>\n",
       "      <td>0.0</td>\n",
       "      <td>0.0</td>\n",
       "      <td>AllWheelDrive</td>\n",
       "      <td>2</td>\n",
       "      <td>2</td>\n",
       "      <td>2Seaters</td>\n",
       "      <td>1.0</td>\n",
       "      <td>0.0</td>\n",
       "    </tr>\n",
       "    <tr>\n",
       "      <th>10</th>\n",
       "      <td>5.2</td>\n",
       "      <td>10</td>\n",
       "      <td>AM6</td>\n",
       "      <td>24.3325</td>\n",
       "      <td>NaturallyAspirated</td>\n",
       "      <td>6</td>\n",
       "      <td>0.0</td>\n",
       "      <td>0.0</td>\n",
       "      <td>AllWheelDrive</td>\n",
       "      <td>2</td>\n",
       "      <td>2</td>\n",
       "      <td>2Seaters</td>\n",
       "      <td>1.0</td>\n",
       "      <td>0.0</td>\n",
       "    </tr>\n",
       "    <tr>\n",
       "      <th>11</th>\n",
       "      <td>5.2</td>\n",
       "      <td>10</td>\n",
       "      <td>M6</td>\n",
       "      <td>23.0667</td>\n",
       "      <td>NaturallyAspirated</td>\n",
       "      <td>6</td>\n",
       "      <td>0.0</td>\n",
       "      <td>0.0</td>\n",
       "      <td>AllWheelDrive</td>\n",
       "      <td>2</td>\n",
       "      <td>2</td>\n",
       "      <td>2Seaters</td>\n",
       "      <td>1.0</td>\n",
       "      <td>0.0</td>\n",
       "    </tr>\n",
       "  </tbody>\n",
       "</table>\n",
       "</div>"
      ],
      "text/plain": [
       "    EngDispl  NumCyl Transmission       FE AirAspirationMethod  NumGears  \\\n",
       "1        5.9      12           M6  22.9258  NaturallyAspirated         6   \n",
       "8        4.2       8          AM6  26.7678  NaturallyAspirated         6   \n",
       "9        4.2       8           M6  24.3010  NaturallyAspirated         6   \n",
       "10       5.2      10          AM6  24.3325  NaturallyAspirated         6   \n",
       "11       5.2      10           M6  23.0667  NaturallyAspirated         6   \n",
       "\n",
       "    TransLockup  TransCreeperGear          DriveDesc  IntakeValvePerCyl  \\\n",
       "1           0.0               0.0  TwoWheelDriveRear                  2   \n",
       "8           0.0               0.0      AllWheelDrive                  2   \n",
       "9           0.0               0.0      AllWheelDrive                  2   \n",
       "10          0.0               0.0      AllWheelDrive                  2   \n",
       "11          0.0               0.0      AllWheelDrive                  2   \n",
       "\n",
       "    ExhaustValvesPerCyl CarlineClassDesc  VarValveTiming  VarValveLift  \n",
       "1                     2         2Seaters             0.0           0.0  \n",
       "8                     2         2Seaters             1.0           0.0  \n",
       "9                     2         2Seaters             1.0           0.0  \n",
       "10                    2         2Seaters             1.0           0.0  \n",
       "11                    2         2Seaters             1.0           0.0  "
      ]
     },
     "execution_count": 5,
     "metadata": {},
     "output_type": "execute_result"
    }
   ],
   "source": [
    "car2011.head()"
   ]
  },
  {
   "cell_type": "code",
   "execution_count": 6,
   "metadata": {},
   "outputs": [
    {
     "data": {
      "text/html": [
       "<div>\n",
       "<style scoped>\n",
       "    .dataframe tbody tr th:only-of-type {\n",
       "        vertical-align: middle;\n",
       "    }\n",
       "\n",
       "    .dataframe tbody tr th {\n",
       "        vertical-align: top;\n",
       "    }\n",
       "\n",
       "    .dataframe thead th {\n",
       "        text-align: right;\n",
       "    }\n",
       "</style>\n",
       "<table border=\"1\" class=\"dataframe\">\n",
       "  <thead>\n",
       "    <tr style=\"text-align: right;\">\n",
       "      <th></th>\n",
       "      <th>EngDispl</th>\n",
       "      <th>NumCyl</th>\n",
       "      <th>Transmission</th>\n",
       "      <th>FE</th>\n",
       "      <th>AirAspirationMethod</th>\n",
       "      <th>NumGears</th>\n",
       "      <th>TransLockup</th>\n",
       "      <th>TransCreeperGear</th>\n",
       "      <th>DriveDesc</th>\n",
       "      <th>IntakeValvePerCyl</th>\n",
       "      <th>ExhaustValvesPerCyl</th>\n",
       "      <th>CarlineClassDesc</th>\n",
       "      <th>VarValveTiming</th>\n",
       "      <th>VarValveLift</th>\n",
       "    </tr>\n",
       "  </thead>\n",
       "  <tbody>\n",
       "    <tr>\n",
       "      <th>2191</th>\n",
       "      <td>3.2</td>\n",
       "      <td>6</td>\n",
       "      <td>S6</td>\n",
       "      <td>30.4926</td>\n",
       "      <td>NaturallyAspirated</td>\n",
       "      <td>6</td>\n",
       "      <td>1.0</td>\n",
       "      <td>0.0</td>\n",
       "      <td>AllWheelDrive</td>\n",
       "      <td>2</td>\n",
       "      <td>2</td>\n",
       "      <td>SpecialPurposeVehicleSUV4WD</td>\n",
       "      <td>1.0</td>\n",
       "      <td>0.0</td>\n",
       "    </tr>\n",
       "    <tr>\n",
       "      <th>2192</th>\n",
       "      <td>3.0</td>\n",
       "      <td>6</td>\n",
       "      <td>S6</td>\n",
       "      <td>29.7892</td>\n",
       "      <td>Turbocharged</td>\n",
       "      <td>6</td>\n",
       "      <td>1.0</td>\n",
       "      <td>0.0</td>\n",
       "      <td>AllWheelDrive</td>\n",
       "      <td>2</td>\n",
       "      <td>2</td>\n",
       "      <td>SpecialPurposeVehicleSUV4WD</td>\n",
       "      <td>1.0</td>\n",
       "      <td>0.0</td>\n",
       "    </tr>\n",
       "    <tr>\n",
       "      <th>2193</th>\n",
       "      <td>3.2</td>\n",
       "      <td>6</td>\n",
       "      <td>S6</td>\n",
       "      <td>30.4926</td>\n",
       "      <td>NaturallyAspirated</td>\n",
       "      <td>6</td>\n",
       "      <td>1.0</td>\n",
       "      <td>0.0</td>\n",
       "      <td>AllWheelDrive</td>\n",
       "      <td>2</td>\n",
       "      <td>2</td>\n",
       "      <td>SpecialPurposeVehicleSUV4WD</td>\n",
       "      <td>1.0</td>\n",
       "      <td>0.0</td>\n",
       "    </tr>\n",
       "    <tr>\n",
       "      <th>2194</th>\n",
       "      <td>3.2</td>\n",
       "      <td>6</td>\n",
       "      <td>S6</td>\n",
       "      <td>29.7431</td>\n",
       "      <td>NaturallyAspirated</td>\n",
       "      <td>6</td>\n",
       "      <td>1.0</td>\n",
       "      <td>0.0</td>\n",
       "      <td>AllWheelDrive</td>\n",
       "      <td>2</td>\n",
       "      <td>2</td>\n",
       "      <td>SpecialPurposeVehicleSUV4WD</td>\n",
       "      <td>1.0</td>\n",
       "      <td>0.0</td>\n",
       "    </tr>\n",
       "    <tr>\n",
       "      <th>2195</th>\n",
       "      <td>4.4</td>\n",
       "      <td>8</td>\n",
       "      <td>S6</td>\n",
       "      <td>26.2000</td>\n",
       "      <td>NaturallyAspirated</td>\n",
       "      <td>6</td>\n",
       "      <td>1.0</td>\n",
       "      <td>0.0</td>\n",
       "      <td>AllWheelDrive</td>\n",
       "      <td>2</td>\n",
       "      <td>2</td>\n",
       "      <td>SpecialPurposeVehicleSUV4WD</td>\n",
       "      <td>1.0</td>\n",
       "      <td>0.0</td>\n",
       "    </tr>\n",
       "  </tbody>\n",
       "</table>\n",
       "</div>"
      ],
      "text/plain": [
       "      EngDispl  NumCyl Transmission       FE AirAspirationMethod  NumGears  \\\n",
       "2191       3.2       6           S6  30.4926  NaturallyAspirated         6   \n",
       "2192       3.0       6           S6  29.7892        Turbocharged         6   \n",
       "2193       3.2       6           S6  30.4926  NaturallyAspirated         6   \n",
       "2194       3.2       6           S6  29.7431  NaturallyAspirated         6   \n",
       "2195       4.4       8           S6  26.2000  NaturallyAspirated         6   \n",
       "\n",
       "      TransLockup  TransCreeperGear      DriveDesc  IntakeValvePerCyl  \\\n",
       "2191          1.0               0.0  AllWheelDrive                  2   \n",
       "2192          1.0               0.0  AllWheelDrive                  2   \n",
       "2193          1.0               0.0  AllWheelDrive                  2   \n",
       "2194          1.0               0.0  AllWheelDrive                  2   \n",
       "2195          1.0               0.0  AllWheelDrive                  2   \n",
       "\n",
       "      ExhaustValvesPerCyl             CarlineClassDesc  VarValveTiming  \\\n",
       "2191                    2  SpecialPurposeVehicleSUV4WD             1.0   \n",
       "2192                    2  SpecialPurposeVehicleSUV4WD             1.0   \n",
       "2193                    2  SpecialPurposeVehicleSUV4WD             1.0   \n",
       "2194                    2  SpecialPurposeVehicleSUV4WD             1.0   \n",
       "2195                    2  SpecialPurposeVehicleSUV4WD             1.0   \n",
       "\n",
       "      VarValveLift  \n",
       "2191           0.0  \n",
       "2192           0.0  \n",
       "2193           0.0  \n",
       "2194           0.0  \n",
       "2195           0.0  "
      ]
     },
     "execution_count": 6,
     "metadata": {},
     "output_type": "execute_result"
    }
   ],
   "source": [
    "car2010.tail()"
   ]
  },
  {
   "cell_type": "code",
   "execution_count": 7,
   "metadata": {},
   "outputs": [],
   "source": [
    "car2010 = car2010[['EngDispl', 'FE']]\n",
    "car2011 = car2011[['EngDispl', 'FE']]"
   ]
  },
  {
   "cell_type": "code",
   "execution_count": 8,
   "metadata": {},
   "outputs": [
    {
     "data": {
      "text/plain": [
       "<matplotlib.axes._subplots.AxesSubplot at 0x21f767b8240>"
      ]
     },
     "execution_count": 8,
     "metadata": {},
     "output_type": "execute_result"
    },
    {
     "data": {
      "image/png": "[encoded data removed]",
      "text/plain": [
       "<Figure size 864x288 with 2 Axes>"
      ]
     },
     "metadata": {},
     "output_type": "display_data"
    }
   ],
   "source": [
    "fig, ax = plt.subplots(ncols=2, figsize=(12, 4), sharey=True, sharex=True)\n",
    "car2010.plot(kind='scatter', x='EngDispl', y='FE', title='2010 Model', ax=ax[0])\n",
    "car2011.plot(kind='scatter', x='EngDispl', y='FE', title='2011 Model', ax=ax[1])"
   ]
  },
  {
   "cell_type": "code",
   "execution_count": 9,
   "metadata": {},
   "outputs": [
    {
     "data": {
      "text/plain": [
       "array([<matplotlib.axes._subplots.AxesSubplot object at 0x0000021F7685C6A0>,\n",
       "       <matplotlib.axes._subplots.AxesSubplot object at 0x0000021F7689C0B8>],\n",
       "      dtype=object)"
      ]
     },
     "execution_count": 9,
     "metadata": {},
     "output_type": "execute_result"
    },
    {
     "data": {
      "image/png": "[encoded data removed]",
      "text/plain": [
       "<Figure size 864x288 with 2 Axes>"
      ]
     },
     "metadata": {},
     "output_type": "display_data"
    }
   ],
   "source": [
    "(pd.concat([car2010.assign(n='2010'), car2011.assign(n='2011')])\n",
    "     .drop('FE', axis=1)\n",
    "     .hist(by='n', sharex=True, sharey=True, density=True, \n",
    "           bins=15, rwidth=.8, figsize=(12, 4))\n",
    ")"
   ]
  },
  {
   "cell_type": "code",
   "execution_count": 10,
   "metadata": {},
   "outputs": [
    {
     "data": {
      "text/plain": [
       "array([<matplotlib.axes._subplots.AxesSubplot object at 0x0000021F7692AB00>,\n",
       "       <matplotlib.axes._subplots.AxesSubplot object at 0x0000021F76952048>],\n",
       "      dtype=object)"
      ]
     },
     "execution_count": 10,
     "metadata": {},
     "output_type": "execute_result"
    },
    {
     "data": {
      "image/png": "[encoded data removed]",
      "text/plain": [
       "<Figure size 864x288 with 2 Axes>"
      ]
     },
     "metadata": {},
     "output_type": "display_data"
    }
   ],
   "source": [
    "(pd.concat([car2010.assign(n='2010'), car2011.assign(n='2011')])\n",
    "     .drop('EngDispl', axis=1)\n",
    "     .hist(by='n', sharex=True, sharey=True, density=True, \n",
    "           bins=15, rwidth=.8, figsize=(12, 4))\n",
    ")"
   ]
  },
  {
   "cell_type": "code",
   "execution_count": 11,
   "metadata": {},
   "outputs": [
    {
     "data": {
      "text/plain": [
       "((1107, 2), (245, 2))"
      ]
     },
     "execution_count": 11,
     "metadata": {},
     "output_type": "execute_result"
    }
   ],
   "source": [
    "car2010.shape, car2011.shape"
   ]
  },
  {
   "cell_type": "code",
   "execution_count": 14,
   "metadata": {},
   "outputs": [],
   "source": [
    "X_train = car2010.drop('FE', axis=1).values\n",
    "y_train = car2010['FE'].values"
   ]
  },
  {
   "cell_type": "code",
   "execution_count": 17,
   "metadata": {},
   "outputs": [],
   "source": [
    "X_train_poly = (car2010\n",
    "                    .assign(EngDispl_sqr=lambda x: x.EngDispl**2)\n",
    "                    .drop('FE', axis=1)\n",
    "                    .values\n",
    "               )"
   ]
  },
  {
   "cell_type": "code",
   "execution_count": 43,
   "metadata": {},
   "outputs": [],
   "source": [
    "lr = LinearRegression()"
   ]
  },
  {
   "cell_type": "code",
   "execution_count": 72,
   "metadata": {},
   "outputs": [],
   "source": [
    "nmse = cross_val_score(LinearRegression(), X_train, y_train, cv=10, \n",
    "                         scoring='neg_mean_squared_error')\n",
    "r2 = cross_val_score(LinearRegression(), X_train, y_train, cv=10, scoring='r2')\n",
    "preds = cross_val_predict(LinearRegression(), X_train, y_train, cv=10)"
   ]
  },
  {
   "cell_type": "code",
   "execution_count": 74,
   "metadata": {},
   "outputs": [
    {
     "data": {
      "text/plain": [
       "4.620076226095307"
      ]
     },
     "execution_count": 74,
     "metadata": {},
     "output_type": "execute_result"
    }
   ],
   "source": [
    "lr.fit(X_train, y_train)\n",
    "np.sqrt(mean_squared_error(y_true=y_train, y_pred=lr.predict(X_train)))"
   ]
  },
  {
   "cell_type": "code",
   "execution_count": 75,
   "metadata": {},
   "outputs": [
    {
     "data": {
      "text/plain": [
       "(array([-4.52092928]), 50.56322991169735)"
      ]
     },
     "execution_count": 75,
     "metadata": {},
     "output_type": "execute_result"
    }
   ],
   "source": [
    "lr.coef_, lr.intercept_"
   ]
  },
  {
   "cell_type": "code",
   "execution_count": 76,
   "metadata": {},
   "outputs": [],
   "source": [
    "xs = np.linspace(car2010.EngDispl.min(), car2010.EngDispl.max(), 100)"
   ]
  },
  {
   "cell_type": "code",
   "execution_count": 77,
   "metadata": {},
   "outputs": [
    {
     "data": {
      "text/plain": [
       "[<matplotlib.lines.Line2D at 0x21f78d5bda0>]"
      ]
     },
     "execution_count": 77,
     "metadata": {},
     "output_type": "execute_result"
    },
    {
     "data": {
      "image/png": "[encoded data removed]",
      "text/plain": [
       "<Figure size 864x432 with 2 Axes>"
      ]
     },
     "metadata": {},
     "output_type": "display_data"
    }
   ],
   "source": [
    "fig, axs = plt.subplots(ncols=2, figsize=(12, 6))\n",
    "\n",
    "# Fitting Plot\n",
    "(car2010\n",
    "     .plot\n",
    "     .scatter(x='EngDispl', y='FE', ax=axs[0])\n",
    ")\n",
    "ys = lr.predict(xs[:, None])\n",
    "axs[0].plot(xs, ys, 'k--')\n",
    "\n",
    "# Residual Plots\n",
    "(pd.DataFrame(np.c_[y_train, preds], columns=['y', 'y_pred'])\n",
    "          .plot\n",
    "          .scatter(x='y', y='y_pred', ax=axs[1], \n",
    "                   title=\"RMSE:{:.2f} | R^2:{:.2f}\".format(np.sqrt(-nmse.mean()), r2.mean()))\n",
    "     )\n",
    "xmin, xmax, ymin, ymax = axs[1].axis()\n",
    "amin, amax = min(xmin, ymin), max(xmax, ymax)\n",
    "axs[1].set_ylim(amin, amax)\n",
    "axs[1].set_xlim(amin, amax)\n",
    "axs[1].plot([amin, amax], [amin, amax], 'k--', alpha=.6)"
   ]
  },
  {
   "cell_type": "code",
   "execution_count": 69,
   "metadata": {},
   "outputs": [
    {
     "data": {
      "text/plain": [
       "LinearRegression(copy_X=True, fit_intercept=True, n_jobs=1, normalize=False)"
      ]
     },
     "execution_count": 69,
     "metadata": {},
     "output_type": "execute_result"
    }
   ],
   "source": [
    "nmse_poly = cross_val_score(LinearRegression(), X_train_poly, y_train, \n",
    "                              cv=10, scoring='neg_mean_squared_error')\n",
    "r2_poly = cross_val_score(LinearRegression(), X_train_poly, y_train, cv=10, scoring='r2')\n",
    "preds_poly = cross_val_predict(LinearRegression(), X_train_poly, y_train, cv=10)\n",
    "\n",
    "lr.fit(X_train_poly, y_train)"
   ]
  },
  {
   "cell_type": "code",
   "execution_count": 71,
   "metadata": {},
   "outputs": [
    {
     "data": {
      "text/plain": [
       "[<matplotlib.lines.Line2D at 0x21f7a8f8c50>]"
      ]
     },
     "execution_count": 71,
     "metadata": {},
     "output_type": "execute_result"
    },
    {
     "data": {
      "image/png": "[encoded data removed]",
      "text/plain": [
       "<Figure size 864x432 with 2 Axes>"
      ]
     },
     "metadata": {},
     "output_type": "display_data"
    }
   ],
   "source": [
    "fig, axs = plt.subplots(ncols=2, figsize=(12, 6))\n",
    "\n",
    "# Fitting Plot\n",
    "(car2010\n",
    "     .plot\n",
    "     .scatter(x='EngDispl', y='FE', ax=axs[0])\n",
    ")\n",
    "ys = lr.predict(np.c_[xs, xs**2])\n",
    "axs[0].plot(xs, ys, 'k--', label='poly-2')\n",
    "axs[0].legend()\n",
    "\n",
    "\n",
    "(pd.DataFrame(np.c_[y_train, preds_poly], columns=['y', 'y_pred'])\n",
    "          .plot\n",
    "          .scatter(x='y', y='y_pred', ax=axs[1], \n",
    "                   title=\"RMSE:{:.2f} | R^2:{:.2f}\".format(np.sqrt(-nmse_poly.mean()), np.mean(r2_poly)))\n",
    "     )\n",
    "xmin, xmax, ymin, ymax = axs[1].axis()\n",
    "amin, amax = min(xmin, ymin), max(xmax, ymax)\n",
    "axs[1].set_ylim(amin, amax)\n",
    "axs[1].set_xlim(amin, amax)\n",
    "axs[1].plot([amin, amax], [amin, amax], 'k--', alpha=.6)"
   ]
  },
  {
   "cell_type": "code",
   "execution_count": 78,
   "metadata": {},
   "outputs": [
    {
     "data": {
      "text/html": [
       "<div>\n",
       "<style scoped>\n",
       "    .dataframe tbody tr th:only-of-type {\n",
       "        vertical-align: middle;\n",
       "    }\n",
       "\n",
       "    .dataframe tbody tr th {\n",
       "        vertical-align: top;\n",
       "    }\n",
       "\n",
       "    .dataframe thead th {\n",
       "        text-align: right;\n",
       "    }\n",
       "</style>\n",
       "<table border=\"1\" class=\"dataframe\">\n",
       "  <thead>\n",
       "    <tr style=\"text-align: right;\">\n",
       "      <th></th>\n",
       "      <th>EngDispl</th>\n",
       "      <th>FE</th>\n",
       "    </tr>\n",
       "  </thead>\n",
       "  <tbody>\n",
       "    <tr>\n",
       "      <th>count</th>\n",
       "      <td>245.00000</td>\n",
       "      <td>245.000000</td>\n",
       "    </tr>\n",
       "    <tr>\n",
       "      <th>mean</th>\n",
       "      <td>3.63551</td>\n",
       "      <td>34.730664</td>\n",
       "    </tr>\n",
       "    <tr>\n",
       "      <th>std</th>\n",
       "      <td>1.47134</td>\n",
       "      <td>9.206441</td>\n",
       "    </tr>\n",
       "    <tr>\n",
       "      <th>min</th>\n",
       "      <td>1.40000</td>\n",
       "      <td>17.700000</td>\n",
       "    </tr>\n",
       "    <tr>\n",
       "      <th>25%</th>\n",
       "      <td>2.50000</td>\n",
       "      <td>28.100000</td>\n",
       "    </tr>\n",
       "    <tr>\n",
       "      <th>50%</th>\n",
       "      <td>3.50000</td>\n",
       "      <td>34.434100</td>\n",
       "    </tr>\n",
       "    <tr>\n",
       "      <th>75%</th>\n",
       "      <td>4.70000</td>\n",
       "      <td>40.300000</td>\n",
       "    </tr>\n",
       "    <tr>\n",
       "      <th>max</th>\n",
       "      <td>6.80000</td>\n",
       "      <td>59.900000</td>\n",
       "    </tr>\n",
       "  </tbody>\n",
       "</table>\n",
       "</div>"
      ],
      "text/plain": [
       "        EngDispl          FE\n",
       "count  245.00000  245.000000\n",
       "mean     3.63551   34.730664\n",
       "std      1.47134    9.206441\n",
       "min      1.40000   17.700000\n",
       "25%      2.50000   28.100000\n",
       "50%      3.50000   34.434100\n",
       "75%      4.70000   40.300000\n",
       "max      6.80000   59.900000"
      ]
     },
     "execution_count": 78,
     "metadata": {},
     "output_type": "execute_result"
    }
   ],
   "source": [
    "car2011.describe()"
   ]
  },
  {
   "cell_type": "markdown",
   "metadata": {},
   "source": [
    "#### Check if Train & Test are from similar population"
   ]
  },
  {
   "cell_type": "code",
   "execution_count": 106,
   "metadata": {},
   "outputs": [],
   "source": [
    "A = pd.concat([car2010.assign(t=1), car2011.assign(t=0)])"
   ]
  },
  {
   "cell_type": "code",
   "execution_count": 107,
   "metadata": {},
   "outputs": [],
   "source": [
    "A = A.sample(len(A))"
   ]
  },
  {
   "cell_type": "code",
   "execution_count": 108,
   "metadata": {},
   "outputs": [
    {
     "data": {
      "text/html": [
       "<div>\n",
       "<style scoped>\n",
       "    .dataframe tbody tr th:only-of-type {\n",
       "        vertical-align: middle;\n",
       "    }\n",
       "\n",
       "    .dataframe tbody tr th {\n",
       "        vertical-align: top;\n",
       "    }\n",
       "\n",
       "    .dataframe thead th {\n",
       "        text-align: right;\n",
       "    }\n",
       "</style>\n",
       "<table border=\"1\" class=\"dataframe\">\n",
       "  <thead>\n",
       "    <tr style=\"text-align: right;\">\n",
       "      <th></th>\n",
       "      <th>EngDispl</th>\n",
       "      <th>FE</th>\n",
       "      <th>t</th>\n",
       "    </tr>\n",
       "  </thead>\n",
       "  <tbody>\n",
       "    <tr>\n",
       "      <th>2070</th>\n",
       "      <td>3.5</td>\n",
       "      <td>34.6000</td>\n",
       "      <td>1</td>\n",
       "    </tr>\n",
       "    <tr>\n",
       "      <th>334</th>\n",
       "      <td>3.0</td>\n",
       "      <td>35.8000</td>\n",
       "      <td>0</td>\n",
       "    </tr>\n",
       "    <tr>\n",
       "      <th>656</th>\n",
       "      <td>5.0</td>\n",
       "      <td>28.7160</td>\n",
       "      <td>0</td>\n",
       "    </tr>\n",
       "    <tr>\n",
       "      <th>1156</th>\n",
       "      <td>5.9</td>\n",
       "      <td>27.2408</td>\n",
       "      <td>1</td>\n",
       "    </tr>\n",
       "    <tr>\n",
       "      <th>1701</th>\n",
       "      <td>1.6</td>\n",
       "      <td>44.2000</td>\n",
       "      <td>1</td>\n",
       "    </tr>\n",
       "  </tbody>\n",
       "</table>\n",
       "</div>"
      ],
      "text/plain": [
       "      EngDispl       FE  t\n",
       "2070       3.5  34.6000  1\n",
       "334        3.0  35.8000  0\n",
       "656        5.0  28.7160  0\n",
       "1156       5.9  27.2408  1\n",
       "1701       1.6  44.2000  1"
      ]
     },
     "execution_count": 108,
     "metadata": {},
     "output_type": "execute_result"
    }
   ],
   "source": [
    "A.head()"
   ]
  },
  {
   "cell_type": "code",
   "execution_count": 109,
   "metadata": {},
   "outputs": [],
   "source": [
    "X, y = A.drop('t', axis=1).values, A['t'].values"
   ]
  },
  {
   "cell_type": "code",
   "execution_count": 110,
   "metadata": {},
   "outputs": [
    {
     "data": {
      "text/plain": [
       "array([0.52941176, 0.60294118, 0.58088235, 0.51470588, 0.47794118,\n",
       "       0.61481481, 0.58518519, 0.57462687, 0.57462687, 0.58955224])"
      ]
     },
     "execution_count": 110,
     "metadata": {},
     "output_type": "execute_result"
    }
   ],
   "source": [
    "acc = cross_val_score(LogisticRegression(class_weight='balanced'), X, y, cv=10, scoring='accuracy')\n",
    "acc"
   ]
  },
  {
   "cell_type": "code",
   "execution_count": 111,
   "metadata": {},
   "outputs": [
    {
     "data": {
      "text/plain": [
       "0.564468832309043"
      ]
     },
     "execution_count": 111,
     "metadata": {},
     "output_type": "execute_result"
    }
   ],
   "source": [
    "acc.mean()"
   ]
  },
  {
   "cell_type": "code",
   "execution_count": 112,
   "metadata": {},
   "outputs": [
    {
     "data": {
      "text/plain": [
       "Ttest_1sampResult(statistic=4.726894507605865, pvalue=0.0010785907277728012)"
      ]
     },
     "execution_count": 112,
     "metadata": {},
     "output_type": "execute_result"
    }
   ],
   "source": [
    "# H0: acc=0.5, Ha: acc!=0.5\n",
    "# if H0 is true, it means that there is no evidence that train & test are really different\n",
    "ttest_1samp(acc, 0.5)"
   ]
  },
  {
   "cell_type": "code",
   "execution_count": null,
   "metadata": {},
   "outputs": [],
   "source": []
  },
  {
   "cell_type": "code",
   "execution_count": null,
   "metadata": {},
   "outputs": [],
   "source": []
  }
 ],
 "metadata": {
  "kernelspec": {
   "display_name": "Python [conda env:deep_learning]",
   "language": "python",
   "name": "conda-env-deep_learning-py"
  },
  "language_info": {
   "codemirror_mode": {
    "name": "ipython",
    "version": 3
   },
   "file_extension": ".py",
   "mimetype": "text/x-python",
   "name": "python",
   "nbconvert_exporter": "python",
   "pygments_lexer": "ipython3",
   "version": "3.5.5"
  }
 },
 "nbformat": 4,
 "nbformat_minor": 2
}
