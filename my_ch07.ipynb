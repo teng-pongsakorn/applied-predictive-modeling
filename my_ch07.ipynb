{
 "cells": [
  {
   "cell_type": "code",
   "execution_count": 1,
   "metadata": {
    "collapsed": true
   },
   "outputs": [],
   "source": [
    "import numpy as np\n",
    "import pandas as pd\n",
    "import matplotlib.pyplot as plt\n",
    "import seaborn as sns\n",
    "%matplotlib inline"
   ]
  },
  {
   "cell_type": "code",
   "execution_count": 107,
   "metadata": {
    "collapsed": true
   },
   "outputs": [],
   "source": [
    "from sklearn.neural_network import MLPRegressor\n",
    "from sklearn.model_selection import KFold, GridSearchCV, RandomizedSearchCV\n",
    "from sklearn.preprocessing import StandardScaler\n",
    "from sklearn.pipeline import make_pipeline\n",
    "from sklearn.svm import SVR\n",
    "from sklearn.neighbors import KNeighborsRegressor\n",
    "\n",
    "from scipy.stats import expon"
   ]
  },
  {
   "cell_type": "code",
   "execution_count": 18,
   "metadata": {
    "collapsed": true
   },
   "outputs": [],
   "source": [
    "k10 = KFold(n_splits=10, random_state=123, shuffle=True)"
   ]
  },
  {
   "cell_type": "code",
   "execution_count": 11,
   "metadata": {
    "collapsed": true
   },
   "outputs": [],
   "source": [
    "#train = pd.read_csv('datasets/solubility/solTrainX.csv', index_col=0)\n",
    "train = pd.read_csv('datasets/solubility/solTrainXtrans.csv', index_col=0)\n",
    "test = pd.read_csv('datasets/solubility/solTestXtrans.csv', index_col=0)\n",
    "y_train = pd.read_csv('datasets/solubility/solTrainY.csv', index_col=0)\n",
    "y_test = pd.read_csv('datasets/solubility/solTrainY.csv', index_col=0)"
   ]
  },
  {
   "cell_type": "code",
   "execution_count": 12,
   "metadata": {
    "collapsed": false
   },
   "outputs": [
    {
     "data": {
      "text/plain": [
       "((951, 228), (316, 228), (951, 1), (951, 1))"
      ]
     },
     "execution_count": 12,
     "metadata": {},
     "output_type": "execute_result"
    }
   ],
   "source": [
    "train.shape, test.shape, y_train.shape, y_test.shape"
   ]
  },
  {
   "cell_type": "code",
   "execution_count": 13,
   "metadata": {
    "collapsed": false
   },
   "outputs": [
    {
     "data": {
      "text/html": [
       "<div>\n",
       "<style>\n",
       "    .dataframe thead tr:only-child th {\n",
       "        text-align: right;\n",
       "    }\n",
       "\n",
       "    .dataframe thead th {\n",
       "        text-align: left;\n",
       "    }\n",
       "\n",
       "    .dataframe tbody tr th {\n",
       "        vertical-align: top;\n",
       "    }\n",
       "</style>\n",
       "<table border=\"1\" class=\"dataframe\">\n",
       "  <thead>\n",
       "    <tr style=\"text-align: right;\">\n",
       "      <th></th>\n",
       "      <th>count</th>\n",
       "      <th>mean</th>\n",
       "      <th>std</th>\n",
       "      <th>min</th>\n",
       "      <th>25%</th>\n",
       "      <th>50%</th>\n",
       "      <th>75%</th>\n",
       "      <th>max</th>\n",
       "    </tr>\n",
       "  </thead>\n",
       "  <tbody>\n",
       "    <tr>\n",
       "      <th>FP001</th>\n",
       "      <td>951.0</td>\n",
       "      <td>0.493165</td>\n",
       "      <td>0.500216</td>\n",
       "      <td>0.000000</td>\n",
       "      <td>0.000000</td>\n",
       "      <td>0.000000</td>\n",
       "      <td>1.000000</td>\n",
       "      <td>1.000000</td>\n",
       "    </tr>\n",
       "    <tr>\n",
       "      <th>FP002</th>\n",
       "      <td>951.0</td>\n",
       "      <td>0.539432</td>\n",
       "      <td>0.498705</td>\n",
       "      <td>0.000000</td>\n",
       "      <td>0.000000</td>\n",
       "      <td>1.000000</td>\n",
       "      <td>1.000000</td>\n",
       "      <td>1.000000</td>\n",
       "    </tr>\n",
       "    <tr>\n",
       "      <th>FP003</th>\n",
       "      <td>951.0</td>\n",
       "      <td>0.436383</td>\n",
       "      <td>0.496197</td>\n",
       "      <td>0.000000</td>\n",
       "      <td>0.000000</td>\n",
       "      <td>0.000000</td>\n",
       "      <td>1.000000</td>\n",
       "      <td>1.000000</td>\n",
       "    </tr>\n",
       "    <tr>\n",
       "      <th>FP004</th>\n",
       "      <td>951.0</td>\n",
       "      <td>0.584648</td>\n",
       "      <td>0.493042</td>\n",
       "      <td>0.000000</td>\n",
       "      <td>0.000000</td>\n",
       "      <td>1.000000</td>\n",
       "      <td>1.000000</td>\n",
       "      <td>1.000000</td>\n",
       "    </tr>\n",
       "    <tr>\n",
       "      <th>FP005</th>\n",
       "      <td>951.0</td>\n",
       "      <td>0.579390</td>\n",
       "      <td>0.493917</td>\n",
       "      <td>0.000000</td>\n",
       "      <td>0.000000</td>\n",
       "      <td>1.000000</td>\n",
       "      <td>1.000000</td>\n",
       "      <td>1.000000</td>\n",
       "    </tr>\n",
       "    <tr>\n",
       "      <th>FP006</th>\n",
       "      <td>951.0</td>\n",
       "      <td>0.400631</td>\n",
       "      <td>0.490284</td>\n",
       "      <td>0.000000</td>\n",
       "      <td>0.000000</td>\n",
       "      <td>0.000000</td>\n",
       "      <td>1.000000</td>\n",
       "      <td>1.000000</td>\n",
       "    </tr>\n",
       "    <tr>\n",
       "      <th>FP007</th>\n",
       "      <td>951.0</td>\n",
       "      <td>0.363828</td>\n",
       "      <td>0.481353</td>\n",
       "      <td>0.000000</td>\n",
       "      <td>0.000000</td>\n",
       "      <td>0.000000</td>\n",
       "      <td>1.000000</td>\n",
       "      <td>1.000000</td>\n",
       "    </tr>\n",
       "    <tr>\n",
       "      <th>FP008</th>\n",
       "      <td>951.0</td>\n",
       "      <td>0.325973</td>\n",
       "      <td>0.468984</td>\n",
       "      <td>0.000000</td>\n",
       "      <td>0.000000</td>\n",
       "      <td>0.000000</td>\n",
       "      <td>1.000000</td>\n",
       "      <td>1.000000</td>\n",
       "    </tr>\n",
       "    <tr>\n",
       "      <th>FP009</th>\n",
       "      <td>951.0</td>\n",
       "      <td>0.279706</td>\n",
       "      <td>0.449091</td>\n",
       "      <td>0.000000</td>\n",
       "      <td>0.000000</td>\n",
       "      <td>0.000000</td>\n",
       "      <td>1.000000</td>\n",
       "      <td>1.000000</td>\n",
       "    </tr>\n",
       "    <tr>\n",
       "      <th>FP010</th>\n",
       "      <td>951.0</td>\n",
       "      <td>0.178759</td>\n",
       "      <td>0.383352</td>\n",
       "      <td>0.000000</td>\n",
       "      <td>0.000000</td>\n",
       "      <td>0.000000</td>\n",
       "      <td>0.000000</td>\n",
       "      <td>1.000000</td>\n",
       "    </tr>\n",
       "    <tr>\n",
       "      <th>FP011</th>\n",
       "      <td>951.0</td>\n",
       "      <td>0.214511</td>\n",
       "      <td>0.410699</td>\n",
       "      <td>0.000000</td>\n",
       "      <td>0.000000</td>\n",
       "      <td>0.000000</td>\n",
       "      <td>0.000000</td>\n",
       "      <td>1.000000</td>\n",
       "    </tr>\n",
       "    <tr>\n",
       "      <th>FP012</th>\n",
       "      <td>951.0</td>\n",
       "      <td>0.176656</td>\n",
       "      <td>0.381578</td>\n",
       "      <td>0.000000</td>\n",
       "      <td>0.000000</td>\n",
       "      <td>0.000000</td>\n",
       "      <td>0.000000</td>\n",
       "      <td>1.000000</td>\n",
       "    </tr>\n",
       "    <tr>\n",
       "      <th>FP013</th>\n",
       "      <td>951.0</td>\n",
       "      <td>0.166141</td>\n",
       "      <td>0.372403</td>\n",
       "      <td>0.000000</td>\n",
       "      <td>0.000000</td>\n",
       "      <td>0.000000</td>\n",
       "      <td>0.000000</td>\n",
       "      <td>1.000000</td>\n",
       "    </tr>\n",
       "    <tr>\n",
       "      <th>FP014</th>\n",
       "      <td>951.0</td>\n",
       "      <td>0.160883</td>\n",
       "      <td>0.367617</td>\n",
       "      <td>0.000000</td>\n",
       "      <td>0.000000</td>\n",
       "      <td>0.000000</td>\n",
       "      <td>0.000000</td>\n",
       "      <td>1.000000</td>\n",
       "    </tr>\n",
       "    <tr>\n",
       "      <th>FP015</th>\n",
       "      <td>951.0</td>\n",
       "      <td>0.860147</td>\n",
       "      <td>0.347017</td>\n",
       "      <td>0.000000</td>\n",
       "      <td>1.000000</td>\n",
       "      <td>1.000000</td>\n",
       "      <td>1.000000</td>\n",
       "      <td>1.000000</td>\n",
       "    </tr>\n",
       "    <tr>\n",
       "      <th>FP016</th>\n",
       "      <td>951.0</td>\n",
       "      <td>0.146162</td>\n",
       "      <td>0.353454</td>\n",
       "      <td>0.000000</td>\n",
       "      <td>0.000000</td>\n",
       "      <td>0.000000</td>\n",
       "      <td>0.000000</td>\n",
       "      <td>1.000000</td>\n",
       "    </tr>\n",
       "    <tr>\n",
       "      <th>FP017</th>\n",
       "      <td>951.0</td>\n",
       "      <td>0.144059</td>\n",
       "      <td>0.351334</td>\n",
       "      <td>0.000000</td>\n",
       "      <td>0.000000</td>\n",
       "      <td>0.000000</td>\n",
       "      <td>0.000000</td>\n",
       "      <td>1.000000</td>\n",
       "    </tr>\n",
       "    <tr>\n",
       "      <th>FP018</th>\n",
       "      <td>951.0</td>\n",
       "      <td>0.131441</td>\n",
       "      <td>0.338059</td>\n",
       "      <td>0.000000</td>\n",
       "      <td>0.000000</td>\n",
       "      <td>0.000000</td>\n",
       "      <td>0.000000</td>\n",
       "      <td>1.000000</td>\n",
       "    </tr>\n",
       "    <tr>\n",
       "      <th>FP019</th>\n",
       "      <td>951.0</td>\n",
       "      <td>0.121977</td>\n",
       "      <td>0.327431</td>\n",
       "      <td>0.000000</td>\n",
       "      <td>0.000000</td>\n",
       "      <td>0.000000</td>\n",
       "      <td>0.000000</td>\n",
       "      <td>1.000000</td>\n",
       "    </tr>\n",
       "    <tr>\n",
       "      <th>FP020</th>\n",
       "      <td>951.0</td>\n",
       "      <td>0.119874</td>\n",
       "      <td>0.324985</td>\n",
       "      <td>0.000000</td>\n",
       "      <td>0.000000</td>\n",
       "      <td>0.000000</td>\n",
       "      <td>0.000000</td>\n",
       "      <td>1.000000</td>\n",
       "    </tr>\n",
       "    <tr>\n",
       "      <th>FP021</th>\n",
       "      <td>951.0</td>\n",
       "      <td>0.120925</td>\n",
       "      <td>0.326212</td>\n",
       "      <td>0.000000</td>\n",
       "      <td>0.000000</td>\n",
       "      <td>0.000000</td>\n",
       "      <td>0.000000</td>\n",
       "      <td>1.000000</td>\n",
       "    </tr>\n",
       "    <tr>\n",
       "      <th>FP022</th>\n",
       "      <td>951.0</td>\n",
       "      <td>0.104101</td>\n",
       "      <td>0.305552</td>\n",
       "      <td>0.000000</td>\n",
       "      <td>0.000000</td>\n",
       "      <td>0.000000</td>\n",
       "      <td>0.000000</td>\n",
       "      <td>1.000000</td>\n",
       "    </tr>\n",
       "    <tr>\n",
       "      <th>FP023</th>\n",
       "      <td>951.0</td>\n",
       "      <td>0.123028</td>\n",
       "      <td>0.328643</td>\n",
       "      <td>0.000000</td>\n",
       "      <td>0.000000</td>\n",
       "      <td>0.000000</td>\n",
       "      <td>0.000000</td>\n",
       "      <td>1.000000</td>\n",
       "    </tr>\n",
       "    <tr>\n",
       "      <th>FP024</th>\n",
       "      <td>951.0</td>\n",
       "      <td>0.112513</td>\n",
       "      <td>0.316163</td>\n",
       "      <td>0.000000</td>\n",
       "      <td>0.000000</td>\n",
       "      <td>0.000000</td>\n",
       "      <td>0.000000</td>\n",
       "      <td>1.000000</td>\n",
       "    </tr>\n",
       "    <tr>\n",
       "      <th>FP025</th>\n",
       "      <td>951.0</td>\n",
       "      <td>0.115668</td>\n",
       "      <td>0.319994</td>\n",
       "      <td>0.000000</td>\n",
       "      <td>0.000000</td>\n",
       "      <td>0.000000</td>\n",
       "      <td>0.000000</td>\n",
       "      <td>1.000000</td>\n",
       "    </tr>\n",
       "    <tr>\n",
       "      <th>FP026</th>\n",
       "      <td>951.0</td>\n",
       "      <td>0.084122</td>\n",
       "      <td>0.277717</td>\n",
       "      <td>0.000000</td>\n",
       "      <td>0.000000</td>\n",
       "      <td>0.000000</td>\n",
       "      <td>0.000000</td>\n",
       "      <td>1.000000</td>\n",
       "    </tr>\n",
       "    <tr>\n",
       "      <th>FP027</th>\n",
       "      <td>951.0</td>\n",
       "      <td>0.097792</td>\n",
       "      <td>0.297189</td>\n",
       "      <td>0.000000</td>\n",
       "      <td>0.000000</td>\n",
       "      <td>0.000000</td>\n",
       "      <td>0.000000</td>\n",
       "      <td>1.000000</td>\n",
       "    </tr>\n",
       "    <tr>\n",
       "      <th>FP028</th>\n",
       "      <td>951.0</td>\n",
       "      <td>0.106204</td>\n",
       "      <td>0.308261</td>\n",
       "      <td>0.000000</td>\n",
       "      <td>0.000000</td>\n",
       "      <td>0.000000</td>\n",
       "      <td>0.000000</td>\n",
       "      <td>1.000000</td>\n",
       "    </tr>\n",
       "    <tr>\n",
       "      <th>FP029</th>\n",
       "      <td>951.0</td>\n",
       "      <td>0.101998</td>\n",
       "      <td>0.302805</td>\n",
       "      <td>0.000000</td>\n",
       "      <td>0.000000</td>\n",
       "      <td>0.000000</td>\n",
       "      <td>0.000000</td>\n",
       "      <td>1.000000</td>\n",
       "    </tr>\n",
       "    <tr>\n",
       "      <th>FP030</th>\n",
       "      <td>951.0</td>\n",
       "      <td>0.093586</td>\n",
       "      <td>0.291405</td>\n",
       "      <td>0.000000</td>\n",
       "      <td>0.000000</td>\n",
       "      <td>0.000000</td>\n",
       "      <td>0.000000</td>\n",
       "      <td>1.000000</td>\n",
       "    </tr>\n",
       "    <tr>\n",
       "      <th>...</th>\n",
       "      <td>...</td>\n",
       "      <td>...</td>\n",
       "      <td>...</td>\n",
       "      <td>...</td>\n",
       "      <td>...</td>\n",
       "      <td>...</td>\n",
       "      <td>...</td>\n",
       "      <td>...</td>\n",
       "    </tr>\n",
       "    <tr>\n",
       "      <th>FP199</th>\n",
       "      <td>951.0</td>\n",
       "      <td>0.047319</td>\n",
       "      <td>0.212431</td>\n",
       "      <td>0.000000</td>\n",
       "      <td>0.000000</td>\n",
       "      <td>0.000000</td>\n",
       "      <td>0.000000</td>\n",
       "      <td>1.000000</td>\n",
       "    </tr>\n",
       "    <tr>\n",
       "      <th>FP200</th>\n",
       "      <td>951.0</td>\n",
       "      <td>0.049422</td>\n",
       "      <td>0.216861</td>\n",
       "      <td>0.000000</td>\n",
       "      <td>0.000000</td>\n",
       "      <td>0.000000</td>\n",
       "      <td>0.000000</td>\n",
       "      <td>1.000000</td>\n",
       "    </tr>\n",
       "    <tr>\n",
       "      <th>FP201</th>\n",
       "      <td>951.0</td>\n",
       "      <td>0.052576</td>\n",
       "      <td>0.223303</td>\n",
       "      <td>0.000000</td>\n",
       "      <td>0.000000</td>\n",
       "      <td>0.000000</td>\n",
       "      <td>0.000000</td>\n",
       "      <td>1.000000</td>\n",
       "    </tr>\n",
       "    <tr>\n",
       "      <th>FP202</th>\n",
       "      <td>951.0</td>\n",
       "      <td>0.257624</td>\n",
       "      <td>0.437556</td>\n",
       "      <td>0.000000</td>\n",
       "      <td>0.000000</td>\n",
       "      <td>0.000000</td>\n",
       "      <td>1.000000</td>\n",
       "      <td>1.000000</td>\n",
       "    </tr>\n",
       "    <tr>\n",
       "      <th>FP203</th>\n",
       "      <td>951.0</td>\n",
       "      <td>0.114616</td>\n",
       "      <td>0.318726</td>\n",
       "      <td>0.000000</td>\n",
       "      <td>0.000000</td>\n",
       "      <td>0.000000</td>\n",
       "      <td>0.000000</td>\n",
       "      <td>1.000000</td>\n",
       "    </tr>\n",
       "    <tr>\n",
       "      <th>FP204</th>\n",
       "      <td>951.0</td>\n",
       "      <td>0.098843</td>\n",
       "      <td>0.298609</td>\n",
       "      <td>0.000000</td>\n",
       "      <td>0.000000</td>\n",
       "      <td>0.000000</td>\n",
       "      <td>0.000000</td>\n",
       "      <td>1.000000</td>\n",
       "    </tr>\n",
       "    <tr>\n",
       "      <th>FP205</th>\n",
       "      <td>951.0</td>\n",
       "      <td>0.077813</td>\n",
       "      <td>0.268018</td>\n",
       "      <td>0.000000</td>\n",
       "      <td>0.000000</td>\n",
       "      <td>0.000000</td>\n",
       "      <td>0.000000</td>\n",
       "      <td>1.000000</td>\n",
       "    </tr>\n",
       "    <tr>\n",
       "      <th>FP206</th>\n",
       "      <td>951.0</td>\n",
       "      <td>0.059937</td>\n",
       "      <td>0.237495</td>\n",
       "      <td>0.000000</td>\n",
       "      <td>0.000000</td>\n",
       "      <td>0.000000</td>\n",
       "      <td>0.000000</td>\n",
       "      <td>1.000000</td>\n",
       "    </tr>\n",
       "    <tr>\n",
       "      <th>FP207</th>\n",
       "      <td>951.0</td>\n",
       "      <td>0.056782</td>\n",
       "      <td>0.231548</td>\n",
       "      <td>0.000000</td>\n",
       "      <td>0.000000</td>\n",
       "      <td>0.000000</td>\n",
       "      <td>0.000000</td>\n",
       "      <td>1.000000</td>\n",
       "    </tr>\n",
       "    <tr>\n",
       "      <th>FP208</th>\n",
       "      <td>951.0</td>\n",
       "      <td>0.112513</td>\n",
       "      <td>0.316163</td>\n",
       "      <td>0.000000</td>\n",
       "      <td>0.000000</td>\n",
       "      <td>0.000000</td>\n",
       "      <td>0.000000</td>\n",
       "      <td>1.000000</td>\n",
       "    </tr>\n",
       "    <tr>\n",
       "      <th>MolWeight</th>\n",
       "      <td>951.0</td>\n",
       "      <td>5.199018</td>\n",
       "      <td>0.477558</td>\n",
       "      <td>3.852061</td>\n",
       "      <td>4.817086</td>\n",
       "      <td>5.194234</td>\n",
       "      <td>5.581012</td>\n",
       "      <td>6.502505</td>\n",
       "    </tr>\n",
       "    <tr>\n",
       "      <th>NumAtoms</th>\n",
       "      <td>951.0</td>\n",
       "      <td>3.173918</td>\n",
       "      <td>0.457018</td>\n",
       "      <td>1.791759</td>\n",
       "      <td>2.890372</td>\n",
       "      <td>3.135494</td>\n",
       "      <td>3.465736</td>\n",
       "      <td>4.553877</td>\n",
       "    </tr>\n",
       "    <tr>\n",
       "      <th>NumNonHAtoms</th>\n",
       "      <td>951.0</td>\n",
       "      <td>2.548706</td>\n",
       "      <td>0.455234</td>\n",
       "      <td>1.098612</td>\n",
       "      <td>2.197225</td>\n",
       "      <td>2.564949</td>\n",
       "      <td>2.890372</td>\n",
       "      <td>3.871201</td>\n",
       "    </tr>\n",
       "    <tr>\n",
       "      <th>NumBonds</th>\n",
       "      <td>951.0</td>\n",
       "      <td>3.176241</td>\n",
       "      <td>0.488239</td>\n",
       "      <td>1.609438</td>\n",
       "      <td>2.890372</td>\n",
       "      <td>3.178054</td>\n",
       "      <td>3.481122</td>\n",
       "      <td>4.584967</td>\n",
       "    </tr>\n",
       "    <tr>\n",
       "      <th>NumNonHBonds</th>\n",
       "      <td>951.0</td>\n",
       "      <td>3.362257</td>\n",
       "      <td>0.881072</td>\n",
       "      <td>0.743492</td>\n",
       "      <td>2.759228</td>\n",
       "      <td>3.351388</td>\n",
       "      <td>4.009916</td>\n",
       "      <td>5.977009</td>\n",
       "    </tr>\n",
       "    <tr>\n",
       "      <th>NumMultBonds</th>\n",
       "      <td>951.0</td>\n",
       "      <td>2.579057</td>\n",
       "      <td>1.729708</td>\n",
       "      <td>0.000000</td>\n",
       "      <td>0.798770</td>\n",
       "      <td>2.944766</td>\n",
       "      <td>4.023747</td>\n",
       "      <td>6.702998</td>\n",
       "    </tr>\n",
       "    <tr>\n",
       "      <th>NumRotBonds</th>\n",
       "      <td>951.0</td>\n",
       "      <td>0.925628</td>\n",
       "      <td>0.718728</td>\n",
       "      <td>0.000000</td>\n",
       "      <td>0.000000</td>\n",
       "      <td>1.098612</td>\n",
       "      <td>1.497866</td>\n",
       "      <td>2.833213</td>\n",
       "    </tr>\n",
       "    <tr>\n",
       "      <th>NumDblBonds</th>\n",
       "      <td>951.0</td>\n",
       "      <td>0.398110</td>\n",
       "      <td>0.382052</td>\n",
       "      <td>-0.000000</td>\n",
       "      <td>-0.000000</td>\n",
       "      <td>0.567077</td>\n",
       "      <td>0.804530</td>\n",
       "      <td>1.188042</td>\n",
       "    </tr>\n",
       "    <tr>\n",
       "      <th>NumAromaticBonds</th>\n",
       "      <td>951.0</td>\n",
       "      <td>1.287032</td>\n",
       "      <td>1.128680</td>\n",
       "      <td>0.000000</td>\n",
       "      <td>0.000000</td>\n",
       "      <td>1.945910</td>\n",
       "      <td>1.945910</td>\n",
       "      <td>3.258097</td>\n",
       "    </tr>\n",
       "    <tr>\n",
       "      <th>NumHydrogen</th>\n",
       "      <td>951.0</td>\n",
       "      <td>3.695596</td>\n",
       "      <td>1.182297</td>\n",
       "      <td>0.000000</td>\n",
       "      <td>2.886887</td>\n",
       "      <td>3.691453</td>\n",
       "      <td>4.465209</td>\n",
       "      <td>7.314252</td>\n",
       "    </tr>\n",
       "    <tr>\n",
       "      <th>NumCarbon</th>\n",
       "      <td>951.0</td>\n",
       "      <td>3.323978</td>\n",
       "      <td>0.986043</td>\n",
       "      <td>0.770481</td>\n",
       "      <td>2.642633</td>\n",
       "      <td>3.317541</td>\n",
       "      <td>3.862179</td>\n",
       "      <td>6.267798</td>\n",
       "    </tr>\n",
       "    <tr>\n",
       "      <th>NumNitrogen</th>\n",
       "      <td>951.0</td>\n",
       "      <td>0.230838</td>\n",
       "      <td>0.273948</td>\n",
       "      <td>-0.000000</td>\n",
       "      <td>-0.000000</td>\n",
       "      <td>-0.000000</td>\n",
       "      <td>0.456826</td>\n",
       "      <td>0.707935</td>\n",
       "    </tr>\n",
       "    <tr>\n",
       "      <th>NumOxygen</th>\n",
       "      <td>951.0</td>\n",
       "      <td>0.747016</td>\n",
       "      <td>0.627577</td>\n",
       "      <td>0.000000</td>\n",
       "      <td>0.000000</td>\n",
       "      <td>0.693147</td>\n",
       "      <td>1.098612</td>\n",
       "      <td>2.639057</td>\n",
       "    </tr>\n",
       "    <tr>\n",
       "      <th>NumSulfer</th>\n",
       "      <td>951.0</td>\n",
       "      <td>0.049753</td>\n",
       "      <td>0.130874</td>\n",
       "      <td>-0.000000</td>\n",
       "      <td>-0.000000</td>\n",
       "      <td>-0.000000</td>\n",
       "      <td>-0.000000</td>\n",
       "      <td>0.480000</td>\n",
       "    </tr>\n",
       "    <tr>\n",
       "      <th>NumChlorine</th>\n",
       "      <td>951.0</td>\n",
       "      <td>0.090982</td>\n",
       "      <td>0.177213</td>\n",
       "      <td>-0.000000</td>\n",
       "      <td>-0.000000</td>\n",
       "      <td>-0.000000</td>\n",
       "      <td>-0.000000</td>\n",
       "      <td>0.495868</td>\n",
       "    </tr>\n",
       "    <tr>\n",
       "      <th>NumHalogen</th>\n",
       "      <td>951.0</td>\n",
       "      <td>0.120103</td>\n",
       "      <td>0.194420</td>\n",
       "      <td>-0.000000</td>\n",
       "      <td>-0.000000</td>\n",
       "      <td>-0.000000</td>\n",
       "      <td>0.375000</td>\n",
       "      <td>0.495868</td>\n",
       "    </tr>\n",
       "    <tr>\n",
       "      <th>NumRings</th>\n",
       "      <td>951.0</td>\n",
       "      <td>0.734091</td>\n",
       "      <td>0.538622</td>\n",
       "      <td>0.000000</td>\n",
       "      <td>0.000000</td>\n",
       "      <td>0.693147</td>\n",
       "      <td>1.098612</td>\n",
       "      <td>2.079442</td>\n",
       "    </tr>\n",
       "    <tr>\n",
       "      <th>HydrophilicFactor</th>\n",
       "      <td>951.0</td>\n",
       "      <td>-0.452796</td>\n",
       "      <td>1.041293</td>\n",
       "      <td>-2.841320</td>\n",
       "      <td>-1.250963</td>\n",
       "      <td>-0.363024</td>\n",
       "      <td>0.279867</td>\n",
       "      <td>3.533785</td>\n",
       "    </tr>\n",
       "    <tr>\n",
       "      <th>SurfaceArea1</th>\n",
       "      <td>951.0</td>\n",
       "      <td>6.707718</td>\n",
       "      <td>4.508620</td>\n",
       "      <td>0.000000</td>\n",
       "      <td>3.837096</td>\n",
       "      <td>7.258130</td>\n",
       "      <td>9.853650</td>\n",
       "      <td>23.020337</td>\n",
       "    </tr>\n",
       "    <tr>\n",
       "      <th>SurfaceArea2</th>\n",
       "      <td>951.0</td>\n",
       "      <td>7.081455</td>\n",
       "      <td>4.672059</td>\n",
       "      <td>0.000000</td>\n",
       "      <td>4.159049</td>\n",
       "      <td>7.759912</td>\n",
       "      <td>10.499942</td>\n",
       "      <td>23.020337</td>\n",
       "    </tr>\n",
       "  </tbody>\n",
       "</table>\n",
       "<p>228 rows × 8 columns</p>\n",
       "</div>"
      ],
      "text/plain": [
       "                   count      mean       std       min       25%       50%  \\\n",
       "FP001              951.0  0.493165  0.500216  0.000000  0.000000  0.000000   \n",
       "FP002              951.0  0.539432  0.498705  0.000000  0.000000  1.000000   \n",
       "FP003              951.0  0.436383  0.496197  0.000000  0.000000  0.000000   \n",
       "FP004              951.0  0.584648  0.493042  0.000000  0.000000  1.000000   \n",
       "FP005              951.0  0.579390  0.493917  0.000000  0.000000  1.000000   \n",
       "FP006              951.0  0.400631  0.490284  0.000000  0.000000  0.000000   \n",
       "FP007              951.0  0.363828  0.481353  0.000000  0.000000  0.000000   \n",
       "FP008              951.0  0.325973  0.468984  0.000000  0.000000  0.000000   \n",
       "FP009              951.0  0.279706  0.449091  0.000000  0.000000  0.000000   \n",
       "FP010              951.0  0.178759  0.383352  0.000000  0.000000  0.000000   \n",
       "FP011              951.0  0.214511  0.410699  0.000000  0.000000  0.000000   \n",
       "FP012              951.0  0.176656  0.381578  0.000000  0.000000  0.000000   \n",
       "FP013              951.0  0.166141  0.372403  0.000000  0.000000  0.000000   \n",
       "FP014              951.0  0.160883  0.367617  0.000000  0.000000  0.000000   \n",
       "FP015              951.0  0.860147  0.347017  0.000000  1.000000  1.000000   \n",
       "FP016              951.0  0.146162  0.353454  0.000000  0.000000  0.000000   \n",
       "FP017              951.0  0.144059  0.351334  0.000000  0.000000  0.000000   \n",
       "FP018              951.0  0.131441  0.338059  0.000000  0.000000  0.000000   \n",
       "FP019              951.0  0.121977  0.327431  0.000000  0.000000  0.000000   \n",
       "FP020              951.0  0.119874  0.324985  0.000000  0.000000  0.000000   \n",
       "FP021              951.0  0.120925  0.326212  0.000000  0.000000  0.000000   \n",
       "FP022              951.0  0.104101  0.305552  0.000000  0.000000  0.000000   \n",
       "FP023              951.0  0.123028  0.328643  0.000000  0.000000  0.000000   \n",
       "FP024              951.0  0.112513  0.316163  0.000000  0.000000  0.000000   \n",
       "FP025              951.0  0.115668  0.319994  0.000000  0.000000  0.000000   \n",
       "FP026              951.0  0.084122  0.277717  0.000000  0.000000  0.000000   \n",
       "FP027              951.0  0.097792  0.297189  0.000000  0.000000  0.000000   \n",
       "FP028              951.0  0.106204  0.308261  0.000000  0.000000  0.000000   \n",
       "FP029              951.0  0.101998  0.302805  0.000000  0.000000  0.000000   \n",
       "FP030              951.0  0.093586  0.291405  0.000000  0.000000  0.000000   \n",
       "...                  ...       ...       ...       ...       ...       ...   \n",
       "FP199              951.0  0.047319  0.212431  0.000000  0.000000  0.000000   \n",
       "FP200              951.0  0.049422  0.216861  0.000000  0.000000  0.000000   \n",
       "FP201              951.0  0.052576  0.223303  0.000000  0.000000  0.000000   \n",
       "FP202              951.0  0.257624  0.437556  0.000000  0.000000  0.000000   \n",
       "FP203              951.0  0.114616  0.318726  0.000000  0.000000  0.000000   \n",
       "FP204              951.0  0.098843  0.298609  0.000000  0.000000  0.000000   \n",
       "FP205              951.0  0.077813  0.268018  0.000000  0.000000  0.000000   \n",
       "FP206              951.0  0.059937  0.237495  0.000000  0.000000  0.000000   \n",
       "FP207              951.0  0.056782  0.231548  0.000000  0.000000  0.000000   \n",
       "FP208              951.0  0.112513  0.316163  0.000000  0.000000  0.000000   \n",
       "MolWeight          951.0  5.199018  0.477558  3.852061  4.817086  5.194234   \n",
       "NumAtoms           951.0  3.173918  0.457018  1.791759  2.890372  3.135494   \n",
       "NumNonHAtoms       951.0  2.548706  0.455234  1.098612  2.197225  2.564949   \n",
       "NumBonds           951.0  3.176241  0.488239  1.609438  2.890372  3.178054   \n",
       "NumNonHBonds       951.0  3.362257  0.881072  0.743492  2.759228  3.351388   \n",
       "NumMultBonds       951.0  2.579057  1.729708  0.000000  0.798770  2.944766   \n",
       "NumRotBonds        951.0  0.925628  0.718728  0.000000  0.000000  1.098612   \n",
       "NumDblBonds        951.0  0.398110  0.382052 -0.000000 -0.000000  0.567077   \n",
       "NumAromaticBonds   951.0  1.287032  1.128680  0.000000  0.000000  1.945910   \n",
       "NumHydrogen        951.0  3.695596  1.182297  0.000000  2.886887  3.691453   \n",
       "NumCarbon          951.0  3.323978  0.986043  0.770481  2.642633  3.317541   \n",
       "NumNitrogen        951.0  0.230838  0.273948 -0.000000 -0.000000 -0.000000   \n",
       "NumOxygen          951.0  0.747016  0.627577  0.000000  0.000000  0.693147   \n",
       "NumSulfer          951.0  0.049753  0.130874 -0.000000 -0.000000 -0.000000   \n",
       "NumChlorine        951.0  0.090982  0.177213 -0.000000 -0.000000 -0.000000   \n",
       "NumHalogen         951.0  0.120103  0.194420 -0.000000 -0.000000 -0.000000   \n",
       "NumRings           951.0  0.734091  0.538622  0.000000  0.000000  0.693147   \n",
       "HydrophilicFactor  951.0 -0.452796  1.041293 -2.841320 -1.250963 -0.363024   \n",
       "SurfaceArea1       951.0  6.707718  4.508620  0.000000  3.837096  7.258130   \n",
       "SurfaceArea2       951.0  7.081455  4.672059  0.000000  4.159049  7.759912   \n",
       "\n",
       "                         75%        max  \n",
       "FP001               1.000000   1.000000  \n",
       "FP002               1.000000   1.000000  \n",
       "FP003               1.000000   1.000000  \n",
       "FP004               1.000000   1.000000  \n",
       "FP005               1.000000   1.000000  \n",
       "FP006               1.000000   1.000000  \n",
       "FP007               1.000000   1.000000  \n",
       "FP008               1.000000   1.000000  \n",
       "FP009               1.000000   1.000000  \n",
       "FP010               0.000000   1.000000  \n",
       "FP011               0.000000   1.000000  \n",
       "FP012               0.000000   1.000000  \n",
       "FP013               0.000000   1.000000  \n",
       "FP014               0.000000   1.000000  \n",
       "FP015               1.000000   1.000000  \n",
       "FP016               0.000000   1.000000  \n",
       "FP017               0.000000   1.000000  \n",
       "FP018               0.000000   1.000000  \n",
       "FP019               0.000000   1.000000  \n",
       "FP020               0.000000   1.000000  \n",
       "FP021               0.000000   1.000000  \n",
       "FP022               0.000000   1.000000  \n",
       "FP023               0.000000   1.000000  \n",
       "FP024               0.000000   1.000000  \n",
       "FP025               0.000000   1.000000  \n",
       "FP026               0.000000   1.000000  \n",
       "FP027               0.000000   1.000000  \n",
       "FP028               0.000000   1.000000  \n",
       "FP029               0.000000   1.000000  \n",
       "FP030               0.000000   1.000000  \n",
       "...                      ...        ...  \n",
       "FP199               0.000000   1.000000  \n",
       "FP200               0.000000   1.000000  \n",
       "FP201               0.000000   1.000000  \n",
       "FP202               1.000000   1.000000  \n",
       "FP203               0.000000   1.000000  \n",
       "FP204               0.000000   1.000000  \n",
       "FP205               0.000000   1.000000  \n",
       "FP206               0.000000   1.000000  \n",
       "FP207               0.000000   1.000000  \n",
       "FP208               0.000000   1.000000  \n",
       "MolWeight           5.581012   6.502505  \n",
       "NumAtoms            3.465736   4.553877  \n",
       "NumNonHAtoms        2.890372   3.871201  \n",
       "NumBonds            3.481122   4.584967  \n",
       "NumNonHBonds        4.009916   5.977009  \n",
       "NumMultBonds        4.023747   6.702998  \n",
       "NumRotBonds         1.497866   2.833213  \n",
       "NumDblBonds         0.804530   1.188042  \n",
       "NumAromaticBonds    1.945910   3.258097  \n",
       "NumHydrogen         4.465209   7.314252  \n",
       "NumCarbon           3.862179   6.267798  \n",
       "NumNitrogen         0.456826   0.707935  \n",
       "NumOxygen           1.098612   2.639057  \n",
       "NumSulfer          -0.000000   0.480000  \n",
       "NumChlorine        -0.000000   0.495868  \n",
       "NumHalogen          0.375000   0.495868  \n",
       "NumRings            1.098612   2.079442  \n",
       "HydrophilicFactor   0.279867   3.533785  \n",
       "SurfaceArea1        9.853650  23.020337  \n",
       "SurfaceArea2       10.499942  23.020337  \n",
       "\n",
       "[228 rows x 8 columns]"
      ]
     },
     "execution_count": 13,
     "metadata": {},
     "output_type": "execute_result"
    }
   ],
   "source": [
    "train.describe().T"
   ]
  },
  {
   "cell_type": "code",
   "execution_count": 6,
   "metadata": {
    "collapsed": true
   },
   "outputs": [],
   "source": [
    "fp_cols = train.columns[train.columns.str.startswith('FP')]\n",
    "num_cols = train.columns ^ fp_cols"
   ]
  },
  {
   "cell_type": "code",
   "execution_count": 9,
   "metadata": {
    "collapsed": false
   },
   "outputs": [
    {
     "data": {
      "image/png": "[encoded data removed]",
      "text/plain": [
       "<matplotlib.figure.Figure at 0x7f939b4a39e8>"
      ]
     },
     "metadata": {},
     "output_type": "display_data"
    }
   ],
   "source": [
    "_ = train[num_cols].hist()"
   ]
  },
  {
   "cell_type": "code",
   "execution_count": 16,
   "metadata": {
    "collapsed": false
   },
   "outputs": [
    {
     "data": {
      "text/plain": [
       "array([[<matplotlib.axes._subplots.AxesSubplot object at 0x7f9393317e80>]], dtype=object)"
      ]
     },
     "execution_count": 16,
     "metadata": {},
     "output_type": "execute_result"
    },
    {
     "data": {
      "image/png": "[encoded data removed]",
      "text/plain": [
       "<matplotlib.figure.Figure at 0x7f93933170b8>"
      ]
     },
     "metadata": {},
     "output_type": "display_data"
    }
   ],
   "source": [
    "y_train.hist()"
   ]
  },
  {
   "cell_type": "markdown",
   "metadata": {},
   "source": [
    "### Neural Network"
   ]
  },
  {
   "cell_type": "code",
   "execution_count": 52,
   "metadata": {
    "collapsed": true
   },
   "outputs": [],
   "source": [
    "neural_pipe = make_pipeline(StandardScaler(), MLPRegressor(max_iter=1000, solver='sgd'))\n",
    "params = {'mlpregressor__hidden_layer_sizes': [(i,) for i in range(1, 13)],\n",
    "          'mlpregressor__alpha': [0, .01, .1]}\n",
    "\n",
    "neural_grid = GridSearchCV(neural_pipe, params, cv=k10, scoring='neg_mean_squared_error', \n",
    "                           n_jobs=-1, verbose=1, return_train_score=True)"
   ]
  },
  {
   "cell_type": "code",
   "execution_count": 53,
   "metadata": {
    "collapsed": false
   },
   "outputs": [
    {
     "name": "stdout",
     "output_type": "stream",
     "text": [
      "Fitting 10 folds for each of 36 candidates, totalling 360 fits\n"
     ]
    },
    {
     "name": "stderr",
     "output_type": "stream",
     "text": [
      "[Parallel(n_jobs=-1)]: Done  42 tasks      | elapsed:   40.2s\n",
      "[Parallel(n_jobs=-1)]: Done 192 tasks      | elapsed:  3.2min\n",
      "[Parallel(n_jobs=-1)]: Done 360 out of 360 | elapsed:  6.1min finished\n"
     ]
    },
    {
     "data": {
      "text/plain": [
       "GridSearchCV(cv=KFold(n_splits=10, random_state=123, shuffle=True),\n",
       "       error_score='raise',\n",
       "       estimator=Pipeline(memory=None,\n",
       "     steps=[('standardscaler', StandardScaler(copy=True, with_mean=True, with_std=True)), ('mlpregressor', MLPRegressor(activation='relu', alpha=0.0001, batch_size='auto', beta_1=0.9,\n",
       "       beta_2=0.999, early_stopping=False, epsilon=1e-08,\n",
       "       hidden_layer_sizes=(100,), learning_rate='constant',\n",
       "   ...e=True, solver='sgd', tol=0.0001, validation_fraction=0.1,\n",
       "       verbose=False, warm_start=False))]),\n",
       "       fit_params=None, iid=True, n_jobs=-1,\n",
       "       param_grid={'mlpregressor__alpha': [0, 0.01, 0.1], 'mlpregressor__hidden_layer_sizes': [(1,), (2,), (3,), (4,), (5,), (6,), (7,), (8,), (9,), (10,), (11,), (12,)]},\n",
       "       pre_dispatch='2*n_jobs', refit=True, return_train_score=True,\n",
       "       scoring='neg_mean_squared_error', verbose=1)"
      ]
     },
     "execution_count": 53,
     "metadata": {},
     "output_type": "execute_result"
    }
   ],
   "source": [
    "neural_grid.fit(train, y_train.values.ravel())"
   ]
  },
  {
   "cell_type": "code",
   "execution_count": 54,
   "metadata": {
    "collapsed": false
   },
   "outputs": [
    {
     "data": {
      "text/plain": [
       "({'mlpregressor__alpha': 0, 'mlpregressor__hidden_layer_sizes': (5,)},\n",
       " -0.4880519391879104)"
      ]
     },
     "execution_count": 54,
     "metadata": {},
     "output_type": "execute_result"
    }
   ],
   "source": [
    "neural_grid.best_params_, neural_grid.best_score_"
   ]
  },
  {
   "cell_type": "code",
   "execution_count": 55,
   "metadata": {
    "collapsed": false
   },
   "outputs": [
    {
     "data": {
      "text/plain": [
       "Text(0,0.5,'RMSE')"
      ]
     },
     "execution_count": 55,
     "metadata": {},
     "output_type": "execute_result"
    },
    {
     "data": {
      "image/png": "[encoded data removed]",
      "text/plain": [
       "<matplotlib.figure.Figure at 0x7f9393133f60>"
      ]
     },
     "metadata": {},
     "output_type": "display_data"
    }
   ],
   "source": [
    "alphas = np.array(neural_grid.cv_results_['param_mlpregressor__alpha'], dtype=float)\n",
    "hiddens = np.array([a[0] for a in neural_grid.cv_results_['param_mlpregressor__hidden_layer_sizes']])\n",
    "\n",
    "rmse = np.sqrt(-neural_grid.cv_results_['mean_test_score'])\n",
    "\n",
    "r0 = rmse[alphas==0]\n",
    "r01 = rmse[alphas==0.1]\n",
    "r001 = rmse[alphas==0.01]\n",
    "\n",
    "\n",
    "xs = hiddens[:12]\n",
    "plt.figure(figsize=(12, 6))\n",
    "plt.plot(xs, r0, label='0')\n",
    "plt.plot(xs, r01, label='0.1')\n",
    "plt.plot(xs, r001, label='0.01')\n",
    "plt.legend(title='alpha')\n",
    "plt.xlabel('hidden units')\n",
    "plt.ylabel('RMSE')\n"
   ]
  },
  {
   "cell_type": "markdown",
   "metadata": {},
   "source": [
    "### Support Vector Machines"
   ]
  },
  {
   "cell_type": "code",
   "execution_count": 59,
   "metadata": {
    "collapsed": false
   },
   "outputs": [
    {
     "data": {
      "image/png": "[encoded data removed]",
      "text/plain": [
       "<matplotlib.figure.Figure at 0x7f937b882390>"
      ]
     },
     "metadata": {},
     "output_type": "display_data"
    }
   ],
   "source": [
    "a = expon(0, .3)\n",
    "_ = plt.hist(a.rvs(1000))"
   ]
  },
  {
   "cell_type": "code",
   "execution_count": 61,
   "metadata": {
    "collapsed": false
   },
   "outputs": [],
   "source": [
    "svr_pipe = make_pipeline(StandardScaler(), SVR(kernel='rbf'))\n",
    "svr_grid = GridSearchCV(svr_pipe, {\"svr__C\": 2**np.arange(-2, 11, dtype=float)}, \n",
    "                        cv=k10, scoring='neg_mean_squared_error', verbose=1, n_jobs=-1)"
   ]
  },
  {
   "cell_type": "code",
   "execution_count": 62,
   "metadata": {
    "collapsed": false
   },
   "outputs": [
    {
     "name": "stdout",
     "output_type": "stream",
     "text": [
      "Fitting 10 folds for each of 13 candidates, totalling 130 fits\n"
     ]
    },
    {
     "name": "stderr",
     "output_type": "stream",
     "text": [
      "[Parallel(n_jobs=-1)]: Done  42 tasks      | elapsed:   10.3s\n",
      "[Parallel(n_jobs=-1)]: Done 130 out of 130 | elapsed:   33.5s finished\n"
     ]
    },
    {
     "data": {
      "text/plain": [
       "GridSearchCV(cv=KFold(n_splits=10, random_state=123, shuffle=True),\n",
       "       error_score='raise',\n",
       "       estimator=Pipeline(memory=None,\n",
       "     steps=[('standardscaler', StandardScaler(copy=True, with_mean=True, with_std=True)), ('svr', SVR(C=1.0, cache_size=200, coef0=0.0, degree=3, epsilon=0.1, gamma='auto',\n",
       "  kernel='rbf', max_iter=-1, shrinking=True, tol=0.001, verbose=False))]),\n",
       "       fit_params=None, iid=True, n_jobs=-1,\n",
       "       param_grid={'svr__C': array([  2.50000e-01,   5.00000e-01,   1.00000e+00,   2.00000e+00,\n",
       "         4.00000e+00,   8.00000e+00,   1.60000e+01,   3.20000e+01,\n",
       "         6.40000e+01,   1.28000e+02,   2.56000e+02,   5.12000e+02,\n",
       "         1.02400e+03])},\n",
       "       pre_dispatch='2*n_jobs', refit=True, return_train_score='warn',\n",
       "       scoring='neg_mean_squared_error', verbose=1)"
      ]
     },
     "execution_count": 62,
     "metadata": {},
     "output_type": "execute_result"
    }
   ],
   "source": [
    "svr_grid.fit(train, y_train.values.ravel())"
   ]
  },
  {
   "cell_type": "code",
   "execution_count": 64,
   "metadata": {
    "collapsed": false
   },
   "outputs": [
    {
     "data": {
      "text/plain": [
       "({'svr__C': 256.0}, 0.63081284903283052)"
      ]
     },
     "execution_count": 64,
     "metadata": {},
     "output_type": "execute_result"
    }
   ],
   "source": [
    "svr_grid.best_params_, np.sqrt(-svr_grid.best_score_)"
   ]
  },
  {
   "cell_type": "code",
   "execution_count": 116,
   "metadata": {
    "collapsed": true
   },
   "outputs": [],
   "source": [
    "svr_best = svr_grid.best_estimator_.steps[-1][-1]"
   ]
  },
  {
   "cell_type": "code",
   "execution_count": 121,
   "metadata": {
    "collapsed": false
   },
   "outputs": [
    {
     "data": {
      "text/plain": [
       "774"
      ]
     },
     "execution_count": 121,
     "metadata": {},
     "output_type": "execute_result"
    }
   ],
   "source": [
    "svr_best.support_vectors_.shape[0]"
   ]
  },
  {
   "cell_type": "code",
   "execution_count": 71,
   "metadata": {
    "collapsed": false
   },
   "outputs": [
    {
     "data": {
      "text/plain": [
       "(0.6, 1)"
      ]
     },
     "execution_count": 71,
     "metadata": {},
     "output_type": "execute_result"
    },
    {
     "data": {
      "image/png": "[encoded data removed]",
      "text/plain": [
       "<matplotlib.figure.Figure at 0x7f937b418668>"
      ]
     },
     "metadata": {},
     "output_type": "display_data"
    }
   ],
   "source": [
    "C = np.array(svr_grid.cv_results_['param_svr__C'])\n",
    "scores = np.sqrt(-svr_grid.cv_results_['mean_test_score'])\n",
    "\n",
    "plt.plot(C, scores, 'o-')\n",
    "plt.semilogx(2)\n",
    "plt.xlabel('C')\n",
    "plt.ylim(0.6, 1)"
   ]
  },
  {
   "cell_type": "code",
   "execution_count": 83,
   "metadata": {
    "collapsed": false
   },
   "outputs": [],
   "source": [
    "poly_param = {'svr__degree': [1, 2], 'svr__C': 2**np.arange(-2, 6, dtype=float), 'svr__gamma': [.001, .005, .01]}\n",
    "svr_poly = GridSearchCV(make_pipeline(StandardScaler(), SVR(kernel='poly')), poly_param, \n",
    "                        cv=k10, n_jobs=-1, verbose=1, scoring='neg_mean_squared_error')"
   ]
  },
  {
   "cell_type": "code",
   "execution_count": 84,
   "metadata": {
    "collapsed": false
   },
   "outputs": [
    {
     "name": "stdout",
     "output_type": "stream",
     "text": [
      "Fitting 10 folds for each of 48 candidates, totalling 480 fits\n"
     ]
    },
    {
     "name": "stderr",
     "output_type": "stream",
     "text": [
      "[Parallel(n_jobs=-1)]: Done  42 tasks      | elapsed:    8.9s\n",
      "[Parallel(n_jobs=-1)]: Done 192 tasks      | elapsed:   40.3s\n",
      "[Parallel(n_jobs=-1)]: Done 442 tasks      | elapsed:  1.9min\n",
      "[Parallel(n_jobs=-1)]: Done 480 out of 480 | elapsed:  2.2min finished\n"
     ]
    },
    {
     "data": {
      "text/plain": [
       "GridSearchCV(cv=KFold(n_splits=10, random_state=123, shuffle=True),\n",
       "       error_score='raise',\n",
       "       estimator=Pipeline(memory=None,\n",
       "     steps=[('standardscaler', StandardScaler(copy=True, with_mean=True, with_std=True)), ('svr', SVR(C=1.0, cache_size=200, coef0=0.0, degree=3, epsilon=0.1, gamma='auto',\n",
       "  kernel='poly', max_iter=-1, shrinking=True, tol=0.001, verbose=False))]),\n",
       "       fit_params=None, iid=True, n_jobs=-1,\n",
       "       param_grid={'svr__C': array([  0.25,   0.5 ,   1.  ,   2.  ,   4.  ,   8.  ,  16.  ,  32.  ]), 'svr__gamma': [0.001, 0.005, 0.01], 'svr__degree': [1, 2]},\n",
       "       pre_dispatch='2*n_jobs', refit=True, return_train_score='warn',\n",
       "       scoring='neg_mean_squared_error', verbose=1)"
      ]
     },
     "execution_count": 84,
     "metadata": {},
     "output_type": "execute_result"
    }
   ],
   "source": [
    "svr_poly.fit(train, y_train.values.ravel())"
   ]
  },
  {
   "cell_type": "code",
   "execution_count": 85,
   "metadata": {
    "collapsed": false
   },
   "outputs": [
    {
     "data": {
      "text/plain": [
       "({'svr__C': 16.0, 'svr__degree': 1, 'svr__gamma': 0.001}, 0.69373959239498451)"
      ]
     },
     "execution_count": 85,
     "metadata": {},
     "output_type": "execute_result"
    }
   ],
   "source": [
    "svr_poly.best_params_, np.sqrt(-svr_poly.best_score_)"
   ]
  },
  {
   "cell_type": "code",
   "execution_count": 87,
   "metadata": {
    "collapsed": false
   },
   "outputs": [],
   "source": [
    "gamma = np.array(svr_poly.cv_results_['param_svr__gamma'], dtype=float)\n",
    "gamma001 = gamma==0.001\n",
    "gamma005 = gamma==0.005\n",
    "gamma01 = gamma==0.01"
   ]
  },
  {
   "cell_type": "code",
   "execution_count": 89,
   "metadata": {
    "collapsed": false
   },
   "outputs": [
    {
     "data": {
      "text/plain": [
       "array([  0.25,   0.25,   0.25,   0.25,   0.25,   0.25,   0.5 ,   0.5 ,\n",
       "         0.5 ,   0.5 ,   0.5 ,   0.5 ,   1.  ,   1.  ,   1.  ,   1.  ,\n",
       "         1.  ,   1.  ,   2.  ,   2.  ,   2.  ,   2.  ,   2.  ,   2.  ,\n",
       "         4.  ,   4.  ,   4.  ,   4.  ,   4.  ,   4.  ,   8.  ,   8.  ,\n",
       "         8.  ,   8.  ,   8.  ,   8.  ,  16.  ,  16.  ,  16.  ,  16.  ,\n",
       "        16.  ,  16.  ,  32.  ,  32.  ,  32.  ,  32.  ,  32.  ,  32.  ])"
      ]
     },
     "execution_count": 89,
     "metadata": {},
     "output_type": "execute_result"
    }
   ],
   "source": [
    "C = np.array(svr_poly.cv_results_['param_svr__C'], dtype=float)\n",
    "C"
   ]
  },
  {
   "cell_type": "code",
   "execution_count": 90,
   "metadata": {
    "collapsed": true
   },
   "outputs": [],
   "source": [
    "deg = np.array(svr_poly.cv_results_['param_svr__degree'], dtype=int)\n",
    "deg1 = deg==1\n",
    "deg2 = deg==2"
   ]
  },
  {
   "cell_type": "code",
   "execution_count": 93,
   "metadata": {
    "collapsed": true
   },
   "outputs": [],
   "source": [
    "scores = np.sqrt(-svr_poly.cv_results_['mean_test_score'])"
   ]
  },
  {
   "cell_type": "code",
   "execution_count": 104,
   "metadata": {
    "collapsed": false
   },
   "outputs": [
    {
     "data": {
      "text/plain": [
       "(0.6, 2)"
      ]
     },
     "execution_count": 104,
     "metadata": {},
     "output_type": "execute_result"
    },
    {
     "data": {
      "image/png": "[encoded data removed]",
      "text/plain": [
       "<matplotlib.figure.Figure at 0x7f937b3ec390>"
      ]
     },
     "metadata": {},
     "output_type": "display_data"
    }
   ],
   "source": [
    "plt.plot(C[gamma001&deg1], scores[gamma001 & deg1], 'o-', label='1')\n",
    "plt.plot(C[gamma001&deg2], scores[gamma001 & deg2], 'x-', label='2')\n",
    "\n",
    "plt.legend(title='Degree')\n",
    "plt.title('gamma: 0.001')\n",
    "plt.semilogx(2)\n",
    "plt.ylim(0.6, 2)"
   ]
  },
  {
   "cell_type": "code",
   "execution_count": 105,
   "metadata": {
    "collapsed": false
   },
   "outputs": [
    {
     "data": {
      "text/plain": [
       "(0.6, 2)"
      ]
     },
     "execution_count": 105,
     "metadata": {},
     "output_type": "execute_result"
    },
    {
     "data": {
      "image/png": "[encoded data removed]",
      "text/plain": [
       "<matplotlib.figure.Figure at 0x7f937b433630>"
      ]
     },
     "metadata": {},
     "output_type": "display_data"
    }
   ],
   "source": [
    "plt.plot(C[gamma005&deg1], scores[gamma005 & deg1], 'o-', label='1')\n",
    "plt.plot(C[gamma005&deg2], scores[gamma005 & deg2], 'x-', label='2')\n",
    "\n",
    "plt.legend(title='Degree')\n",
    "plt.title('gamma: 0.005')\n",
    "plt.semilogx(2)\n",
    "plt.ylim(0.6, 2)"
   ]
  },
  {
   "cell_type": "code",
   "execution_count": 106,
   "metadata": {
    "collapsed": false
   },
   "outputs": [
    {
     "data": {
      "text/plain": [
       "(0.6, 2)"
      ]
     },
     "execution_count": 106,
     "metadata": {},
     "output_type": "execute_result"
    },
    {
     "data": {
      "image/png": "[encoded data removed]",
      "text/plain": [
       "<matplotlib.figure.Figure at 0x7f937b0de748>"
      ]
     },
     "metadata": {},
     "output_type": "display_data"
    }
   ],
   "source": [
    "plt.plot(C[gamma01&deg1], scores[gamma01 & deg1], 'o-', label='1')\n",
    "plt.plot(C[gamma01&deg2], scores[gamma01 & deg2], 'x-', label='2')\n",
    "\n",
    "plt.legend(title='Degree')\n",
    "plt.title('gamma: 0.01')\n",
    "plt.semilogx(2)\n",
    "plt.ylim(0.6, 2)"
   ]
  },
  {
   "cell_type": "markdown",
   "metadata": {},
   "source": [
    "### K-Nearest Neighbors"
   ]
  },
  {
   "cell_type": "code",
   "execution_count": 108,
   "metadata": {
    "collapsed": true
   },
   "outputs": [],
   "source": [
    "knn_pipe = make_pipeline(StandardScaler(), KNeighborsRegressor(weights='distance'))\n",
    "knn_grid = GridSearchCV(knn_pipe, {'kneighborsregressor__n_neighbors': np.arange(2, 21)}, \n",
    "                        cv=k10, scoring='neg_mean_squared_error', verbose=1)"
   ]
  },
  {
   "cell_type": "code",
   "execution_count": 109,
   "metadata": {
    "collapsed": false
   },
   "outputs": [
    {
     "name": "stdout",
     "output_type": "stream",
     "text": [
      "Fitting 10 folds for each of 19 candidates, totalling 190 fits\n"
     ]
    },
    {
     "name": "stderr",
     "output_type": "stream",
     "text": [
      "[Parallel(n_jobs=1)]: Done 190 out of 190 | elapsed:  1.4min finished\n"
     ]
    },
    {
     "data": {
      "text/plain": [
       "GridSearchCV(cv=KFold(n_splits=10, random_state=123, shuffle=True),\n",
       "       error_score='raise',\n",
       "       estimator=Pipeline(memory=None,\n",
       "     steps=[('standardscaler', StandardScaler(copy=True, with_mean=True, with_std=True)), ('kneighborsregressor', KNeighborsRegressor(algorithm='auto', leaf_size=30, metric='minkowski',\n",
       "          metric_params=None, n_jobs=1, n_neighbors=5, p=2,\n",
       "          weights='distance'))]),\n",
       "       fit_params=None, iid=True, n_jobs=1,\n",
       "       param_grid={'kneighborsregressor__n_neighbors': array([ 2,  3,  4,  5,  6,  7,  8,  9, 10, 11, 12, 13, 14, 15, 16, 17, 18,\n",
       "       19, 20])},\n",
       "       pre_dispatch='2*n_jobs', refit=True, return_train_score='warn',\n",
       "       scoring='neg_mean_squared_error', verbose=1)"
      ]
     },
     "execution_count": 109,
     "metadata": {},
     "output_type": "execute_result"
    }
   ],
   "source": [
    "knn_grid.fit(train, y_train.values.ravel())"
   ]
  },
  {
   "cell_type": "code",
   "execution_count": 110,
   "metadata": {
    "collapsed": false
   },
   "outputs": [
    {
     "data": {
      "text/plain": [
       "({'kneighborsregressor__n_neighbors': 8}, 0.9903728374283729)"
      ]
     },
     "execution_count": 110,
     "metadata": {},
     "output_type": "execute_result"
    }
   ],
   "source": [
    "knn_grid.best_params_, np.sqrt(-knn_grid.best_score_)"
   ]
  },
  {
   "cell_type": "code",
   "execution_count": 111,
   "metadata": {
    "collapsed": false
   },
   "outputs": [
    {
     "data": {
      "text/plain": [
       "Text(0.5,1,'KNN')"
      ]
     },
     "execution_count": 111,
     "metadata": {},
     "output_type": "execute_result"
    },
    {
     "data": {
      "image/png": "[encoded data removed]",
      "text/plain": [
       "<matplotlib.figure.Figure at 0x7f937b147f28>"
      ]
     },
     "metadata": {},
     "output_type": "display_data"
    }
   ],
   "source": [
    "scores = np.sqrt(-knn_grid.cv_results_['mean_test_score'])\n",
    "k = np.array(knn_grid.cv_results_['param_kneighborsregressor__n_neighbors'], dtype=int)\n",
    "\n",
    "plt.plot(k, scores, 'x-')\n",
    "plt.xlabel('neighbors')\n",
    "plt.ylabel('RMSE')\n",
    "plt.title('KNN')"
   ]
  },
  {
   "cell_type": "code",
   "execution_count": null,
   "metadata": {
    "collapsed": false
   },
   "outputs": [],
   "source": []
  },
  {
   "cell_type": "code",
   "execution_count": null,
   "metadata": {
    "collapsed": true
   },
   "outputs": [],
   "source": []
  }
 ],
 "metadata": {
  "kernelspec": {
   "display_name": "Python 3",
   "language": "python",
   "name": "python3"
  },
  "language_info": {
   "codemirror_mode": {
    "name": "ipython",
    "version": 3
   },
   "file_extension": ".py",
   "mimetype": "text/x-python",
   "name": "python",
   "nbconvert_exporter": "python",
   "pygments_lexer": "ipython3",
   "version": "3.5.4"
  }
 },
 "nbformat": 4,
 "nbformat_minor": 2
}
